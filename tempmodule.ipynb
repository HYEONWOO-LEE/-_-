{
 "cells": [
  {
   "cell_type": "code",
   "execution_count": 10,
   "metadata": {},
   "outputs": [],
   "source": [
    "from tkinter import *\n",
    "\n",
    "# Button 이벤트 함수 정의\n",
    "def chgCtoF():\n",
    "    global entry_2\n",
    "    c = float(entry_1.get()) # entry_1의 값 불러오기\n",
    "    f = 9.0/5.0*c+32.0\n",
    "    entry_2.delete(0, END) # entry_2의 0번째 부터 끝가지 값을 지운다\n",
    "    entry_2.insert(0, str(f)) # entry_2의 0번째 위치에 삽입한다.\n",
    "\n",
    "def chgFtoC():\n",
    "    global entry_1\n",
    "    f = float(entry_2.get())\n",
    "    c = 5.0/9.0*(f-32.0)\n",
    "    entry_1.delete(0, END)\n",
    "    entry_1.insert(0, str(c))\n",
    "\n",
    "\n",
    "def tempmodule():\n",
    "    global entry_1, entry_2 # 지역 변수를 전역 변수로 바꿔줘야 위에 함수에서도 변수를 쓸 수 있음\n",
    "    \n",
    "    window = Tk()\n",
    "    window.title('온도 변환 프로그램')\n",
    "    window.geometry('250x150')\n",
    "    \n",
    "    # 레이블 생성\n",
    "    label_1 = Label(window, text = '온도 변환 프로그램')\n",
    "    label_2 = Label(window, text = '섭씨')\n",
    "    label_3 = Label(window, text = '화씨')\n",
    "\n",
    "    # 윈도우에 레이블 붙이기\n",
    "    label_1.grid(row = 0, column = 0, columnspan = 2)\n",
    "    label_2.grid(row = 1, column = 0)\n",
    "    label_3.grid(row = 2, column = 0)\n",
    "\n",
    "    # entry 위젯 만들기\n",
    "    entry_1 = Entry(window)\n",
    "    entry_2 = Entry(window)\n",
    "\n",
    "    # 위젯을 윈도우에 배치\n",
    "    entry_1.grid(row = 1, column = 1)\n",
    "    entry_2.grid(row = 2, column = 1)\n",
    "\n",
    "    # Button 위젯 만들기\n",
    "    btn_1 = Button(window, text = '섭씨 -> 화씨', command = chgCtoF)\n",
    "    btn_2 = Button(window, text = '화씨 -> 섭씨', command = chgFtoC)\n",
    "\n",
    "    # Button 윈도우에 배치\n",
    "    btn_1.grid(row = 3, column = 0)\n",
    "    btn_2.grid(row = 3, column = 1)\n",
    "    window.mainloop()"
   ]
  },
  {
   "cell_type": "code",
   "execution_count": 11,
   "metadata": {},
   "outputs": [],
   "source": [
    "tempmodule()"
   ]
  }
 ],
 "metadata": {
  "kernelspec": {
   "display_name": "Python 3",
   "language": "python",
   "name": "python3"
  },
  "language_info": {
   "codemirror_mode": {
    "name": "ipython",
    "version": 3
   },
   "file_extension": ".py",
   "mimetype": "text/x-python",
   "name": "python",
   "nbconvert_exporter": "python",
   "pygments_lexer": "ipython3",
   "version": "3.7.4"
  }
 },
 "nbformat": 4,
 "nbformat_minor": 2
}
