{
 "cells": [
  {
   "cell_type": "markdown",
   "metadata": {},
   "source": [
    "### 딥-러닝 과정 Mulit Layer Perceptron(MLP) | 2020.02.26. "
   ]
  },
  {
   "cell_type": "markdown",
   "metadata": {},
   "source": [
    "## 세번째 실습. Keras 모델 생성/학습 - 당뇨병 예측 모델"
   ]
  },
  {
   "cell_type": "code",
   "execution_count": 1,
   "metadata": {},
   "outputs": [
    {
     "name": "stdout",
     "output_type": "stream",
     "text": [
      "Requirement already satisfied: pandas in /data/anaconda/envs/py35/lib/python3.5/site-packages (0.25.3)\n",
      "Requirement already satisfied: numpy>=1.13.3 in /data/anaconda/envs/py35/lib/python3.5/site-packages (from pandas) (1.17.3)\n",
      "Requirement already satisfied: pytz>=2017.2 in /data/anaconda/envs/py35/lib/python3.5/site-packages (from pandas) (2019.3)\n",
      "Requirement already satisfied: python-dateutil>=2.6.1 in /data/anaconda/envs/py35/lib/python3.5/site-packages (from pandas) (2.8.0)\n",
      "Requirement already satisfied: six>=1.5 in /data/anaconda/envs/py35/lib/python3.5/site-packages (from python-dateutil>=2.6.1->pandas) (1.11.0)\n",
      "\u001b[33mWARNING: You are using pip version 19.3.1; however, version 20.0.2 is available.\n",
      "You should consider upgrading via the 'pip install --upgrade pip' command.\u001b[0m\n",
      "0.25.3\n"
     ]
    }
   ],
   "source": [
    "# 1. Pandas 가져오기\n",
    "!pip install pandas\n",
    "import pandas as pd\n",
    "print(pd.__version__)"
   ]
  },
  {
   "cell_type": "code",
   "execution_count": 2,
   "metadata": {},
   "outputs": [
    {
     "data": {
      "text/html": [
       "<div>\n",
       "<style scoped>\n",
       "    .dataframe tbody tr th:only-of-type {\n",
       "        vertical-align: middle;\n",
       "    }\n",
       "\n",
       "    .dataframe tbody tr th {\n",
       "        vertical-align: top;\n",
       "    }\n",
       "\n",
       "    .dataframe thead th {\n",
       "        text-align: right;\n",
       "    }\n",
       "</style>\n",
       "<table border=\"1\" class=\"dataframe\">\n",
       "  <thead>\n",
       "    <tr style=\"text-align: right;\">\n",
       "      <th></th>\n",
       "      <th>pregnant</th>\n",
       "      <th>gloucose</th>\n",
       "      <th>blood pressure</th>\n",
       "      <th>skin thickness</th>\n",
       "      <th>insulin</th>\n",
       "      <th>BMI</th>\n",
       "      <th>DPF</th>\n",
       "      <th>age</th>\n",
       "      <th>result</th>\n",
       "    </tr>\n",
       "  </thead>\n",
       "  <tbody>\n",
       "    <tr>\n",
       "      <th>0</th>\n",
       "      <td>6</td>\n",
       "      <td>148</td>\n",
       "      <td>72</td>\n",
       "      <td>35</td>\n",
       "      <td>0</td>\n",
       "      <td>33.6</td>\n",
       "      <td>0.627</td>\n",
       "      <td>50</td>\n",
       "      <td>1</td>\n",
       "    </tr>\n",
       "    <tr>\n",
       "      <th>1</th>\n",
       "      <td>1</td>\n",
       "      <td>85</td>\n",
       "      <td>66</td>\n",
       "      <td>29</td>\n",
       "      <td>0</td>\n",
       "      <td>26.6</td>\n",
       "      <td>0.351</td>\n",
       "      <td>31</td>\n",
       "      <td>0</td>\n",
       "    </tr>\n",
       "    <tr>\n",
       "      <th>2</th>\n",
       "      <td>8</td>\n",
       "      <td>183</td>\n",
       "      <td>64</td>\n",
       "      <td>0</td>\n",
       "      <td>0</td>\n",
       "      <td>23.3</td>\n",
       "      <td>0.672</td>\n",
       "      <td>32</td>\n",
       "      <td>1</td>\n",
       "    </tr>\n",
       "    <tr>\n",
       "      <th>3</th>\n",
       "      <td>1</td>\n",
       "      <td>89</td>\n",
       "      <td>66</td>\n",
       "      <td>23</td>\n",
       "      <td>94</td>\n",
       "      <td>28.1</td>\n",
       "      <td>0.167</td>\n",
       "      <td>21</td>\n",
       "      <td>0</td>\n",
       "    </tr>\n",
       "    <tr>\n",
       "      <th>4</th>\n",
       "      <td>0</td>\n",
       "      <td>137</td>\n",
       "      <td>40</td>\n",
       "      <td>35</td>\n",
       "      <td>168</td>\n",
       "      <td>43.1</td>\n",
       "      <td>2.288</td>\n",
       "      <td>33</td>\n",
       "      <td>1</td>\n",
       "    </tr>\n",
       "  </tbody>\n",
       "</table>\n",
       "</div>"
      ],
      "text/plain": [
       "   pregnant  gloucose  blood pressure  skin thickness  insulin   BMI    DPF  \\\n",
       "0         6       148              72              35        0  33.6  0.627   \n",
       "1         1        85              66              29        0  26.6  0.351   \n",
       "2         8       183              64               0        0  23.3  0.672   \n",
       "3         1        89              66              23       94  28.1  0.167   \n",
       "4         0       137              40              35      168  43.1  2.288   \n",
       "\n",
       "   age  result  \n",
       "0   50       1  \n",
       "1   31       0  \n",
       "2   32       1  \n",
       "3   21       0  \n",
       "4   33       1  "
      ]
     },
     "execution_count": 2,
     "metadata": {},
     "output_type": "execute_result"
    }
   ],
   "source": [
    "# 2. 데이터 불러오기\n",
    "data = pd.read_csv(\"diabetes_data.csv\")\n",
    "data.head()"
   ]
  },
  {
   "cell_type": "code",
   "execution_count": 3,
   "metadata": {
    "scrolled": true
   },
   "outputs": [
    {
     "name": "stdout",
     "output_type": "stream",
     "text": [
      "<class 'pandas.core.frame.DataFrame'>\n",
      "RangeIndex: 768 entries, 0 to 767\n",
      "Data columns (total 9 columns):\n",
      "pregnant          768 non-null int64\n",
      "gloucose          768 non-null int64\n",
      "blood pressure    768 non-null int64\n",
      "skin thickness    768 non-null int64\n",
      "insulin           768 non-null int64\n",
      "BMI               768 non-null float64\n",
      "DPF               768 non-null float64\n",
      "age               768 non-null int64\n",
      "result            768 non-null int64\n",
      "dtypes: float64(2), int64(7)\n",
      "memory usage: 54.1 KB\n"
     ]
    }
   ],
   "source": [
    "data.info()"
   ]
  },
  {
   "cell_type": "code",
   "execution_count": 4,
   "metadata": {},
   "outputs": [
    {
     "data": {
      "text/html": [
       "<div>\n",
       "<style scoped>\n",
       "    .dataframe tbody tr th:only-of-type {\n",
       "        vertical-align: middle;\n",
       "    }\n",
       "\n",
       "    .dataframe tbody tr th {\n",
       "        vertical-align: top;\n",
       "    }\n",
       "\n",
       "    .dataframe thead th {\n",
       "        text-align: right;\n",
       "    }\n",
       "</style>\n",
       "<table border=\"1\" class=\"dataframe\">\n",
       "  <thead>\n",
       "    <tr style=\"text-align: right;\">\n",
       "      <th></th>\n",
       "      <th>pregnant</th>\n",
       "      <th>gloucose</th>\n",
       "      <th>blood pressure</th>\n",
       "      <th>skin thickness</th>\n",
       "      <th>insulin</th>\n",
       "      <th>BMI</th>\n",
       "      <th>DPF</th>\n",
       "      <th>age</th>\n",
       "      <th>result</th>\n",
       "    </tr>\n",
       "  </thead>\n",
       "  <tbody>\n",
       "    <tr>\n",
       "      <th>count</th>\n",
       "      <td>768.000000</td>\n",
       "      <td>768.000000</td>\n",
       "      <td>768.000000</td>\n",
       "      <td>768.000000</td>\n",
       "      <td>768.000000</td>\n",
       "      <td>768.000000</td>\n",
       "      <td>768.000000</td>\n",
       "      <td>768.000000</td>\n",
       "      <td>768.000000</td>\n",
       "    </tr>\n",
       "    <tr>\n",
       "      <th>mean</th>\n",
       "      <td>3.845052</td>\n",
       "      <td>120.894531</td>\n",
       "      <td>69.105469</td>\n",
       "      <td>20.536458</td>\n",
       "      <td>79.799479</td>\n",
       "      <td>31.992578</td>\n",
       "      <td>0.471876</td>\n",
       "      <td>33.240885</td>\n",
       "      <td>0.348958</td>\n",
       "    </tr>\n",
       "    <tr>\n",
       "      <th>std</th>\n",
       "      <td>3.369578</td>\n",
       "      <td>31.972618</td>\n",
       "      <td>19.355807</td>\n",
       "      <td>15.952218</td>\n",
       "      <td>115.244002</td>\n",
       "      <td>7.884160</td>\n",
       "      <td>0.331329</td>\n",
       "      <td>11.760232</td>\n",
       "      <td>0.476951</td>\n",
       "    </tr>\n",
       "    <tr>\n",
       "      <th>min</th>\n",
       "      <td>0.000000</td>\n",
       "      <td>0.000000</td>\n",
       "      <td>0.000000</td>\n",
       "      <td>0.000000</td>\n",
       "      <td>0.000000</td>\n",
       "      <td>0.000000</td>\n",
       "      <td>0.078000</td>\n",
       "      <td>21.000000</td>\n",
       "      <td>0.000000</td>\n",
       "    </tr>\n",
       "    <tr>\n",
       "      <th>25%</th>\n",
       "      <td>1.000000</td>\n",
       "      <td>99.000000</td>\n",
       "      <td>62.000000</td>\n",
       "      <td>0.000000</td>\n",
       "      <td>0.000000</td>\n",
       "      <td>27.300000</td>\n",
       "      <td>0.243750</td>\n",
       "      <td>24.000000</td>\n",
       "      <td>0.000000</td>\n",
       "    </tr>\n",
       "    <tr>\n",
       "      <th>50%</th>\n",
       "      <td>3.000000</td>\n",
       "      <td>117.000000</td>\n",
       "      <td>72.000000</td>\n",
       "      <td>23.000000</td>\n",
       "      <td>30.500000</td>\n",
       "      <td>32.000000</td>\n",
       "      <td>0.372500</td>\n",
       "      <td>29.000000</td>\n",
       "      <td>0.000000</td>\n",
       "    </tr>\n",
       "    <tr>\n",
       "      <th>75%</th>\n",
       "      <td>6.000000</td>\n",
       "      <td>140.250000</td>\n",
       "      <td>80.000000</td>\n",
       "      <td>32.000000</td>\n",
       "      <td>127.250000</td>\n",
       "      <td>36.600000</td>\n",
       "      <td>0.626250</td>\n",
       "      <td>41.000000</td>\n",
       "      <td>1.000000</td>\n",
       "    </tr>\n",
       "    <tr>\n",
       "      <th>max</th>\n",
       "      <td>17.000000</td>\n",
       "      <td>199.000000</td>\n",
       "      <td>122.000000</td>\n",
       "      <td>99.000000</td>\n",
       "      <td>846.000000</td>\n",
       "      <td>67.100000</td>\n",
       "      <td>2.420000</td>\n",
       "      <td>81.000000</td>\n",
       "      <td>1.000000</td>\n",
       "    </tr>\n",
       "  </tbody>\n",
       "</table>\n",
       "</div>"
      ],
      "text/plain": [
       "         pregnant    gloucose  blood pressure  skin thickness     insulin  \\\n",
       "count  768.000000  768.000000      768.000000      768.000000  768.000000   \n",
       "mean     3.845052  120.894531       69.105469       20.536458   79.799479   \n",
       "std      3.369578   31.972618       19.355807       15.952218  115.244002   \n",
       "min      0.000000    0.000000        0.000000        0.000000    0.000000   \n",
       "25%      1.000000   99.000000       62.000000        0.000000    0.000000   \n",
       "50%      3.000000  117.000000       72.000000       23.000000   30.500000   \n",
       "75%      6.000000  140.250000       80.000000       32.000000  127.250000   \n",
       "max     17.000000  199.000000      122.000000       99.000000  846.000000   \n",
       "\n",
       "              BMI         DPF         age      result  \n",
       "count  768.000000  768.000000  768.000000  768.000000  \n",
       "mean    31.992578    0.471876   33.240885    0.348958  \n",
       "std      7.884160    0.331329   11.760232    0.476951  \n",
       "min      0.000000    0.078000   21.000000    0.000000  \n",
       "25%     27.300000    0.243750   24.000000    0.000000  \n",
       "50%     32.000000    0.372500   29.000000    0.000000  \n",
       "75%     36.600000    0.626250   41.000000    1.000000  \n",
       "max     67.100000    2.420000   81.000000    1.000000  "
      ]
     },
     "execution_count": 4,
     "metadata": {},
     "output_type": "execute_result"
    }
   ],
   "source": [
    "data.describe()"
   ]
  },
  {
   "cell_type": "code",
   "execution_count": 5,
   "metadata": {},
   "outputs": [
    {
     "name": "stdout",
     "output_type": "stream",
     "text": [
      "(768, 8)\n",
      "(768,)\n"
     ]
    }
   ],
   "source": [
    "# 3. X/y 나누기\n",
    "#X = data.loc[:,['pregnant', 'gloucose', 'blood pressure', 'skin thickness', 'insulin', 'BMI', 'DPF', 'age']]\n",
    "X = data.iloc[:,:-1].values\n",
    "y = data.iloc[:,-1].values\n",
    "print(X.shape)\n",
    "print(y.shape)"
   ]
  },
  {
   "cell_type": "code",
   "execution_count": 6,
   "metadata": {},
   "outputs": [
    {
     "data": {
      "text/plain": [
       "array([1, 0, 1, 0, 1, 0, 1, 0, 1, 1, 0, 1, 0, 1, 1, 1, 1, 1, 0, 1, 0, 0,\n",
       "       1, 1, 1, 1, 1, 0, 0, 0, 0, 1, 0, 0, 0, 0, 0, 1, 1, 1, 0, 0, 0, 1,\n",
       "       0, 1, 0, 0, 1, 0, 0, 0, 0, 1, 0, 0, 1, 0, 0, 0, 0, 1, 0, 0, 1, 0,\n",
       "       1, 0, 0, 0, 1, 0, 1, 0, 0, 0, 0, 0, 1, 0, 0, 0, 0, 0, 1, 0, 0, 0,\n",
       "       1, 0, 0, 0, 0, 1, 0, 0, 0, 0, 0, 1, 1, 0, 0, 0, 0, 0, 0, 0, 0, 1,\n",
       "       1, 1, 0, 0, 1, 1, 1, 0, 0, 0, 1, 0, 0, 0, 1, 1, 0, 0, 1, 1, 1, 1,\n",
       "       1, 0, 0, 0, 0, 0, 0, 0, 0, 0, 0, 1, 0, 0, 0, 0, 0, 0, 0, 0, 1, 0,\n",
       "       1, 1, 0, 0, 0, 1, 0, 0, 0, 0, 1, 1, 0, 0, 0, 0, 1, 1, 0, 0, 0, 1,\n",
       "       0, 1, 0, 1, 0, 0, 0, 0, 0, 1, 1, 1, 1, 1, 0, 0, 1, 1, 0, 1, 0, 1,\n",
       "       1, 1, 0, 0, 0, 0, 0, 0, 1, 1, 0, 1, 0, 0, 0, 1, 1, 1, 1, 0, 1, 1,\n",
       "       1, 1, 0, 0, 0, 0, 0, 1, 0, 0, 1, 1, 0, 0, 0, 1, 1, 1, 1, 0, 0, 0,\n",
       "       1, 1, 0, 1, 0, 0, 0, 0, 0, 0, 0, 0, 1, 1, 0, 0, 0, 1, 0, 1, 0, 0,\n",
       "       1, 0, 1, 0, 0, 1, 1, 0, 0, 0, 0, 0, 1, 0, 0, 0, 1, 0, 0, 1, 1, 0,\n",
       "       0, 1, 0, 0, 0, 1, 1, 1, 0, 0, 1, 0, 1, 0, 1, 1, 0, 1, 0, 0, 1, 0,\n",
       "       1, 1, 0, 0, 1, 0, 1, 0, 0, 1, 0, 1, 0, 1, 1, 1, 0, 0, 1, 0, 1, 0,\n",
       "       0, 0, 1, 0, 0, 0, 0, 1, 1, 1, 0, 0, 0, 0, 0, 0, 0, 0, 0, 1, 0, 0,\n",
       "       0, 0, 0, 1, 1, 1, 0, 1, 1, 0, 0, 1, 0, 0, 1, 0, 0, 1, 1, 0, 0, 0,\n",
       "       0, 1, 0, 0, 1, 0, 0, 0, 0, 0, 0, 0, 1, 1, 1, 0, 0, 1, 0, 0, 1, 0,\n",
       "       0, 1, 0, 1, 1, 0, 1, 0, 1, 0, 1, 0, 1, 1, 0, 0, 0, 0, 1, 1, 0, 1,\n",
       "       0, 1, 0, 0, 0, 0, 1, 1, 0, 1, 0, 1, 0, 0, 0, 0, 0, 1, 0, 0, 0, 0,\n",
       "       1, 0, 0, 1, 1, 1, 0, 0, 1, 0, 0, 1, 0, 0, 0, 1, 0, 0, 1, 0, 0, 0,\n",
       "       0, 0, 0, 0, 0, 0, 1, 0, 0, 0, 0, 0, 0, 0, 1, 0, 0, 0, 1, 0, 0, 0,\n",
       "       1, 1, 0, 0, 0, 0, 0, 0, 0, 1, 0, 0, 0, 0, 1, 0, 0, 0, 1, 0, 0, 0,\n",
       "       1, 0, 0, 0, 1, 0, 0, 0, 0, 1, 1, 0, 0, 0, 0, 0, 0, 1, 0, 0, 0, 0,\n",
       "       0, 0, 0, 0, 0, 0, 0, 1, 0, 0, 0, 1, 1, 1, 1, 0, 0, 1, 1, 0, 0, 0,\n",
       "       0, 0, 0, 0, 0, 0, 0, 0, 0, 0, 1, 1, 0, 0, 0, 0, 0, 0, 0, 1, 0, 0,\n",
       "       0, 0, 0, 0, 0, 1, 0, 1, 1, 0, 0, 0, 1, 0, 1, 0, 1, 0, 1, 0, 1, 0,\n",
       "       0, 1, 0, 0, 1, 0, 0, 0, 0, 1, 1, 0, 1, 0, 0, 0, 0, 1, 1, 0, 1, 0,\n",
       "       0, 0, 1, 1, 0, 0, 0, 0, 0, 0, 0, 0, 0, 0, 1, 0, 0, 0, 0, 1, 0, 0,\n",
       "       1, 0, 0, 0, 1, 0, 0, 0, 1, 1, 1, 0, 0, 0, 0, 0, 0, 1, 0, 0, 0, 1,\n",
       "       0, 1, 1, 1, 1, 0, 1, 1, 0, 0, 0, 0, 0, 0, 0, 1, 1, 0, 1, 0, 0, 1,\n",
       "       0, 1, 0, 0, 0, 0, 0, 1, 0, 1, 0, 1, 0, 1, 1, 0, 0, 0, 0, 1, 1, 0,\n",
       "       0, 0, 1, 0, 1, 1, 0, 0, 1, 0, 0, 1, 1, 0, 0, 1, 0, 0, 1, 0, 0, 0,\n",
       "       0, 0, 0, 0, 1, 1, 1, 0, 0, 0, 0, 0, 0, 1, 1, 0, 0, 1, 0, 0, 1, 0,\n",
       "       1, 1, 1, 0, 0, 1, 1, 1, 0, 1, 0, 1, 0, 1, 0, 0, 0, 0, 1, 0])"
      ]
     },
     "execution_count": 6,
     "metadata": {},
     "output_type": "execute_result"
    }
   ],
   "source": [
    "y"
   ]
  },
  {
   "cell_type": "code",
   "execution_count": 7,
   "metadata": {},
   "outputs": [],
   "source": [
    "# 4. Train set, Test set 나누기\n",
    "from sklearn.model_selection import train_test_split\n",
    "X_train, X_test, y_train, y_test = train_test_split(X,y, test_size = 0.3, random_state = 9)\n",
    "\n",
    "X_val, X_test, y_val, y_test = train_test_split(X_test, y_test, test_size=0.5, random_state=5)"
   ]
  },
  {
   "cell_type": "code",
   "execution_count": 8,
   "metadata": {},
   "outputs": [
    {
     "name": "stdout",
     "output_type": "stream",
     "text": [
      "(537, 8)\n",
      "(116, 8)\n",
      "(115, 8)\n",
      "(537,)\n",
      "(116,)\n",
      "(115,)\n"
     ]
    }
   ],
   "source": [
    "print(X_train.shape)\n",
    "print(X_test.shape)\n",
    "print(X_val.shape)\n",
    "print(y_train.shape)\n",
    "print(y_test.shape)\n",
    "print(y_val.shape)"
   ]
  },
  {
   "cell_type": "code",
   "execution_count": 9,
   "metadata": {},
   "outputs": [
    {
     "name": "stderr",
     "output_type": "stream",
     "text": [
      "Using TensorFlow backend.\n"
     ]
    },
    {
     "name": "stdout",
     "output_type": "stream",
     "text": [
      "2.3.1\n"
     ]
    }
   ],
   "source": [
    "# 5. Keras 패키지 가져오기\n",
    "import keras\n",
    "from keras.models import Sequential\n",
    "from keras.layers import Dense, Dropout\n",
    "\n",
    "print(keras.__version__)"
   ]
  },
  {
   "cell_type": "code",
   "execution_count": 21,
   "metadata": {},
   "outputs": [
    {
     "name": "stdout",
     "output_type": "stream",
     "text": [
      "Model: \"sequential_3\"\n",
      "_________________________________________________________________\n",
      "Layer (type)                 Output Shape              Param #   \n",
      "=================================================================\n",
      "dense_9 (Dense)              (None, 16)                144       \n",
      "_________________________________________________________________\n",
      "dense_10 (Dense)             (None, 32)                544       \n",
      "_________________________________________________________________\n",
      "dense_11 (Dense)             (None, 16)                528       \n",
      "_________________________________________________________________\n",
      "dense_12 (Dense)             (None, 8)                 136       \n",
      "_________________________________________________________________\n",
      "dense_13 (Dense)             (None, 1)                 9         \n",
      "=================================================================\n",
      "Total params: 1,361\n",
      "Trainable params: 1,361\n",
      "Non-trainable params: 0\n",
      "_________________________________________________________________\n",
      "None\n"
     ]
    }
   ],
   "source": [
    "# 6. MLP 모델 생성\n",
    "model = Sequential()\n",
    "model.add(Dense(16 , input_dim =8 , activation='relu'))\n",
    "model.add(Dense(32, activation='relu'))\n",
    "#model.add(Dropout(0.3))\n",
    "model.add(Dense(16, activation='relu'))\n",
    "model.add(Dense(8, activation='relu'))\n",
    "model.add(Dense(1, activation='sigmoid'))\n",
    "\n",
    "print(model.summary())"
   ]
  },
  {
   "cell_type": "code",
   "execution_count": 11,
   "metadata": {},
   "outputs": [],
   "source": [
    "#!pip install GraphViz\n",
    "#!pip install pydot\n",
    "\n",
    "#from keras.utils.vis_utils import plot_model\n",
    "#plot_model(model, show_shapes = True, show_layer_names = True)"
   ]
  },
  {
   "cell_type": "code",
   "execution_count": 22,
   "metadata": {},
   "outputs": [],
   "source": [
    "# 7. Compile - Optimizer, Loss function 설정\n",
    "model.compile(loss = 'binary_crossentropy', optimizer='adam', metrics=['accuracy'])"
   ]
  },
  {
   "cell_type": "code",
   "execution_count": 24,
   "metadata": {},
   "outputs": [
    {
     "name": "stdout",
     "output_type": "stream",
     "text": [
      "Train on 537 samples, validate on 115 samples\n",
      "Epoch 1/200\n",
      "416/537 [======================>.......] - ETA: 0s - loss: 0.6065 - accuracy: 0.6779"
     ]
    },
    {
     "name": "stderr",
     "output_type": "stream",
     "text": [
      "/anaconda/envs/py35/lib/python3.5/site-packages/ipykernel/__main__.py:6: UserWarning: The `nb_epoch` argument in `fit` has been renamed `epochs`.\n"
     ]
    },
    {
     "name": "stdout",
     "output_type": "stream",
     "text": [
      "537/537 [==============================] - 0s 419us/step - loss: 0.6155 - accuracy: 0.6704 - val_loss: 0.6124 - val_accuracy: 0.6609\n",
      "Epoch 2/200\n",
      "537/537 [==============================] - 0s 420us/step - loss: 0.6184 - accuracy: 0.6723 - val_loss: 0.6562 - val_accuracy: 0.6348\n",
      "Epoch 3/200\n",
      "537/537 [==============================] - 0s 419us/step - loss: 0.6230 - accuracy: 0.6462 - val_loss: 0.6045 - val_accuracy: 0.6609\n",
      "Epoch 4/200\n",
      "537/537 [==============================] - 0s 419us/step - loss: 0.5992 - accuracy: 0.6741 - val_loss: 0.6257 - val_accuracy: 0.6435\n",
      "Epoch 5/200\n",
      "537/537 [==============================] - 0s 420us/step - loss: 0.5952 - accuracy: 0.7039 - val_loss: 0.6224 - val_accuracy: 0.6348\n",
      "Epoch 6/200\n",
      "537/537 [==============================] - 0s 420us/step - loss: 0.5876 - accuracy: 0.6909 - val_loss: 0.6373 - val_accuracy: 0.6261\n",
      "Epoch 7/200\n",
      "537/537 [==============================] - 0s 419us/step - loss: 0.6067 - accuracy: 0.6778 - val_loss: 0.5880 - val_accuracy: 0.6696\n",
      "Epoch 8/200\n",
      "537/537 [==============================] - 0s 419us/step - loss: 0.5896 - accuracy: 0.6816 - val_loss: 0.6026 - val_accuracy: 0.6087\n",
      "Epoch 9/200\n",
      "537/537 [==============================] - 0s 425us/step - loss: 0.6005 - accuracy: 0.6667 - val_loss: 0.5982 - val_accuracy: 0.6435\n",
      "Epoch 10/200\n",
      "537/537 [==============================] - 0s 415us/step - loss: 0.5945 - accuracy: 0.6872 - val_loss: 0.5868 - val_accuracy: 0.6870\n",
      "Epoch 11/200\n",
      "537/537 [==============================] - 0s 418us/step - loss: 0.5920 - accuracy: 0.6723 - val_loss: 0.5957 - val_accuracy: 0.6522\n",
      "Epoch 12/200\n",
      "537/537 [==============================] - 0s 417us/step - loss: 0.5856 - accuracy: 0.6816 - val_loss: 0.5992 - val_accuracy: 0.6522\n",
      "Epoch 13/200\n",
      "537/537 [==============================] - 0s 425us/step - loss: 0.5715 - accuracy: 0.6890 - val_loss: 0.6058 - val_accuracy: 0.6174\n",
      "Epoch 14/200\n",
      "537/537 [==============================] - 0s 431us/step - loss: 0.5734 - accuracy: 0.7132 - val_loss: 0.6166 - val_accuracy: 0.6261\n",
      "Epoch 15/200\n",
      "537/537 [==============================] - 0s 422us/step - loss: 0.5698 - accuracy: 0.7188 - val_loss: 0.6406 - val_accuracy: 0.6522\n",
      "Epoch 16/200\n",
      "537/537 [==============================] - 0s 415us/step - loss: 0.5841 - accuracy: 0.7020 - val_loss: 0.6227 - val_accuracy: 0.6609\n",
      "Epoch 17/200\n",
      "537/537 [==============================] - 0s 450us/step - loss: 0.5700 - accuracy: 0.6983 - val_loss: 0.6062 - val_accuracy: 0.6522\n",
      "Epoch 18/200\n",
      "537/537 [==============================] - 0s 422us/step - loss: 0.5635 - accuracy: 0.7356 - val_loss: 0.6543 - val_accuracy: 0.6348\n",
      "Epoch 19/200\n",
      "537/537 [==============================] - 0s 419us/step - loss: 0.5783 - accuracy: 0.6890 - val_loss: 0.6490 - val_accuracy: 0.6348\n",
      "Epoch 20/200\n",
      "537/537 [==============================] - 0s 419us/step - loss: 0.5528 - accuracy: 0.7188 - val_loss: 0.5932 - val_accuracy: 0.6435\n",
      "Epoch 21/200\n",
      "537/537 [==============================] - 0s 418us/step - loss: 0.5485 - accuracy: 0.7244 - val_loss: 0.6063 - val_accuracy: 0.6696\n",
      "Epoch 22/200\n",
      "537/537 [==============================] - 0s 419us/step - loss: 0.5577 - accuracy: 0.7169 - val_loss: 0.5991 - val_accuracy: 0.6783\n",
      "Epoch 23/200\n",
      "537/537 [==============================] - 0s 417us/step - loss: 0.5523 - accuracy: 0.7095 - val_loss: 0.6664 - val_accuracy: 0.6609\n",
      "Epoch 24/200\n",
      "537/537 [==============================] - 0s 420us/step - loss: 0.5569 - accuracy: 0.7281 - val_loss: 0.6208 - val_accuracy: 0.6522\n",
      "Epoch 25/200\n",
      "537/537 [==============================] - 0s 418us/step - loss: 0.5517 - accuracy: 0.7020 - val_loss: 0.6323 - val_accuracy: 0.6522\n",
      "Epoch 26/200\n",
      "537/537 [==============================] - 0s 428us/step - loss: 0.5433 - accuracy: 0.7244 - val_loss: 0.6634 - val_accuracy: 0.6174\n",
      "Epoch 27/200\n",
      "537/537 [==============================] - 0s 418us/step - loss: 0.5596 - accuracy: 0.7114 - val_loss: 0.5853 - val_accuracy: 0.6609\n",
      "Epoch 28/200\n",
      "537/537 [==============================] - 0s 422us/step - loss: 0.5474 - accuracy: 0.7151 - val_loss: 0.6207 - val_accuracy: 0.6870\n",
      "Epoch 29/200\n",
      "537/537 [==============================] - 0s 422us/step - loss: 0.5360 - accuracy: 0.7356 - val_loss: 0.6912 - val_accuracy: 0.6174\n",
      "Epoch 30/200\n",
      "537/537 [==============================] - 0s 437us/step - loss: 0.5433 - accuracy: 0.7318 - val_loss: 0.6297 - val_accuracy: 0.6696\n",
      "Epoch 31/200\n",
      "537/537 [==============================] - 0s 420us/step - loss: 0.5417 - accuracy: 0.7188 - val_loss: 0.5982 - val_accuracy: 0.6522\n",
      "Epoch 32/200\n",
      "537/537 [==============================] - 0s 440us/step - loss: 0.5282 - accuracy: 0.7393 - val_loss: 0.6183 - val_accuracy: 0.6870\n",
      "Epoch 33/200\n",
      "537/537 [==============================] - 0s 428us/step - loss: 0.5261 - accuracy: 0.7207 - val_loss: 0.6059 - val_accuracy: 0.6870\n",
      "Epoch 34/200\n",
      "537/537 [==============================] - 0s 418us/step - loss: 0.5280 - accuracy: 0.7467 - val_loss: 0.6357 - val_accuracy: 0.6609\n",
      "Epoch 35/200\n",
      "537/537 [==============================] - 0s 418us/step - loss: 0.5374 - accuracy: 0.7281 - val_loss: 0.6173 - val_accuracy: 0.6609\n",
      "Epoch 36/200\n",
      "537/537 [==============================] - 0s 426us/step - loss: 0.5351 - accuracy: 0.7542 - val_loss: 0.6171 - val_accuracy: 0.6870\n",
      "Epoch 37/200\n",
      "537/537 [==============================] - 0s 418us/step - loss: 0.5184 - accuracy: 0.7337 - val_loss: 0.6282 - val_accuracy: 0.6609\n",
      "Epoch 38/200\n",
      "537/537 [==============================] - 0s 422us/step - loss: 0.5270 - accuracy: 0.7430 - val_loss: 0.6152 - val_accuracy: 0.6783\n",
      "Epoch 39/200\n",
      "537/537 [==============================] - 0s 417us/step - loss: 0.5427 - accuracy: 0.7207 - val_loss: 0.6824 - val_accuracy: 0.6435\n",
      "Epoch 40/200\n",
      "537/537 [==============================] - 0s 427us/step - loss: 0.5318 - accuracy: 0.7449 - val_loss: 0.6280 - val_accuracy: 0.6696\n",
      "Epoch 41/200\n",
      "537/537 [==============================] - 0s 424us/step - loss: 0.5124 - accuracy: 0.7523 - val_loss: 0.6450 - val_accuracy: 0.6783\n",
      "Epoch 42/200\n",
      "537/537 [==============================] - 0s 420us/step - loss: 0.5242 - accuracy: 0.7393 - val_loss: 0.6449 - val_accuracy: 0.6522\n",
      "Epoch 43/200\n",
      "537/537 [==============================] - 0s 417us/step - loss: 0.5299 - accuracy: 0.7486 - val_loss: 0.6376 - val_accuracy: 0.6870\n",
      "Epoch 44/200\n",
      "537/537 [==============================] - 0s 423us/step - loss: 0.5152 - accuracy: 0.7393 - val_loss: 0.6253 - val_accuracy: 0.6696\n",
      "Epoch 45/200\n",
      "537/537 [==============================] - 0s 416us/step - loss: 0.5144 - accuracy: 0.7635 - val_loss: 0.6218 - val_accuracy: 0.6957\n",
      "Epoch 46/200\n",
      "537/537 [==============================] - 0s 427us/step - loss: 0.5115 - accuracy: 0.7579 - val_loss: 0.6135 - val_accuracy: 0.7130\n",
      "Epoch 47/200\n",
      "537/537 [==============================] - 0s 419us/step - loss: 0.5050 - accuracy: 0.7598 - val_loss: 0.6363 - val_accuracy: 0.6696\n"
     ]
    }
   ],
   "source": [
    "# 8. 학습시키기\n",
    "\n",
    "from keras.callbacks import EarlyStopping\n",
    "\n",
    "early_stop = EarlyStopping(patience=20)\n",
    "history = model.fit(X_train, y_train, batch_size=8, nb_epoch = 200, validation_data=(X_val, y_val), verbose=1, callbacks=[early_stop])"
   ]
  },
  {
   "cell_type": "code",
   "execution_count": 19,
   "metadata": {},
   "outputs": [
    {
     "name": "stdout",
     "output_type": "stream",
     "text": [
      "537/537 [==============================] - 0s 37us/step\n",
      "116/116 [==============================] - 0s 42us/step\n",
      "train_acc:  [0.44362243671435, 0.7802606821060181]\n",
      "test_acc:  [0.6066597679565693, 0.7241379022598267]\n"
     ]
    }
   ],
   "source": [
    "# 9. 모델 평가하기\n",
    "train_acc = model.evaluate(X_train, y_train)\n",
    "test_acc = model.evaluate(X_test, y_test)\n",
    "\n",
    "print('train_acc: ', train_acc)\n",
    "print('test_acc: ', test_acc)"
   ]
  },
  {
   "cell_type": "code",
   "execution_count": 25,
   "metadata": {},
   "outputs": [
    {
     "data": {
      "image/png": "[encoded data removed]",
      "text/plain": [
       "<Figure size 432x288 with 1 Axes>"
      ]
     },
     "metadata": {
      "needs_background": "light"
     },
     "output_type": "display_data"
    },
    {
     "data": {
      "image/png": "[encoded data removed]",
      "text/plain": [
       "<Figure size 432x288 with 1 Axes>"
      ]
     },
     "metadata": {
      "needs_background": "light"
     },
     "output_type": "display_data"
    }
   ],
   "source": [
    "# 10. 학습 시각화하기\n",
    "#!pip install matplotlib\n",
    "\n",
    "import matplotlib.pyplot as plt\n",
    "\n",
    "plt.plot(history.history['accuracy'])\n",
    "plt.plot(history.history['val_accuracy'])\n",
    "plt.title(\"Accuracy\")\n",
    "plt.ylabel('accuacy')\n",
    "plt.xlabel('epoch')\n",
    "plt.legend(['train', 'val'], loc = 'upper left')\n",
    "plt.show()\n",
    "\n",
    "plt.plot(history.history['loss'])\n",
    "plt.plot(history.history['val_loss'])\n",
    "plt.title('Loss')\n",
    "plt.ylabel('loss')\n",
    "plt.xlabel('epoch')\n",
    "plt.legend(['train', 'val'], loc = 'upper left')\n",
    "plt.show()"
   ]
  },
  {
   "cell_type": "code",
   "execution_count": 26,
   "metadata": {},
   "outputs": [],
   "source": [
    "# 11 모델 저장\n",
    "\n",
    "model_path = 'diabet_model.h5'\n",
    "model.save(model_path)"
   ]
  },
  {
   "cell_type": "code",
   "execution_count": 27,
   "metadata": {},
   "outputs": [],
   "source": [
    "# 12 모델 불러이고\n",
    "\n",
    "from keras.models import load_model\n",
    "\n",
    "loaded_model = load_model(model_path)"
   ]
  },
  {
   "cell_type": "code",
   "execution_count": 29,
   "metadata": {},
   "outputs": [
    {
     "name": "stdout",
     "output_type": "stream",
     "text": [
      "Model: \"sequential_3\"\n",
      "_________________________________________________________________\n",
      "Layer (type)                 Output Shape              Param #   \n",
      "=================================================================\n",
      "dense_9 (Dense)              (None, 16)                144       \n",
      "_________________________________________________________________\n",
      "dense_10 (Dense)             (None, 32)                544       \n",
      "_________________________________________________________________\n",
      "dense_11 (Dense)             (None, 16)                528       \n",
      "_________________________________________________________________\n",
      "dense_12 (Dense)             (None, 8)                 136       \n",
      "_________________________________________________________________\n",
      "dense_13 (Dense)             (None, 1)                 9         \n",
      "=================================================================\n",
      "Total params: 1,361\n",
      "Trainable params: 1,361\n",
      "Non-trainable params: 0\n",
      "_________________________________________________________________\n",
      "None\n"
     ]
    }
   ],
   "source": [
    "print(loaded_model.summary())"
   ]
  },
  {
   "cell_type": "code",
   "execution_count": null,
   "metadata": {},
   "outputs": [],
   "source": []
  }
 ],
 "metadata": {
  "kernelspec": {
   "display_name": "Python 3.5",
   "language": "python",
   "name": "python3"
  },
  "language_info": {
   "codemirror_mode": {
    "name": "ipython",
    "version": 3
   },
   "file_extension": ".py",
   "mimetype": "text/x-python",
   "name": "python",
   "nbconvert_exporter": "python",
   "pygments_lexer": "ipython3",
   "version": "3.5.6"
  }
 },
 "nbformat": 4,
 "nbformat_minor": 2
}
