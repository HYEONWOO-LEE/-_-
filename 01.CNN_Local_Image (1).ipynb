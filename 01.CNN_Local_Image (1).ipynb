{
 "cells": [
  {
   "cell_type": "markdown",
   "metadata": {},
   "source": [
    "### 딥-러닝 과정 CNN | 2020.02.28. "
   ]
  },
  {
   "cell_type": "markdown",
   "metadata": {},
   "source": [
    "### 실습. Keras 모델 생성/학습 - 로컬 이미지로 CNN 학습"
   ]
  },
  {
   "cell_type": "code",
   "execution_count": 1,
   "metadata": {},
   "outputs": [],
   "source": [
    "# 1. zip 파일 압축 풀기\n",
    "\n",
    "import zipfile\n",
    "with zipfile.ZipFile('data_set.zip', 'r') as zip_ref:\n",
    "    zip_ref.extractall('data_set')"
   ]
  },
  {
   "cell_type": "code",
   "execution_count": 2,
   "metadata": {},
   "outputs": [
    {
     "name": "stderr",
     "output_type": "stream",
     "text": [
      "Using TensorFlow backend.\n"
     ]
    },
    {
     "name": "stdout",
     "output_type": "stream",
     "text": [
      "Found 300 images belonging to 3 classes.\n",
      "Found 60 images belonging to 3 classes.\n"
     ]
    }
   ],
   "source": [
    "# 2. 데이터 가져오기\n",
    "\n",
    "from keras.preprocessing.image import ImageDataGenerator\n",
    "\n",
    "# 훈련셋\n",
    "train_datagen = ImageDataGenerator(rescale=1./255)\n",
    "\n",
    "train_generator = train_datagen.flow_from_directory('data_set/train',\n",
    "                                                    target_size=(28, 28),\n",
    "                                                    batch_size=10,\n",
    "                                                    class_mode='categorical')\n",
    "\n",
    "# 평가셋\n",
    "test_datagen = ImageDataGenerator(rescale=1./255)\n",
    "\n",
    "test_generator = test_datagen.flow_from_directory('data_set/test',\n",
    "                                                  target_size=(28, 28),    \n",
    "                                                  batch_size=10,\n",
    "                                                  class_mode='categorical')"
   ]
  },
  {
   "cell_type": "code",
   "execution_count": 3,
   "metadata": {},
   "outputs": [],
   "source": [
    "# 3. 패키지 호출\n",
    "import numpy as np\n",
    "from keras.models import Sequential\n",
    "from keras.layers import Dense\n",
    "from keras.layers import Flatten\n",
    "from keras.layers.convolutional import Conv2D\n",
    "from keras.layers.convolutional import MaxPooling2D\n"
   ]
  },
  {
   "cell_type": "code",
   "execution_count": null,
   "metadata": {},
   "outputs": [],
   "source": [
    "# 4. 모델 구성하기\n",
    "\n",
    "model = Sequential()\n",
    "model.add(Conv2D(32, kernel_size=(3, 3),\n",
    "                activation='relu',\n",
    "                input_shape=(28, 28, 3)))\n",
    "model.add(Conv2D(64, (3, 3), activation='relu'))\n",
    "model.add(MaxPooling2D(pool_size=(2, 2)))\n",
    "model.add(Flatten())\n",
    "model.add(Dense(128, activation='relu'))\n",
    "model.add(Dense(3, activation='softmax'))\n",
    "\n",
    "print(model.summary())"
   ]
  },
  {
   "cell_type": "code",
   "execution_count": 5,
   "metadata": {},
   "outputs": [],
   "source": [
    "# 5. 모델 학습과정 설정하기\n",
    "\n",
    "model.compile(loss='categorical_crossentropy', optimizer='adam', metrics=['accuracy'])"
   ]
  },
  {
   "cell_type": "code",
   "execution_count": 12,
   "metadata": {},
   "outputs": [
    {
     "name": "stdout",
     "output_type": "stream",
     "text": [
      "Epoch 1/50\n",
      "30/30 [==============================] - 0s 8ms/step - loss: 2.9802e-08 - accuracy: 1.0000 - val_loss: 7.1178e-05 - val_accuracy: 1.0000\n",
      "Epoch 2/50\n",
      "30/30 [==============================] - 0s 8ms/step - loss: 2.7418e-08 - accuracy: 1.0000 - val_loss: 4.7684e-08 - val_accuracy: 1.0000\n",
      "Epoch 3/50\n",
      "30/30 [==============================] - 0s 8ms/step - loss: 2.9405e-08 - accuracy: 1.0000 - val_loss: 1.7132e-04 - val_accuracy: 1.0000\n",
      "Epoch 4/50\n",
      "30/30 [==============================] - 0s 8ms/step - loss: 2.7815e-08 - accuracy: 1.0000 - val_loss: 0.0049 - val_accuracy: 1.0000\n",
      "Epoch 5/50\n",
      "30/30 [==============================] - 0s 8ms/step - loss: 2.6226e-08 - accuracy: 1.0000 - val_loss: 3.7669e-06 - val_accuracy: 1.0000\n",
      "Epoch 6/50\n",
      "30/30 [==============================] - 0s 8ms/step - loss: 2.7815e-08 - accuracy: 1.0000 - val_loss: 2.2117e-04 - val_accuracy: 1.0000\n",
      "Epoch 7/50\n",
      "30/30 [==============================] - 0s 8ms/step - loss: 2.5034e-08 - accuracy: 1.0000 - val_loss: 1.1921e-08 - val_accuracy: 1.0000\n",
      "Epoch 8/50\n",
      "30/30 [==============================] - 0s 8ms/step - loss: 2.5431e-08 - accuracy: 1.0000 - val_loss: 7.1526e-08 - val_accuracy: 1.0000\n",
      "Epoch 9/50\n",
      "30/30 [==============================] - 0s 8ms/step - loss: 2.6226e-08 - accuracy: 1.0000 - val_loss: 1.5990e-04 - val_accuracy: 1.0000\n",
      "Epoch 10/50\n",
      "30/30 [==============================] - 0s 8ms/step - loss: 2.3444e-08 - accuracy: 1.0000 - val_loss: 7.3051e-05 - val_accuracy: 1.0000\n",
      "Epoch 11/50\n",
      "30/30 [==============================] - 0s 8ms/step - loss: 2.3047e-08 - accuracy: 1.0000 - val_loss: 4.4107e-07 - val_accuracy: 1.0000\n",
      "Epoch 12/50\n",
      "30/30 [==============================] - 0s 8ms/step - loss: 2.2252e-08 - accuracy: 1.0000 - val_loss: 2.6251e-04 - val_accuracy: 1.0000\n",
      "Epoch 13/50\n",
      "30/30 [==============================] - 0s 8ms/step - loss: 2.2650e-08 - accuracy: 1.0000 - val_loss: 0.0054 - val_accuracy: 1.0000\n",
      "Epoch 14/50\n",
      "30/30 [==============================] - 0s 8ms/step - loss: 2.2252e-08 - accuracy: 1.0000 - val_loss: 9.5367e-08 - val_accuracy: 1.0000\n",
      "Epoch 15/50\n",
      "30/30 [==============================] - 0s 8ms/step - loss: 2.1458e-08 - accuracy: 1.0000 - val_loss: 4.0531e-07 - val_accuracy: 1.0000\n",
      "Epoch 16/50\n",
      "30/30 [==============================] - 0s 7ms/step - loss: 2.1060e-08 - accuracy: 1.0000 - val_loss: 9.5367e-08 - val_accuracy: 1.0000\n",
      "Epoch 17/50\n",
      "30/30 [==============================] - 0s 8ms/step - loss: 2.1458e-08 - accuracy: 1.0000 - val_loss: 5.9605e-08 - val_accuracy: 1.0000\n",
      "Epoch 18/50\n",
      "30/30 [==============================] - 0s 8ms/step - loss: 1.9471e-08 - accuracy: 1.0000 - val_loss: 0.0050 - val_accuracy: 1.0000\n",
      "Epoch 19/50\n",
      "30/30 [==============================] - 0s 8ms/step - loss: 2.0266e-08 - accuracy: 1.0000 - val_loss: 2.8302e-04 - val_accuracy: 1.0000\n",
      "Epoch 20/50\n",
      "30/30 [==============================] - 0s 8ms/step - loss: 1.9471e-08 - accuracy: 1.0000 - val_loss: 0.0000e+00 - val_accuracy: 1.0000\n",
      "Epoch 21/50\n",
      "30/30 [==============================] - 0s 8ms/step - loss: 2.0663e-08 - accuracy: 1.0000 - val_loss: 0.0059 - val_accuracy: 1.0000\n",
      "Epoch 22/50\n",
      "30/30 [==============================] - 0s 8ms/step - loss: 1.9471e-08 - accuracy: 1.0000 - val_loss: 8.4079e-05 - val_accuracy: 1.0000\n",
      "Epoch 23/50\n",
      "30/30 [==============================] - 0s 8ms/step - loss: 1.8279e-08 - accuracy: 1.0000 - val_loss: 3.0645e-04 - val_accuracy: 1.0000\n",
      "Epoch 24/50\n",
      "30/30 [==============================] - 0s 8ms/step - loss: 1.9073e-08 - accuracy: 1.0000 - val_loss: 2.2713e-04 - val_accuracy: 1.0000\n",
      "Epoch 25/50\n",
      "30/30 [==============================] - 0s 8ms/step - loss: 1.8279e-08 - accuracy: 1.0000 - val_loss: 3.2186e-07 - val_accuracy: 1.0000\n",
      "Epoch 26/50\n",
      "30/30 [==============================] - 0s 8ms/step - loss: 1.7484e-08 - accuracy: 1.0000 - val_loss: 5.7100e-06 - val_accuracy: 1.0000\n",
      "Epoch 27/50\n",
      "30/30 [==============================] - 0s 8ms/step - loss: 1.7484e-08 - accuracy: 1.0000 - val_loss: 8.3446e-08 - val_accuracy: 1.0000\n",
      "Epoch 28/50\n",
      "30/30 [==============================] - 0s 8ms/step - loss: 1.9073e-08 - accuracy: 1.0000 - val_loss: 5.9603e-06 - val_accuracy: 1.0000\n",
      "Epoch 29/50\n",
      "30/30 [==============================] - 0s 8ms/step - loss: 1.9073e-08 - accuracy: 1.0000 - val_loss: 2.2650e-07 - val_accuracy: 1.0000\n",
      "Epoch 30/50\n",
      "30/30 [==============================] - 0s 8ms/step - loss: 1.7484e-08 - accuracy: 1.0000 - val_loss: 3.5758e-04 - val_accuracy: 1.0000\n",
      "Epoch 31/50\n",
      "30/30 [==============================] - 0s 8ms/step - loss: 1.7087e-08 - accuracy: 1.0000 - val_loss: 0.0000e+00 - val_accuracy: 1.0000\n",
      "Epoch 32/50\n",
      "30/30 [==============================] - 0s 8ms/step - loss: 1.7087e-08 - accuracy: 1.0000 - val_loss: 7.7265e-05 - val_accuracy: 1.0000\n",
      "Epoch 33/50\n",
      "30/30 [==============================] - 0s 8ms/step - loss: 1.7484e-08 - accuracy: 1.0000 - val_loss: 1.0729e-07 - val_accuracy: 1.0000\n",
      "Epoch 34/50\n",
      "30/30 [==============================] - 0s 8ms/step - loss: 1.7087e-08 - accuracy: 1.0000 - val_loss: 0.0000e+00 - val_accuracy: 1.0000\n",
      "Epoch 35/50\n",
      "30/30 [==============================] - 0s 8ms/step - loss: 1.7087e-08 - accuracy: 1.0000 - val_loss: 5.6704e-05 - val_accuracy: 1.0000\n",
      "Epoch 36/50\n",
      "30/30 [==============================] - 0s 8ms/step - loss: 1.5895e-08 - accuracy: 1.0000 - val_loss: 1.1921e-08 - val_accuracy: 1.0000\n",
      "Epoch 37/50\n",
      "30/30 [==============================] - 0s 8ms/step - loss: 1.7484e-08 - accuracy: 1.0000 - val_loss: 0.0073 - val_accuracy: 1.0000\n",
      "Epoch 38/50\n",
      "30/30 [==============================] - 0s 8ms/step - loss: 1.5497e-08 - accuracy: 1.0000 - val_loss: 3.6329e-04 - val_accuracy: 1.0000\n",
      "Epoch 39/50\n",
      "30/30 [==============================] - 0s 8ms/step - loss: 1.6689e-08 - accuracy: 1.0000 - val_loss: 7.5336e-05 - val_accuracy: 1.0000\n",
      "Epoch 40/50\n",
      "30/30 [==============================] - 0s 8ms/step - loss: 1.5895e-08 - accuracy: 1.0000 - val_loss: 8.9761e-06 - val_accuracy: 1.0000\n",
      "Epoch 41/50\n",
      "30/30 [==============================] - 0s 8ms/step - loss: 1.5100e-08 - accuracy: 1.0000 - val_loss: 3.5763e-08 - val_accuracy: 1.0000\n",
      "Epoch 42/50\n",
      "30/30 [==============================] - 0s 8ms/step - loss: 1.5895e-08 - accuracy: 1.0000 - val_loss: 1.0240e-05 - val_accuracy: 1.0000\n",
      "Epoch 43/50\n",
      "30/30 [==============================] - 0s 8ms/step - loss: 1.5895e-08 - accuracy: 1.0000 - val_loss: 5.0675e-05 - val_accuracy: 1.0000\n",
      "Epoch 44/50\n",
      "30/30 [==============================] - 0s 8ms/step - loss: 1.4305e-08 - accuracy: 1.0000 - val_loss: 1.0240e-05 - val_accuracy: 1.0000\n",
      "Epoch 45/50\n",
      "30/30 [==============================] - 0s 8ms/step - loss: 1.4702e-08 - accuracy: 1.0000 - val_loss: 1.3113e-07 - val_accuracy: 1.0000\n",
      "Epoch 46/50\n",
      "30/30 [==============================] - 0s 8ms/step - loss: 1.6292e-08 - accuracy: 1.0000 - val_loss: 1.2617e-04 - val_accuracy: 1.0000\n",
      "Epoch 47/50\n",
      "30/30 [==============================] - 0s 8ms/step - loss: 1.4702e-08 - accuracy: 1.0000 - val_loss: 2.0266e-07 - val_accuracy: 1.0000\n",
      "Epoch 48/50\n",
      "30/30 [==============================] - 0s 8ms/step - loss: 1.3113e-08 - accuracy: 1.0000 - val_loss: 1.1921e-08 - val_accuracy: 1.0000\n",
      "Epoch 49/50\n",
      "30/30 [==============================] - 0s 8ms/step - loss: 1.2716e-08 - accuracy: 1.0000 - val_loss: 4.9412e-05 - val_accuracy: 1.0000\n",
      "Epoch 50/50\n",
      "30/30 [==============================] - 0s 8ms/step - loss: 1.3908e-08 - accuracy: 1.0000 - val_loss: 8.3446e-08 - val_accuracy: 1.0000\n"
     ]
    }
   ],
   "source": [
    "# 6. 모델 학습시키기\n",
    "\n",
    "history = model.fit_generator(train_generator,\n",
    "                              steps_per_epoch=30,\n",
    "                              epochs=50,\n",
    "                              validation_data=test_generator,\n",
    "                              validation_steps=6)"
   ]
  },
  {
   "cell_type": "code",
   "execution_count": 13,
   "metadata": {},
   "outputs": [
    {
     "name": "stdout",
     "output_type": "stream",
     "text": [
      "accuracy: 100.00%\n"
     ]
    }
   ],
   "source": [
    "# 7. 모델 평가하기\n",
    "\n",
    "scores = model.evaluate_generator(test_generator)\n",
    "print(\"%s: %.2f%%\" %(model.metrics_names[1], scores[1]*100))"
   ]
  },
  {
   "cell_type": "code",
   "execution_count": 15,
   "metadata": {},
   "outputs": [
    {
     "data": {
      "image/png": "[encoded data removed]",
      "text/plain": [
       "<Figure size 432x288 with 1 Axes>"
      ]
     },
     "metadata": {
      "needs_background": "light"
     },
     "output_type": "display_data"
    },
    {
     "data": {
      "image/png": "[encoded data removed]",
      "text/plain": [
       "<Figure size 432x288 with 1 Axes>"
      ]
     },
     "metadata": {
      "needs_background": "light"
     },
     "output_type": "display_data"
    }
   ],
   "source": [
    "# 8. 학습 시각화하기\n",
    "\n",
    "import matplotlib.pyplot as plt\n",
    "\n",
    "plt.plot(history.history['accuracy'])\n",
    "plt.plot(history.history['val_accuracy'])\n",
    "\n",
    "plt.title('Accuracy')\n",
    "plt.ylabel('accuracy')\n",
    "plt.xlabel('epoch')\n",
    "plt.legend(['train', 'val'], loc='upper left')\n",
    "plt.show()\n",
    "\n",
    "plt.plot(history.history['loss'])\n",
    "plt.plot(history.history['val_loss'])\n",
    "\n",
    "plt.title('Loss')\n",
    "plt.ylabel('loss')\n",
    "plt.xlabel('epoch')\n",
    "plt.legend(['train', 'val'], loc='upper left')\n",
    "plt.show()"
   ]
  },
  {
   "cell_type": "code",
   "execution_count": null,
   "metadata": {},
   "outputs": [],
   "source": []
  }
 ],
 "metadata": {
  "kernelspec": {
   "display_name": "Python 3.5",
   "language": "python",
   "name": "python3"
  },
  "language_info": {
   "codemirror_mode": {
    "name": "ipython",
    "version": 3
   },
   "file_extension": ".py",
   "mimetype": "text/x-python",
   "name": "python",
   "nbconvert_exporter": "python",
   "pygments_lexer": "ipython3",
   "version": "3.5.6"
  }
 },
 "nbformat": 4,
 "nbformat_minor": 2
}
