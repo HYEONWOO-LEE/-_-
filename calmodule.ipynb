{
 "cells": [
  {
   "cell_type": "code",
   "execution_count": null,
   "metadata": {},
   "outputs": [],
   "source": [
    "from tkinter import *\n",
    "\n",
    "def click(key):# 버튼 활성화를 위한 이벤트 연동하기 함수 만들기\n",
    "    if key == '=':\n",
    "        result = eval(display.get())\n",
    "        s= str(result)\n",
    "        display.insert(END,'='+s)\n",
    "    elif key == 'C':\n",
    "        display.delete(0,END)\n",
    "    elif key == '←':\n",
    "        display.delete(len(display.get())-1, END)\n",
    "    else:\n",
    "        display.insert(END, key)\n",
    "\n",
    "def calmodule():\n",
    "    global display\n",
    "    window= Tk() #윈도우 창 부르기\n",
    "    window.title(\"My Calculator\") #타이틀 설정\n",
    "    display= Entry(window, width=33, bg=\"yellow\") #크기 설정, 배경색\n",
    "    display.grid(row=0, column=0, columnspan=5)\n",
    "\n",
    "    button_list = [\n",
    "        '7','8','9','/','C',\n",
    "        '4','5','6','*','**', \n",
    "        '1','2','3','-','%', \n",
    "        '0','.','=','+','←'\n",
    "    ]\n",
    "\n",
    "\n",
    "    col_index=0\n",
    "    rw_index=1\n",
    "    for button_text in button_list:\n",
    "        Button(window, text=button_text, width=5, command=lambda x = button_text:click(x)).grid(row=rw_index    ,column=col_index)\n",
    "        col_index +=1\n",
    "        if col_index%5==0:\n",
    "            col_index=0\n",
    "            rw_index+=1\n",
    "\n",
    "    window.mainloop() #항상 코드 가장 아래쪽에 위치한다."
   ]
  }
 ],
 "metadata": {
  "kernelspec": {
   "display_name": "Python 3",
   "language": "python",
   "name": "python3"
  },
  "language_info": {
   "codemirror_mode": {
    "name": "ipython",
    "version": 3
   },
   "file_extension": ".py",
   "mimetype": "text/x-python",
   "name": "python",
   "nbconvert_exporter": "python",
   "pygments_lexer": "ipython3",
   "version": "3.7.4"
  }
 },
 "nbformat": 4,
 "nbformat_minor": 2
}
