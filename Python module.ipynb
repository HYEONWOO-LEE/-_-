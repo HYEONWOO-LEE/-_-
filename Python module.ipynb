{
 "cells": [
  {
   "cell_type": "markdown",
   "metadata": {},
   "source": [
    "## module"
   ]
  },
  {
   "cell_type": "code",
   "execution_count": 2,
   "metadata": {},
   "outputs": [
    {
     "name": "stdout",
     "output_type": "stream",
     "text": [
      "7\n",
      "5\n",
      "cal.py의 이름: cal\n"
     ]
    }
   ],
   "source": [
    "import cal"
   ]
  },
  {
   "cell_type": "code",
   "execution_count": 4,
   "metadata": {},
   "outputs": [
    {
     "name": "stdout",
     "output_type": "stream",
     "text": [
      "7\n",
      "5\n"
     ]
    }
   ],
   "source": [
    "def add(x, y):\n",
    "    return x + y\n",
    "def sub(x, y): \n",
    "    return x - y\n",
    "if __name__ == \"__main__\":\n",
    "    print(add(3, 4))\n",
    "    print(sub(7, 2))"
   ]
  },
  {
   "cell_type": "markdown",
   "metadata": {},
   "source": [
    "import 하지 않고 스스로 실행했을 때 실행되도록 한 if문"
   ]
  },
  {
   "cell_type": "markdown",
   "metadata": {},
   "source": [
    "### 예외 처리하기"
   ]
  },
  {
   "cell_type": "markdown",
   "metadata": {},
   "source": [
    "### 0으로 나누는 오류 대처하기"
   ]
  },
  {
   "cell_type": "code",
   "execution_count": 8,
   "metadata": {},
   "outputs": [
    {
     "name": "stdout",
     "output_type": "stream",
     "text": [
      "Height: 0\n",
      "Weight: 45\n"
     ]
    }
   ],
   "source": [
    "def getint(prompt):\n",
    "    while True:\n",
    "        try: inNum = int(input(prompt))\n",
    "        except valueError as e: print(e)\n",
    "        else: return inNum\n",
    "\n",
    "H= getint('Height: ')\n",
    "W= getint('Weight: ')\n",
    "\n",
    "try: BMI = W/(H/100)**2\n",
    "except: pass\n",
    "else: print(\"BMI: \", BMI)"
   ]
  },
  {
   "cell_type": "code",
   "execution_count": 9,
   "metadata": {},
   "outputs": [
    {
     "name": "stdout",
     "output_type": "stream",
     "text": [
      "Height: 175\n",
      "Weight: 71\n",
      "BMI:  23.183673469387756\n"
     ]
    }
   ],
   "source": [
    "def getint(prompt):\n",
    "    while True:\n",
    "        try: inNum = int(input(prompt))\n",
    "        except valueError as e: print(e)\n",
    "        else: return inNum\n",
    "\n",
    "H= getint('Height: ')\n",
    "W= getint('Weight: ')\n",
    "\n",
    "try: BMI = W/(H/100)**2\n",
    "except: pass\n",
    "else: print(\"BMI: \", BMI)"
   ]
  },
  {
   "cell_type": "code",
   "execution_count": 10,
   "metadata": {},
   "outputs": [
    {
     "name": "stdout",
     "output_type": "stream",
     "text": [
      "Height: 0\n",
      "Weight: 45\n"
     ]
    }
   ],
   "source": [
    "def getint(prompt):\n",
    "    while True:\n",
    "        try: inNum = int(input(prompt))\n",
    "        except valueError as e: print(e)\n",
    "        else: return inNum\n",
    "\n",
    "H= getint('Height: ')\n",
    "W= getint('Weight: ')\n",
    "\n",
    "try: BMI = W/(H/100)**2\n",
    "except: pass\n",
    "else: print(\"BMI: \", BMI)"
   ]
  },
  {
   "cell_type": "code",
   "execution_count": 12,
   "metadata": {},
   "outputs": [
    {
     "ename": "IndentationError",
     "evalue": "unexpected unindent (<ipython-input-12-32b95f69c4a7>, line 5)",
     "output_type": "error",
     "traceback": [
      "\u001b[1;36m  File \u001b[1;32m\"<ipython-input-12-32b95f69c4a7>\"\u001b[1;36m, line \u001b[1;32m5\u001b[0m\n\u001b[1;33m    H= getint('Height: ')\u001b[0m\n\u001b[1;37m                         ^\u001b[0m\n\u001b[1;31mIndentationError\u001b[0m\u001b[1;31m:\u001b[0m unexpected unindent\n"
     ]
    }
   ],
   "source": [
    "def getint(prompt):\n",
    "    while True:\n",
    "        try: inNum = int(input(prompt))\n",
    "        except valueError as e: print(e)\n",
    "        else: return inNum\n",
    "\n",
    "H= getint('Height: ')\n",
    "W= getint('Weight: ')\n",
    "\n",
    "try: BMI = W/(H/100)**2\n",
    "except: pass\n",
    "else: print(\"BMI: \", BMI)"
   ]
  },
  {
   "cell_type": "code",
   "execution_count": null,
   "metadata": {},
   "outputs": [],
   "source": []
  }
 ],
 "metadata": {
  "kernelspec": {
   "display_name": "Python 3",
   "language": "python",
   "name": "python3"
  },
  "language_info": {
   "codemirror_mode": {
    "name": "ipython",
    "version": 3
   },
   "file_extension": ".py",
   "mimetype": "text/x-python",
   "name": "python",
   "nbconvert_exporter": "python",
   "pygments_lexer": "ipython3",
   "version": "3.7.4"
  }
 },
 "nbformat": 4,
 "nbformat_minor": 2
}
