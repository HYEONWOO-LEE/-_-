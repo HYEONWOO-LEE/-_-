{
 "cells": [
  {
   "cell_type": "markdown",
   "metadata": {},
   "source": [
    "### 딥-러닝 과정 CNN | 2020.02.27. "
   ]
  },
  {
   "cell_type": "markdown",
   "metadata": {},
   "source": [
    "### 네번째 실습. Keras 모델 생성/학습 - cifar10 : CNN\n",
    "[Keras Dataset](https://keras.io/ko/datasets/#-cifar10)"
   ]
  },
  {
   "cell_type": "code",
   "execution_count": 1,
   "metadata": {},
   "outputs": [
    {
     "name": "stderr",
     "output_type": "stream",
     "text": [
      "Using TensorFlow backend.\n"
     ]
    },
    {
     "name": "stdout",
     "output_type": "stream",
     "text": [
      "(50000, 32, 32, 3)\n",
      "(50000, 1)\n",
      "(10000, 32, 32, 3)\n",
      "(10000, 1)\n"
     ]
    }
   ],
   "source": [
    "# 1. 데이터 불러오기\n",
    "from keras.datasets import cifar10\n",
    "\n",
    "(x_train, y_train), (x_test, y_test) = cifar10.load_data()\n",
    "\n",
    "print(x_train.shape)\n",
    "print(y_train.shape)\n",
    "print(x_test.shape)\n",
    "print(y_test.shape)"
   ]
  },
  {
   "cell_type": "code",
   "execution_count": 2,
   "metadata": {},
   "outputs": [
    {
     "name": "stdout",
     "output_type": "stream",
     "text": [
      "AxesImage(80,52.8;496x369.6)\n",
      "[9]\n"
     ]
    }
   ],
   "source": [
    "# 2. 이미지 데이터 확인하기 🖼\n",
    "import matplotlib.pyplot as plt\n",
    "\n",
    "print(plt.imshow(x_train[1]))\n",
    "print(y_train[1])"
   ]
  },
  {
   "cell_type": "code",
   "execution_count": 3,
   "metadata": {},
   "outputs": [
    {
     "name": "stdout",
     "output_type": "stream",
     "text": [
      "[[[[0.23137255 0.24313725 0.24705882]\n",
      "   [0.16862745 0.18039216 0.17647059]\n",
      "   [0.19607843 0.18823529 0.16862745]\n",
      "   ...\n",
      "   [0.61960784 0.51764706 0.42352941]\n",
      "   [0.59607843 0.49019608 0.4       ]\n",
      "   [0.58039216 0.48627451 0.40392157]]\n",
      "\n",
      "  [[0.0627451  0.07843137 0.07843137]\n",
      "   [0.         0.         0.        ]\n",
      "   [0.07058824 0.03137255 0.        ]\n",
      "   ...\n",
      "   [0.48235294 0.34509804 0.21568627]\n",
      "   [0.46666667 0.3254902  0.19607843]\n",
      "   [0.47843137 0.34117647 0.22352941]]\n",
      "\n",
      "  [[0.09803922 0.09411765 0.08235294]\n",
      "   [0.0627451  0.02745098 0.        ]\n",
      "   [0.19215686 0.10588235 0.03137255]\n",
      "   ...\n",
      "   [0.4627451  0.32941176 0.19607843]\n",
      "   [0.47058824 0.32941176 0.19607843]\n",
      "   [0.42745098 0.28627451 0.16470588]]\n",
      "\n",
      "  ...\n",
      "\n",
      "  [[0.81568627 0.66666667 0.37647059]\n",
      "   [0.78823529 0.6        0.13333333]\n",
      "   [0.77647059 0.63137255 0.10196078]\n",
      "   ...\n",
      "   [0.62745098 0.52156863 0.2745098 ]\n",
      "   [0.21960784 0.12156863 0.02745098]\n",
      "   [0.20784314 0.13333333 0.07843137]]\n",
      "\n",
      "  [[0.70588235 0.54509804 0.37647059]\n",
      "   [0.67843137 0.48235294 0.16470588]\n",
      "   [0.72941176 0.56470588 0.11764706]\n",
      "   ...\n",
      "   [0.72156863 0.58039216 0.36862745]\n",
      "   [0.38039216 0.24313725 0.13333333]\n",
      "   [0.3254902  0.20784314 0.13333333]]\n",
      "\n",
      "  [[0.69411765 0.56470588 0.45490196]\n",
      "   [0.65882353 0.50588235 0.36862745]\n",
      "   [0.70196078 0.55686275 0.34117647]\n",
      "   ...\n",
      "   [0.84705882 0.72156863 0.54901961]\n",
      "   [0.59215686 0.4627451  0.32941176]\n",
      "   [0.48235294 0.36078431 0.28235294]]]\n",
      "\n",
      "\n",
      " [[[0.60392157 0.69411765 0.73333333]\n",
      "   [0.49411765 0.5372549  0.53333333]\n",
      "   [0.41176471 0.40784314 0.37254902]\n",
      "   ...\n",
      "   [0.35686275 0.37254902 0.27843137]\n",
      "   [0.34117647 0.35294118 0.27843137]\n",
      "   [0.30980392 0.31764706 0.2745098 ]]\n",
      "\n",
      "  [[0.54901961 0.62745098 0.6627451 ]\n",
      "   [0.56862745 0.6        0.60392157]\n",
      "   [0.49019608 0.49019608 0.4627451 ]\n",
      "   ...\n",
      "   [0.37647059 0.38823529 0.30588235]\n",
      "   [0.30196078 0.31372549 0.24313725]\n",
      "   [0.27843137 0.28627451 0.23921569]]\n",
      "\n",
      "  [[0.54901961 0.60784314 0.64313725]\n",
      "   [0.54509804 0.57254902 0.58431373]\n",
      "   [0.45098039 0.45098039 0.43921569]\n",
      "   ...\n",
      "   [0.30980392 0.32156863 0.25098039]\n",
      "   [0.26666667 0.2745098  0.21568627]\n",
      "   [0.2627451  0.27058824 0.21568627]]\n",
      "\n",
      "  ...\n",
      "\n",
      "  [[0.68627451 0.65490196 0.65098039]\n",
      "   [0.61176471 0.60392157 0.62745098]\n",
      "   [0.60392157 0.62745098 0.66666667]\n",
      "   ...\n",
      "   [0.16470588 0.13333333 0.14117647]\n",
      "   [0.23921569 0.20784314 0.22352941]\n",
      "   [0.36470588 0.3254902  0.35686275]]\n",
      "\n",
      "  [[0.64705882 0.60392157 0.50196078]\n",
      "   [0.61176471 0.59607843 0.50980392]\n",
      "   [0.62352941 0.63137255 0.55686275]\n",
      "   ...\n",
      "   [0.40392157 0.36470588 0.37647059]\n",
      "   [0.48235294 0.44705882 0.47058824]\n",
      "   [0.51372549 0.4745098  0.51372549]]\n",
      "\n",
      "  [[0.63921569 0.58039216 0.47058824]\n",
      "   [0.61960784 0.58039216 0.47843137]\n",
      "   [0.63921569 0.61176471 0.52156863]\n",
      "   ...\n",
      "   [0.56078431 0.52156863 0.54509804]\n",
      "   [0.56078431 0.5254902  0.55686275]\n",
      "   [0.56078431 0.52156863 0.56470588]]]\n",
      "\n",
      "\n",
      " [[[1.         1.         1.        ]\n",
      "   [0.99215686 0.99215686 0.99215686]\n",
      "   [0.99215686 0.99215686 0.99215686]\n",
      "   ...\n",
      "   [0.99215686 0.99215686 0.99215686]\n",
      "   [0.99215686 0.99215686 0.99215686]\n",
      "   [0.99215686 0.99215686 0.99215686]]\n",
      "\n",
      "  [[1.         1.         1.        ]\n",
      "   [1.         1.         1.        ]\n",
      "   [1.         1.         1.        ]\n",
      "   ...\n",
      "   [1.         1.         1.        ]\n",
      "   [1.         1.         1.        ]\n",
      "   [1.         1.         1.        ]]\n",
      "\n",
      "  [[1.         1.         1.        ]\n",
      "   [0.99607843 0.99607843 0.99607843]\n",
      "   [0.99607843 0.99607843 0.99607843]\n",
      "   ...\n",
      "   [0.99607843 0.99607843 0.99607843]\n",
      "   [0.99607843 0.99607843 0.99607843]\n",
      "   [0.99607843 0.99607843 0.99607843]]\n",
      "\n",
      "  ...\n",
      "\n",
      "  [[0.44313725 0.47058824 0.43921569]\n",
      "   [0.43529412 0.4627451  0.43529412]\n",
      "   [0.41176471 0.43921569 0.41568627]\n",
      "   ...\n",
      "   [0.28235294 0.31764706 0.31372549]\n",
      "   [0.28235294 0.31372549 0.30980392]\n",
      "   [0.28235294 0.31372549 0.30980392]]\n",
      "\n",
      "  [[0.43529412 0.4627451  0.43137255]\n",
      "   [0.40784314 0.43529412 0.40784314]\n",
      "   [0.38823529 0.41568627 0.38431373]\n",
      "   ...\n",
      "   [0.26666667 0.29411765 0.28627451]\n",
      "   [0.2745098  0.29803922 0.29411765]\n",
      "   [0.30588235 0.32941176 0.32156863]]\n",
      "\n",
      "  [[0.41568627 0.44313725 0.41176471]\n",
      "   [0.38823529 0.41568627 0.38431373]\n",
      "   [0.37254902 0.4        0.36862745]\n",
      "   ...\n",
      "   [0.30588235 0.33333333 0.3254902 ]\n",
      "   [0.30980392 0.33333333 0.3254902 ]\n",
      "   [0.31372549 0.3372549  0.32941176]]]\n",
      "\n",
      "\n",
      " [[[0.10980392 0.09803922 0.03921569]\n",
      "   [0.14509804 0.13333333 0.0745098 ]\n",
      "   [0.14901961 0.1372549  0.07843137]\n",
      "   ...\n",
      "   [0.29803922 0.2627451  0.15294118]\n",
      "   [0.31764706 0.28235294 0.16862745]\n",
      "   [0.33333333 0.29803922 0.18431373]]\n",
      "\n",
      "  [[0.12941176 0.10980392 0.05098039]\n",
      "   [0.13333333 0.11764706 0.05490196]\n",
      "   [0.1254902  0.10588235 0.04705882]\n",
      "   ...\n",
      "   [0.37254902 0.32156863 0.21568627]\n",
      "   [0.37647059 0.32156863 0.21960784]\n",
      "   [0.33333333 0.28235294 0.17647059]]\n",
      "\n",
      "  [[0.15294118 0.1254902  0.05882353]\n",
      "   [0.15686275 0.12941176 0.06666667]\n",
      "   [0.22352941 0.19607843 0.12941176]\n",
      "   ...\n",
      "   [0.36470588 0.29803922 0.20392157]\n",
      "   [0.41960784 0.34901961 0.25882353]\n",
      "   [0.37254902 0.30196078 0.21176471]]\n",
      "\n",
      "  ...\n",
      "\n",
      "  [[0.3254902  0.28627451 0.20392157]\n",
      "   [0.34117647 0.30196078 0.21960784]\n",
      "   [0.32941176 0.29019608 0.20392157]\n",
      "   ...\n",
      "   [0.38823529 0.36470588 0.2745098 ]\n",
      "   [0.35294118 0.32941176 0.23921569]\n",
      "   [0.31764706 0.29411765 0.20392157]]\n",
      "\n",
      "  [[0.34509804 0.28235294 0.2       ]\n",
      "   [0.35294118 0.29019608 0.20392157]\n",
      "   [0.36470588 0.30196078 0.21960784]\n",
      "   ...\n",
      "   [0.31372549 0.29019608 0.20784314]\n",
      "   [0.29803922 0.2745098  0.19215686]\n",
      "   [0.32156863 0.29803922 0.21568627]]\n",
      "\n",
      "  [[0.38039216 0.30588235 0.21960784]\n",
      "   [0.36862745 0.29411765 0.20784314]\n",
      "   [0.36470588 0.29411765 0.20784314]\n",
      "   ...\n",
      "   [0.21176471 0.18431373 0.10980392]\n",
      "   [0.24705882 0.21960784 0.14509804]\n",
      "   [0.28235294 0.25490196 0.18039216]]]\n",
      "\n",
      "\n",
      " [[[0.66666667 0.70588235 0.77647059]\n",
      "   [0.65882353 0.69803922 0.76862745]\n",
      "   [0.69411765 0.7254902  0.79607843]\n",
      "   ...\n",
      "   [0.63529412 0.70196078 0.84313725]\n",
      "   [0.61960784 0.69803922 0.83921569]\n",
      "   [0.61568627 0.69411765 0.83137255]]\n",
      "\n",
      "  [[0.65882353 0.70980392 0.77647059]\n",
      "   [0.6745098  0.7254902  0.78823529]\n",
      "   [0.67058824 0.71764706 0.78431373]\n",
      "   ...\n",
      "   [0.62352941 0.69411765 0.83137255]\n",
      "   [0.61176471 0.69019608 0.82745098]\n",
      "   [0.60392157 0.68235294 0.81960784]]\n",
      "\n",
      "  [[0.60392157 0.66666667 0.72941176]\n",
      "   [0.58431373 0.64705882 0.70980392]\n",
      "   [0.50588235 0.56470588 0.63529412]\n",
      "   ...\n",
      "   [0.63137255 0.69803922 0.83921569]\n",
      "   [0.61568627 0.69411765 0.83137255]\n",
      "   [0.60392157 0.68235294 0.81960784]]\n",
      "\n",
      "  ...\n",
      "\n",
      "  [[0.29019608 0.32941176 0.31372549]\n",
      "   [0.29803922 0.33333333 0.31764706]\n",
      "   [0.30588235 0.33333333 0.32156863]\n",
      "   ...\n",
      "   [0.27843137 0.29411765 0.30588235]\n",
      "   [0.26666667 0.28235294 0.29411765]\n",
      "   [0.23921569 0.25490196 0.26666667]]\n",
      "\n",
      "  [[0.26666667 0.29803922 0.30196078]\n",
      "   [0.27058824 0.30196078 0.30588235]\n",
      "   [0.28235294 0.30980392 0.30588235]\n",
      "   ...\n",
      "   [0.29803922 0.31372549 0.3254902 ]\n",
      "   [0.27843137 0.29411765 0.30588235]\n",
      "   [0.27843137 0.29411765 0.30588235]]\n",
      "\n",
      "  [[0.2627451  0.29411765 0.30588235]\n",
      "   [0.26666667 0.29803922 0.30980392]\n",
      "   [0.27058824 0.29411765 0.29803922]\n",
      "   ...\n",
      "   [0.29411765 0.30980392 0.32156863]\n",
      "   [0.27843137 0.29411765 0.30588235]\n",
      "   [0.28627451 0.30196078 0.31372549]]]]\n"
     ]
    }
   ],
   "source": [
    "# 3. 이미지 데이터 전처리 \n",
    "x_train_re = x_train / 255.0\n",
    "x_test_re = x_test / 255.0\n",
    "\n",
    "print(x_train_re[:5])"
   ]
  },
  {
   "cell_type": "code",
   "execution_count": 4,
   "metadata": {},
   "outputs": [
    {
     "name": "stdout",
     "output_type": "stream",
     "text": [
      "[[0. 0. 0. 0. 0. 0. 1. 0. 0. 0.]\n",
      " [0. 0. 0. 0. 0. 0. 0. 0. 0. 1.]\n",
      " [0. 0. 0. 0. 0. 0. 0. 0. 0. 1.]\n",
      " [0. 0. 0. 0. 1. 0. 0. 0. 0. 0.]\n",
      " [0. 1. 0. 0. 0. 0. 0. 0. 0. 0.]]\n"
     ]
    }
   ],
   "source": [
    "# 4. Label categorical (one-hot encoding) \n",
    "from keras.utils import to_categorical\n",
    "\n",
    "y_train_en = to_categorical(y_train)\n",
    "y_test_en = to_categorical(y_test)\n",
    "\n",
    "print(y_train_en[:5])"
   ]
  },
  {
   "cell_type": "code",
   "execution_count": 14,
   "metadata": {},
   "outputs": [
    {
     "name": "stdout",
     "output_type": "stream",
     "text": [
      "(50000, 10)\n"
     ]
    }
   ],
   "source": [
    "print(y_train_en.shape)"
   ]
  },
  {
   "cell_type": "code",
   "execution_count": 23,
   "metadata": {},
   "outputs": [
    {
     "name": "stdout",
     "output_type": "stream",
     "text": [
      "Model: \"sequential_5\"\n",
      "_________________________________________________________________\n",
      "Layer (type)                 Output Shape              Param #   \n",
      "=================================================================\n",
      "conv2d_5 (Conv2D)            (None, 32, 32, 32)        896       \n",
      "_________________________________________________________________\n",
      "max_pooling2d_5 (MaxPooling2 (None, 16, 16, 32)        0         \n",
      "_________________________________________________________________\n",
      "conv2d_6 (Conv2D)            (None, 16, 16, 32)        9248      \n",
      "_________________________________________________________________\n",
      "dropout_9 (Dropout)          (None, 16, 16, 32)        0         \n",
      "_________________________________________________________________\n",
      "flatten_2 (Flatten)          (None, 8192)              0         \n",
      "_________________________________________________________________\n",
      "dense_17 (Dense)             (None, 32)                262176    \n",
      "_________________________________________________________________\n",
      "dense_18 (Dense)             (None, 16)                528       \n",
      "_________________________________________________________________\n",
      "dropout_10 (Dropout)         (None, 16)                0         \n",
      "_________________________________________________________________\n",
      "dense_19 (Dense)             (None, 8)                 136       \n",
      "_________________________________________________________________\n",
      "dense_20 (Dense)             (None, 10)                90        \n",
      "=================================================================\n",
      "Total params: 273,074\n",
      "Trainable params: 273,074\n",
      "Non-trainable params: 0\n",
      "_________________________________________________________________\n",
      "None\n"
     ]
    }
   ],
   "source": [
    "# 5. 모델 생성 : CNN\n",
    "from keras.models import Sequential\n",
    "from keras.layers import Dense, Dropout, Conv2D, MaxPooling2D, Flatten\n",
    "\n",
    "model = Sequential()\n",
    "model.add(Conv2D(filters=32, kernel_size=(3,3), input_shape = (32,32,3), padding = 'same', activation='relu'))\n",
    "model.add(MaxPooling2D(pool_size=(2,2)))\n",
    "model.add(Conv2D(filters=32, kernel_size=(3,3), input_shape = (32,32,3), padding = 'same', activation='relu'))\n",
    "model.add(Dropout(0.2))\n",
    "model.add(Flatten())\n",
    "model.add(Dense(32, activation='relu'))\n",
    "model.add(Dense(16, activation='relu'))\n",
    "model.add(Dropout(0.2))\n",
    "model.add(Dense(8, activation='relu'))\n",
    "model.add(Dense(10, activation='softmax'))\n",
    "\n",
    "print(model.summary())"
   ]
  },
  {
   "cell_type": "code",
   "execution_count": 24,
   "metadata": {},
   "outputs": [],
   "source": [
    "# 6. Compile - Optimizer, Loss function 설정\n",
    "model.compile(loss = 'categorical_crossentropy', optimizer='adam', metrics=['accuracy'])"
   ]
  },
  {
   "cell_type": "code",
   "execution_count": 37,
   "metadata": {},
   "outputs": [
    {
     "name": "stdout",
     "output_type": "stream",
     "text": [
      "Train on 40000 samples, validate on 10000 samples\n",
      "Epoch 1/30\n",
      "  448/40000 [..............................] - ETA: 15s - loss: 0.3948 - accuracy: 0.8661"
     ]
    },
    {
     "name": "stderr",
     "output_type": "stream",
     "text": [
      "/anaconda/envs/py35/lib/python3.5/site-packages/ipykernel/__main__.py:4: UserWarning: The `nb_epoch` argument in `fit` has been renamed `epochs`.\n"
     ]
    },
    {
     "name": "stdout",
     "output_type": "stream",
     "text": [
      "40000/40000 [==============================] - 18s 438us/step - loss: 0.4457 - accuracy: 0.8562 - val_loss: 1.2685 - val_accuracy: 0.6628\n",
      "Epoch 2/30\n",
      "40000/40000 [==============================] - 18s 438us/step - loss: 0.4405 - accuracy: 0.8571 - val_loss: 1.3096 - val_accuracy: 0.6676\n",
      "Epoch 3/30\n",
      "40000/40000 [==============================] - 17s 437us/step - loss: 0.4365 - accuracy: 0.8619 - val_loss: 1.3205 - val_accuracy: 0.6553\n",
      "Epoch 4/30\n",
      "40000/40000 [==============================] - 18s 438us/step - loss: 0.4280 - accuracy: 0.8629 - val_loss: 1.3602 - val_accuracy: 0.6587\n"
     ]
    }
   ],
   "source": [
    "# 7. 모델 학습시키기\n",
    "from keras.callbacks import EarlyStopping\n",
    "early_stop = EarlyStopping(patience = 3)\n",
    "history = model.fit(x_train_re, y_train_en, nb_epoch = 30, batch_size=16, validation_split=0.2, callbacks=[early_stop])"
   ]
  },
  {
   "cell_type": "code",
   "execution_count": 26,
   "metadata": {},
   "outputs": [
    {
     "name": "stdout",
     "output_type": "stream",
     "text": [
      "50000/50000 [==============================] - 5s 102us/step\n",
      "10000/10000 [==============================] - 1s 100us/step\n",
      "[0.7854126601314545, 0.7313399910926819]\n",
      "[1.1017856935501098, 0.635200023651123]\n"
     ]
    }
   ],
   "source": [
    "# 8. 모델 평가하기\n",
    "train_acc = model.evaluate(x_train_re, y_train_en)\n",
    "test_acc = model.evaluate(x_test_re, y_test_en)\n",
    "\n",
    "print(train_acc)\n",
    "print(test_acc)"
   ]
  },
  {
   "cell_type": "code",
   "execution_count": 27,
   "metadata": {},
   "outputs": [
    {
     "data": {
      "image/png": "[encoded data removed]",
      "text/plain": [
       "<Figure size 216x216 with 1 Axes>"
      ]
     },
     "metadata": {
      "needs_background": "light"
     },
     "output_type": "display_data"
    },
    {
     "data": {
      "image/png": "[encoded data removed]",
      "text/plain": [
       "<Figure size 216x216 with 1 Axes>"
      ]
     },
     "metadata": {
      "needs_background": "light"
     },
     "output_type": "display_data"
    },
    {
     "data": {
      "image/png": "[encoded data removed]",
      "text/plain": [
       "<Figure size 216x216 with 1 Axes>"
      ]
     },
     "metadata": {
      "needs_background": "light"
     },
     "output_type": "display_data"
    }
   ],
   "source": [
    "# 9. 이미지를 랜덤으로 선택해 훈련된 모델로 예측 🖼\n",
    "import numpy\n",
    "for index in numpy.random.choice(len(y_test_en), 3, replace = False):\n",
    "    predicted = model.predict(x_test_re[index:index + 1])[0]\n",
    "    label = y_test_en[index]\n",
    "    result_label = numpy.where(label == numpy.amax(label))\n",
    "    result_predicted = numpy.where(predicted == numpy.amax(predicted))\n",
    "    title = \"Label value = %s  Predicted value = %s \" % (result_label[0], result_predicted[0])\n",
    "    \n",
    "    fig = plt.figure(1, figsize = (3,3))\n",
    "    ax1 = fig.add_axes((0,0,.8,.8))\n",
    "    ax1.set_title(title)\n",
    "    images = x_test_re\n",
    "    plt.imshow(images[index].reshape(32, 32,3), cmap = 'Greys', interpolation = 'nearest')\n",
    "    plt.show()"
   ]
  },
  {
   "cell_type": "code",
   "execution_count": 28,
   "metadata": {
    "scrolled": true
   },
   "outputs": [
    {
     "data": {
      "image/png": "[encoded data removed]",
      "text/plain": [
       "<Figure size 432x288 with 1 Axes>"
      ]
     },
     "metadata": {
      "needs_background": "light"
     },
     "output_type": "display_data"
    }
   ],
   "source": [
    "# 10. 학습 시각화하기\n",
    "plt.plot(history.history['loss'])\n",
    "plt.plot(history.history['val_loss'])\n",
    "plt.title('Loss')\n",
    "plt.xlabel('Epoch')\n",
    "plt.ylabel('Loss')\n",
    "plt.show()"
   ]
  },
  {
   "cell_type": "code",
   "execution_count": 29,
   "metadata": {},
   "outputs": [
    {
     "data": {
      "image/png": "[encoded data removed]",
      "text/plain": [
       "<Figure size 432x288 with 1 Axes>"
      ]
     },
     "metadata": {
      "needs_background": "light"
     },
     "output_type": "display_data"
    }
   ],
   "source": [
    "plt.plot(history.history['accuracy'])\n",
    "plt.plot(history.history['val_accuracy'])\n",
    "plt.title('Accuracy')\n",
    "plt.xlabel('Epoch')\n",
    "plt.ylabel('Accuracy')\n",
    "plt.show()"
   ]
  },
  {
   "cell_type": "markdown",
   "metadata": {},
   "source": [
    "수고하셨습니다 👍"
   ]
  }
 ],
 "metadata": {
  "kernelspec": {
   "display_name": "Python 3.5",
   "language": "python",
   "name": "python3"
  },
  "language_info": {
   "codemirror_mode": {
    "name": "ipython",
    "version": 3
   },
   "file_extension": ".py",
   "mimetype": "text/x-python",
   "name": "python",
   "nbconvert_exporter": "python",
   "pygments_lexer": "ipython3",
   "version": "3.5.6"
  },
  "widgets": {
   "application/vnd.jupyter.widget-state+json": {
    "state": {},
    "version_major": 2,
    "version_minor": 0
   }
  }
 },
 "nbformat": 4,
 "nbformat_minor": 2
}
