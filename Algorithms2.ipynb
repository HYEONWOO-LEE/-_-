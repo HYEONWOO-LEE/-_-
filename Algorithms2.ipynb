{
 "cells": [
  {
   "cell_type": "markdown",
   "metadata": {},
   "source": [
    "### 순차 탐색"
   ]
  },
  {
   "cell_type": "code",
   "execution_count": 12,
   "metadata": {},
   "outputs": [],
   "source": [
    "def search_list(a , x):\n",
    "    for i in a:\n",
    "        if x==i:\n",
    "            return a.index(i)\n",
    "return -1"
   ]
  },
  {
   "cell_type": "code",
   "execution_count": 13,
   "metadata": {},
   "outputs": [
    {
     "data": {
      "text/plain": [
       "-1"
      ]
     },
     "execution_count": 13,
     "metadata": {},
     "output_type": "execute_result"
    }
   ],
   "source": [
    "l=[1,3,5,7,8]\n",
    "search_list(l, 9)"
   ]
  },
  {
   "cell_type": "markdown",
   "metadata": {},
   "source": [
    "### 선택 정렬"
   ]
  },
  {
   "cell_type": "markdown",
   "metadata": {},
   "source": [
    "리스트를 작은 순서대로 정렬해보자"
   ]
  },
  {
   "cell_type": "code",
   "execution_count": 47,
   "metadata": {},
   "outputs": [],
   "source": [
    "lst1=[1,3,9,5,45,88,56,20,11,455,2,35]\n",
    "lst2=[]\n",
    "\n",
    "def fnd_mn(x):\n",
    "    mn=x[0]\n",
    "    for i in (0, len(x)-1):\n",
    "        if mn <= x[i]:\n",
    "            mn = mn\n",
    "        else:\n",
    "            mn = x[i]\n",
    "    return mn\n",
    "        "
   ]
  },
  {
   "cell_type": "code",
   "execution_count": 48,
   "metadata": {},
   "outputs": [
    {
     "data": {
      "text/plain": [
       "1"
      ]
     },
     "execution_count": 48,
     "metadata": {},
     "output_type": "execute_result"
    }
   ],
   "source": [
    "fnd_mn(lst1)"
   ]
  },
  {
   "cell_type": "code",
   "execution_count": 49,
   "metadata": {},
   "outputs": [],
   "source": [
    "y=[]\n",
    "def lst_srt(x):\n",
    "    while x:\n",
    "        mnx = fnd_mn(x)\n",
    "        y.append(mnx)\n",
    "        x.remove(mnx)\n",
    "    return y"
   ]
  },
  {
   "cell_type": "code",
   "execution_count": 51,
   "metadata": {},
   "outputs": [
    {
     "data": {
      "text/plain": [
       "[1, 3, 9, 5, 35, 2, 45, 88, 56, 20, 11, 455]"
      ]
     },
     "execution_count": 51,
     "metadata": {},
     "output_type": "execute_result"
    }
   ],
   "source": [
    "lst_srt(lst1)"
   ]
  },
  {
   "cell_type": "code",
   "execution_count": 52,
   "metadata": {},
   "outputs": [],
   "source": [
    "lst_=[3,7,2,8,4]\n",
    "\n",
    "for i in range(0, len(lst_)-1):\n",
    "    for j in range(i+1, len(lst_)):\n",
    "        if lst_[i]>lst_[j]:\n",
    "            lst_[i],lst_[j]=lst_[j],lst_[i]"
   ]
  },
  {
   "cell_type": "code",
   "execution_count": 53,
   "metadata": {},
   "outputs": [
    {
     "data": {
      "text/plain": [
       "[2, 3, 4, 7, 8]"
      ]
     },
     "execution_count": 53,
     "metadata": {},
     "output_type": "execute_result"
    }
   ],
   "source": [
    "lst_"
   ]
  },
  {
   "cell_type": "markdown",
   "metadata": {},
   "source": [
    "### 삽입 정렬"
   ]
  },
  {
   "cell_type": "code",
   "execution_count": 1,
   "metadata": {},
   "outputs": [],
   "source": [
    "lst=[1,4,5,2,6,9,0,8,7,3]\n",
    "\n",
    "for i in range(0,len(lst)-1):\n",
    "    for j in range(i+1, len(lst)):\n",
    "        if lst[i] > lst[j]:\n",
    "            lst[i],lst[j] = lst[j],lst[i]"
   ]
  },
  {
   "cell_type": "code",
   "execution_count": 2,
   "metadata": {},
   "outputs": [
    {
     "data": {
      "text/plain": [
       "[0, 1, 2, 3, 4, 5, 6, 7, 8, 9]"
      ]
     },
     "execution_count": 2,
     "metadata": {},
     "output_type": "execute_result"
    }
   ],
   "source": [
    "lst"
   ]
  },
  {
   "cell_type": "code",
   "execution_count": 31,
   "metadata": {},
   "outputs": [],
   "source": [
    "lst=[1,4,5,2,6,9,0,8,7,3]"
   ]
  },
  {
   "cell_type": "code",
   "execution_count": 32,
   "metadata": {},
   "outputs": [],
   "source": [
    "def find_ins_idx(l):\n",
    "    mn = l[0]\n",
    "    for i in range(0,len(l)):\n",
    "        if mn > l[i]:\n",
    "            mn = l[i]\n",
    "        else:\n",
    "            mn = mn\n",
    "    return mn"
   ]
  },
  {
   "cell_type": "code",
   "execution_count": 33,
   "metadata": {},
   "outputs": [
    {
     "data": {
      "text/plain": [
       "0"
      ]
     },
     "execution_count": 33,
     "metadata": {},
     "output_type": "execute_result"
    }
   ],
   "source": [
    "find_ins_idx(lst)"
   ]
  },
  {
   "cell_type": "code",
   "execution_count": 34,
   "metadata": {},
   "outputs": [],
   "source": [
    "lst2=[]\n",
    "\n",
    "n=0\n",
    "while lst:\n",
    "    value = find_ins_idx(lst)\n",
    "    lst2.insert(n,value)\n",
    "    lst.pop(lst.index(value))\n",
    "    n+=1"
   ]
  },
  {
   "cell_type": "code",
   "execution_count": 35,
   "metadata": {},
   "outputs": [
    {
     "data": {
      "text/plain": [
       "[0, 1, 2, 3, 4, 5, 6, 7, 8, 9]"
      ]
     },
     "execution_count": 35,
     "metadata": {},
     "output_type": "execute_result"
    }
   ],
   "source": [
    "lst2"
   ]
  },
  {
   "cell_type": "code",
   "execution_count": 38,
   "metadata": {},
   "outputs": [],
   "source": [
    "lst=[1,4,5,2,6,9,0,8,7,3]"
   ]
  },
  {
   "cell_type": "code",
   "execution_count": 41,
   "metadata": {},
   "outputs": [],
   "source": [
    "def find_ins_idx(l, v):\n",
    "    for i in range(1,len(l)):\n",
    "        if v<l[i]:\n",
    "            return l.index(i)\n",
    "\n",
    "def ins_sort(a):\n",
    "    result = []\n",
    "    while lst:\n",
    "        value = lst.pop(0)\n",
    "        idx = find_ins_idx(result, a)\n",
    "        result.insert(idx, value)\n",
    "    return result"
   ]
  },
  {
   "cell_type": "code",
   "execution_count": 44,
   "metadata": {},
   "outputs": [
    {
     "name": "stdout",
     "output_type": "stream",
     "text": [
      "[1, 2, 3, 4, 5]\n"
     ]
    }
   ],
   "source": [
    "def ins_sort(a):\n",
    "    n = len(a)\n",
    "    for i in range(1, n):\n",
    "        key = a[i]\n",
    "        j = i - 1\n",
    "        \n",
    "        while j >= 0 and a[j] > key:\n",
    "            a[j+1] = a[j]\n",
    "            j -=1\n",
    "        a[j+1] = key\n",
    "        \n",
    "d = [2,4,5,1,3]\n",
    "\n",
    "ins_sort(d)\n",
    "print(d)"
   ]
  },
  {
   "cell_type": "markdown",
   "metadata": {},
   "source": [
    "### 그림판 프로그램"
   ]
  },
  {
   "cell_type": "code",
   "execution_count": 130,
   "metadata": {},
   "outputs": [],
   "source": [
    "from tkinter import *\n",
    "from tkinter import colorchooser\n",
    "\n",
    "window= Tk()\n",
    "canvas = Canvas(window, width = 500, height = 500, bg = 'white')\n",
    "canvas.pack()\n",
    "\n",
    "def change_color():\n",
    "    global mycolor\n",
    "    color = colorchooser.askcolor()\n",
    "    mycolor = color[1]\n",
    "    \n",
    "def dlt_color():\n",
    "    global mycolor\n",
    "    mycolor = \"white\"\n",
    "\n",
    "frame1 = Frame(window)\n",
    "frame1.pack(side = LEFT)\n",
    "    \n",
    "\n",
    "Button(frame1, text = '색선택', command = change_color).pack()\n",
    "Button(frame1, text = '지우개', command = dlt_color).pack()\n",
    "Button(frame1, text = ' ', bg = 'red', command = dlt_color).pack()\n",
    "Button(frame1, text = ' ', bg = 'blue', command = dlt_color).pack()\n",
    "Button(frame1, text = ' ', bg = 'green', command = dlt_color).pack()\n",
    "Button(frame1, text = ' ', bg = 'yellow', command = dlt_color).pack()\n",
    "\n",
    "\n",
    "def draw(event):\n",
    "    global x1, y1\n",
    "    #x1, y1 = (event.x),(event.y)\n",
    "    x2, y2 = (event.x),(event.y) # 이동한 위치의 좌표를 저장\n",
    "    canvas.create_line(x1,y1,x2,y2, fill = mycolor, width = 3) # line = 그림이 그려지는 타입, oval은 타원형\n",
    "    x1, y1 = (event.x),(event.y) # 끝 지점의 좌표를 다시 시작 지점 좌표로 저장해준다.\n",
    "    print(x1,y1,x2,y2)\n",
    "\n",
    "def down(event):\n",
    "    global x1, y1\n",
    "    x1, y1 = (event.x), (event.y)\n",
    "    \n",
    "\n",
    "\n",
    "canvas.bind(\"<B1-Motion>\", draw) # 마우스 버튼을 끌고 이동한 위치\n",
    "canvas.bind(\"<Button-1>\", down)\n",
    "\n",
    "\n",
    "\n",
    "\n",
    "window.mainloop()"
   ]
  },
  {
   "cell_type": "markdown",
   "metadata": {},
   "source": [
    "### 병합 정렬"
   ]
  },
  {
   "cell_type": "code",
   "execution_count": 218,
   "metadata": {},
   "outputs": [
    {
     "name": "stdout",
     "output_type": "stream",
     "text": [
      "[99, 8, 39, 57, 27]\n"
     ]
    }
   ],
   "source": [
    "import random as r\n",
    "\n",
    "def mk_lst():\n",
    "    lst= r.sample(range(1,101), 5)\n",
    "    return lst\n",
    "a = mk_lst()\n",
    "print(a)"
   ]
  },
  {
   "cell_type": "code",
   "execution_count": 200,
   "metadata": {},
   "outputs": [
    {
     "name": "stdout",
     "output_type": "stream",
     "text": [
      "[1]\n"
     ]
    }
   ],
   "source": [
    "print(mk_lst())"
   ]
  },
  {
   "cell_type": "code",
   "execution_count": 177,
   "metadata": {},
   "outputs": [],
   "source": [
    "a=[]\n",
    "b=[]\n",
    "mk_lst(a)\n",
    "mk_lst(b)"
   ]
  },
  {
   "cell_type": "code",
   "execution_count": 181,
   "metadata": {},
   "outputs": [
    {
     "data": {
      "text/plain": [
       "[[80], [85], [43], [38], [32]]"
      ]
     },
     "execution_count": 181,
     "metadata": {},
     "output_type": "execute_result"
    }
   ],
   "source": [
    "a"
   ]
  },
  {
   "cell_type": "code",
   "execution_count": null,
   "metadata": {},
   "outputs": [],
   "source": []
  },
  {
   "cell_type": "code",
   "execution_count": 190,
   "metadata": {},
   "outputs": [
    {
     "name": "stdout",
     "output_type": "stream",
     "text": [
      "[3, 5, 6, 8, 9]\n"
     ]
    }
   ],
   "source": [
    "def srt_lst(lst):\n",
    "    for i in range(0, len(lst)-1):\n",
    "        for j in range(i+1, len(lst)):\n",
    "            if lst[i]>lst[j]:\n",
    "                lst[i],lst[j] = lst[j],lst[i]\n",
    "    return lst           \n",
    "   \n",
    "c=[5,3,6,9,8]\n",
    "print(srt_lst(c))"
   ]
  },
  {
   "cell_type": "code",
   "execution_count": 187,
   "metadata": {},
   "outputs": [
    {
     "name": "stdout",
     "output_type": "stream",
     "text": [
      "[[85], [80], [43], [38], [32]]\n"
     ]
    }
   ],
   "source": [
    "srt_lst(a)\n",
    "print(a)"
   ]
  },
  {
   "cell_type": "markdown",
   "metadata": {},
   "source": [
    "### 이진 탐색 (이분 탐색)"
   ]
  },
  {
   "cell_type": "code",
   "execution_count": 240,
   "metadata": {},
   "outputs": [],
   "source": [
    "from tkinter import *\n",
    "import random as r\n",
    "window = Tk()\n",
    "window.title('숫자 맞추기 게임')\n",
    "label = Label(window, text = '숫자를 맞춰보세요 (1~20)')\n",
    "entry = Entry(window)\n",
    "btn_1 = Button(window, text = '확인', command = guess_num)\n",
    "btn_2 = Button(window, text = '새게임')\n",
    "label.grid(row = 0, column = 0, columnspan = 2)\n",
    "entry.grid(row = 1, column = 0, columnspan = 2)\n",
    "btn_1.grid(row = 2, column = 0)\n",
    "btn_2.grid(row = 2, column = 1)\n",
    "window.mainloop()\n",
    "\n",
    "num = r.randint(1,20)\n",
    "\n",
    "count = 0\n",
    "def guess_num():\n",
    "    global count\n",
    "    count += 1\n",
    "    guess = int(entry.get())\n",
    "    if count == 5:\n",
    "        label['text'] = '게임 종료'\n",
    "    if guess > num:\n",
    "        label['text'] = '높아요'\n",
    "    elif guess < num:\n",
    "        label['text'] = '낮아요'\n",
    "    else:\n",
    "        label['text'] = '정답'\n",
    "    \n",
    "    "
   ]
  },
  {
   "cell_type": "markdown",
   "metadata": {},
   "source": [
    "#### 정렬된 리스트에서 특정 값 찾기"
   ]
  },
  {
   "cell_type": "markdown",
   "metadata": {},
   "source": [
    "컴퓨터가 숫자 맞추기"
   ]
  },
  {
   "cell_type": "code",
   "execution_count": 1,
   "metadata": {},
   "outputs": [],
   "source": [
    "lst = [1,4,9,16,25,36,49,64,81]"
   ]
  },
  {
   "cell_type": "markdown",
   "metadata": {},
   "source": [
    "찾는 값 = 36"
   ]
  },
  {
   "cell_type": "code",
   "execution_count": 60,
   "metadata": {
    "scrolled": true
   },
   "outputs": [
    {
     "name": "stdout",
     "output_type": "stream",
     "text": [
      "[1, 50]\n",
      "50\n",
      "1\n",
      "10\n",
      "1\n",
      "50\n",
      "1\n",
      "10\n",
      "1\n",
      "10\n",
      "1\n",
      "10\n",
      "1\n",
      "10\n",
      "1\n",
      "10\n",
      "1\n",
      "4\n",
      "1\n",
      "4\n",
      "1\n",
      "1\n",
      "1\n",
      "1\n",
      "1\n",
      "0\n",
      "1\n",
      "0\n",
      "1\n",
      "-1\n",
      "1\n",
      "-1\n",
      "1\n",
      "-1\n",
      "1\n",
      "-1\n",
      "1\n",
      "-1\n"
     ]
    }
   ],
   "source": [
    "from tkinter import *\n",
    "from tkinter.filedialog import * #파일 다이얼로그 박스 파일 불러오기 저장하기 등\n",
    "import tkinter.messagebox\n",
    "import tkinter.simpledialog\n",
    "\n",
    "\n",
    "def calnum(hint):\n",
    "    global label_2, start, end\n",
    "    print(start)\n",
    "    print(end)\n",
    "    mid =  (start + end)//2\n",
    "    label_2['text'] = '당신이 생각하는 숫자는 = ' + str(mid) + ' 맞나요??'\n",
    "    if hint == 'big':\n",
    "        strat = mid + 1\n",
    "        calnum('hint')\n",
    "    elif hint == 'small':\n",
    "        end = mid - 1\n",
    "        calnum('hint')\n",
    "        \n",
    "def nwgame():\n",
    "    global num_rng\n",
    "    num= tkinter.simpledialog.askstring('숫자 맞추기', '범위 입력하세요(1~100)')\n",
    "    num_rng = num.split(',')\n",
    "    num_rng = list(map(int, num_rng))\n",
    "    print(num_rng)\n",
    "    start = num_rng[0]\n",
    "    end = num_rng[1]\n",
    "    print(end)\n",
    "    calnum(\"start\")\n",
    "    print(start)\n",
    "    print(end)\n",
    "\n",
    "\n",
    "    \n",
    "window = Tk()\n",
    "window.title('숫자 맞추기 게임')\n",
    "label_1 = Label(window, text = '숫자를 맞춰봐 컴퓨터야', font= 'Arial 15' )\n",
    "label_2 = Label(window, text = '당신이 생각하는 숫자 = ')\n",
    "label_3 = Label(window, text = '시도 횟수: ')\n",
    "btn_1 = Button(window, text = '크다', command = lambda hint = 'big' : calnum(hint))\n",
    "btn_2 = Button(window, text = '작다', command = lambda hint = 'small' : calnum(hint))\n",
    "btn_3 = Button(window, text = '정답')\n",
    "\n",
    "btn_4 = Button(window, text = '새게임', command=nwgame)\n",
    "btn_5 = Button(window, text = '종료')\n",
    "\n",
    "label_1.grid(row = 0, column = 0, columnspan = 2)\n",
    "label_2.grid(row = 1, column = 0, columnspan = 2)\n",
    "label_3.grid(row = 2, column = 0, columnspan = 2)\n",
    "\n",
    "btn_1.grid(row = 3, column = 0)\n",
    "btn_2.grid(row = 3, column = 1)\n",
    "btn_3.grid(row = 3, column = 2)\n",
    "\n",
    "btn_4.grid(row = 4, column = 0)\n",
    "btn_5.grid(row = 4, column = 1)\n",
    "\n",
    "\n",
    "    \n",
    "\n",
    "    \n",
    "    \n",
    "    \n",
    "    \n",
    "window.mainloop()"
   ]
  },
  {
   "cell_type": "markdown",
   "metadata": {},
   "source": [
    "#### 캔버스 위젯"
   ]
  },
  {
   "cell_type": "code",
   "execution_count": 94,
   "metadata": {},
   "outputs": [
    {
     "name": "stdout",
     "output_type": "stream",
     "text": [
      "159\n",
      "162\n",
      "165\n",
      "168\n",
      "171\n",
      "174\n",
      "177\n",
      "180\n",
      "183\n",
      "186\n",
      "189\n",
      "192\n",
      "195\n",
      "198\n",
      "201\n",
      "204\n",
      "207\n",
      "210\n",
      "213\n",
      "216\n",
      "219\n",
      "222\n",
      "225\n",
      "228\n",
      "231\n",
      "234\n",
      "237\n",
      "240\n",
      "243\n",
      "246\n",
      "249\n",
      "252\n",
      "33\n",
      "36\n",
      "39\n",
      "42\n",
      "45\n",
      "48\n",
      "51\n",
      "54\n",
      "57\n",
      "60\n",
      "63\n",
      "66\n",
      "69\n",
      "72\n",
      "75\n",
      "78\n",
      "81\n",
      "84\n",
      "87\n",
      "90\n",
      "93\n",
      "96\n",
      "99\n",
      "102\n",
      "105\n",
      "108\n",
      "111\n",
      "114\n",
      "117\n",
      "120\n",
      "123\n",
      "126\n",
      "129\n",
      "132\n",
      "135\n",
      "138\n",
      "141\n",
      "144\n",
      "147\n",
      "150\n",
      "153\n",
      "156\n",
      "159\n",
      "162\n",
      "165\n",
      "168\n",
      "171\n",
      "174\n",
      "177\n",
      "180\n",
      "183\n",
      "186\n",
      "189\n",
      "192\n",
      "195\n",
      "198\n",
      "201\n",
      "204\n",
      "207\n",
      "210\n",
      "213\n",
      "216\n",
      "219\n",
      "222\n",
      "225\n",
      "228\n",
      "231\n",
      "234\n",
      "237\n",
      "240\n",
      "243\n",
      "246\n",
      "249\n",
      "252\n",
      "33\n",
      "36\n",
      "39\n",
      "42\n",
      "45\n",
      "48\n",
      "51\n",
      "54\n",
      "57\n",
      "60\n",
      "63\n",
      "66\n",
      "69\n",
      "72\n",
      "75\n",
      "78\n"
     ]
    },
    {
     "ename": "TclError",
     "evalue": "invalid command name \".!canvas\"",
     "output_type": "error",
     "traceback": [
      "\u001b[1;31m---------------------------------------------------------------------------\u001b[0m",
      "\u001b[1;31mTclError\u001b[0m                                  Traceback (most recent call last)",
      "\u001b[1;32m<ipython-input-94-5fc2ebf2f3f5>\u001b[0m in \u001b[0;36m<module>\u001b[1;34m\u001b[0m\n\u001b[0;32m     11\u001b[0m \u001b[1;33m\u001b[0m\u001b[0m\n\u001b[0;32m     12\u001b[0m \u001b[1;32mwhile\u001b[0m \u001b[1;32mTrue\u001b[0m\u001b[1;33m:\u001b[0m\u001b[1;33m\u001b[0m\u001b[1;33m\u001b[0m\u001b[0m\n\u001b[1;32m---> 13\u001b[1;33m     \u001b[0mcanvas\u001b[0m\u001b[1;33m.\u001b[0m\u001b[0mmove\u001b[0m\u001b[1;33m(\u001b[0m\u001b[1;34m'catch'\u001b[0m\u001b[1;33m,\u001b[0m\u001b[1;36m3\u001b[0m\u001b[1;33m,\u001b[0m\u001b[1;36m0\u001b[0m\u001b[1;33m)\u001b[0m \u001b[1;31m# 3만큼 x축으로 이동\u001b[0m\u001b[1;33m\u001b[0m\u001b[1;33m\u001b[0m\u001b[0m\n\u001b[0m\u001b[0;32m     14\u001b[0m     \u001b[0mcanvas\u001b[0m\u001b[1;33m.\u001b[0m\u001b[0mafter\u001b[0m\u001b[1;33m(\u001b[0m\u001b[1;36m40\u001b[0m\u001b[1;33m)\u001b[0m\u001b[1;33m\u001b[0m\u001b[1;33m\u001b[0m\u001b[0m\n\u001b[0;32m     15\u001b[0m     \u001b[0mcanvas\u001b[0m\u001b[1;33m.\u001b[0m\u001b[0mupdate\u001b[0m\u001b[1;33m(\u001b[0m\u001b[1;33m)\u001b[0m \u001b[1;31m#화면을 업데이트\u001b[0m\u001b[1;33m\u001b[0m\u001b[1;33m\u001b[0m\u001b[0m\n",
      "\u001b[1;32mC:\\ProgramData\\Anaconda3\\lib\\tkinter\\__init__.py\u001b[0m in \u001b[0;36mmove\u001b[1;34m(self, *args)\u001b[0m\n\u001b[0;32m   2589\u001b[0m     \u001b[1;32mdef\u001b[0m \u001b[0mmove\u001b[0m\u001b[1;33m(\u001b[0m\u001b[0mself\u001b[0m\u001b[1;33m,\u001b[0m \u001b[1;33m*\u001b[0m\u001b[0margs\u001b[0m\u001b[1;33m)\u001b[0m\u001b[1;33m:\u001b[0m\u001b[1;33m\u001b[0m\u001b[1;33m\u001b[0m\u001b[0m\n\u001b[0;32m   2590\u001b[0m         \u001b[1;34m\"\"\"Move an item TAGORID given in ARGS.\"\"\"\u001b[0m\u001b[1;33m\u001b[0m\u001b[1;33m\u001b[0m\u001b[0m\n\u001b[1;32m-> 2591\u001b[1;33m         \u001b[0mself\u001b[0m\u001b[1;33m.\u001b[0m\u001b[0mtk\u001b[0m\u001b[1;33m.\u001b[0m\u001b[0mcall\u001b[0m\u001b[1;33m(\u001b[0m\u001b[1;33m(\u001b[0m\u001b[0mself\u001b[0m\u001b[1;33m.\u001b[0m\u001b[0m_w\u001b[0m\u001b[1;33m,\u001b[0m \u001b[1;34m'move'\u001b[0m\u001b[1;33m)\u001b[0m \u001b[1;33m+\u001b[0m \u001b[0margs\u001b[0m\u001b[1;33m)\u001b[0m\u001b[1;33m\u001b[0m\u001b[1;33m\u001b[0m\u001b[0m\n\u001b[0m\u001b[0;32m   2592\u001b[0m     \u001b[1;32mdef\u001b[0m \u001b[0mpostscript\u001b[0m\u001b[1;33m(\u001b[0m\u001b[0mself\u001b[0m\u001b[1;33m,\u001b[0m \u001b[0mcnf\u001b[0m\u001b[1;33m=\u001b[0m\u001b[1;33m{\u001b[0m\u001b[1;33m}\u001b[0m\u001b[1;33m,\u001b[0m \u001b[1;33m**\u001b[0m\u001b[0mkw\u001b[0m\u001b[1;33m)\u001b[0m\u001b[1;33m:\u001b[0m\u001b[1;33m\u001b[0m\u001b[1;33m\u001b[0m\u001b[0m\n\u001b[0;32m   2593\u001b[0m         \"\"\"Print the contents of the canvas to a postscript\n",
      "\u001b[1;31mTclError\u001b[0m: invalid command name \".!canvas\""
     ]
    }
   ],
   "source": [
    "from tkinter import *\n",
    "\n",
    "window=Tk()\n",
    "window.title('애니메이션')\n",
    "\n",
    "canvas = Canvas(window, bg='pink', width=250, height=100)\n",
    "canvas.pack()\n",
    "\n",
    "canvas.create_text(30,50,text='나 잡아봐라', tags= 'catch')\n",
    "\n",
    "\n",
    "while True:\n",
    "    canvas.move('catch',3,0) # 3만큼 x축으로 이동\n",
    "    canvas.after(40)\n",
    "    canvas.update() #화면을 업데이트\n",
    "    mv += 3\n",
    "    print(mv)\n",
    "    if mv > 250:\n",
    "        mv = 30\n",
    "        canvas.delete('catch')\n",
    "        canvas.create_text(30,50,text='나 잡아봐라', tags= 'catch')\n",
    "        \n",
    "        \n",
    "\n",
    "    \n",
    "    \n",
    "    \n",
    "window.mainloop()"
   ]
  },
  {
   "cell_type": "code",
   "execution_count": 2,
   "metadata": {},
   "outputs": [
    {
     "ename": "TclError",
     "evalue": "invalid command name \".!canvas\"",
     "output_type": "error",
     "traceback": [
      "\u001b[1;31m---------------------------------------------------------------------------\u001b[0m",
      "\u001b[1;31mTclError\u001b[0m                                  Traceback (most recent call last)",
      "\u001b[1;32m<ipython-input-2-618152628c61>\u001b[0m in \u001b[0;36m<module>\u001b[1;34m\u001b[0m\n\u001b[0;32m     54\u001b[0m \u001b[0mmv\u001b[0m \u001b[1;33m=\u001b[0m \u001b[1;36m30\u001b[0m\u001b[1;33m\u001b[0m\u001b[1;33m\u001b[0m\u001b[0m\n\u001b[0;32m     55\u001b[0m \u001b[1;32mwhile\u001b[0m \u001b[1;32mTrue\u001b[0m\u001b[1;33m:\u001b[0m\u001b[1;33m\u001b[0m\u001b[1;33m\u001b[0m\u001b[0m\n\u001b[1;32m---> 56\u001b[1;33m     \u001b[0mcanvas\u001b[0m\u001b[1;33m.\u001b[0m\u001b[0mmove\u001b[0m\u001b[1;33m(\u001b[0m\u001b[1;34m'catch'\u001b[0m\u001b[1;33m,\u001b[0m\u001b[0mdx\u001b[0m\u001b[1;33m,\u001b[0m\u001b[1;36m0\u001b[0m\u001b[1;33m)\u001b[0m \u001b[1;31m# 3만큼 x축으로 이동\u001b[0m\u001b[1;33m\u001b[0m\u001b[1;33m\u001b[0m\u001b[0m\n\u001b[0m\u001b[0;32m     57\u001b[0m     \u001b[0mcanvas\u001b[0m\u001b[1;33m.\u001b[0m\u001b[0mafter\u001b[0m\u001b[1;33m(\u001b[0m\u001b[0mspeed\u001b[0m\u001b[1;33m)\u001b[0m\u001b[1;33m\u001b[0m\u001b[1;33m\u001b[0m\u001b[0m\n\u001b[0;32m     58\u001b[0m     \u001b[0mcanvas\u001b[0m\u001b[1;33m.\u001b[0m\u001b[0mupdate\u001b[0m\u001b[1;33m(\u001b[0m\u001b[1;33m)\u001b[0m \u001b[1;31m#화면을 업데이트\u001b[0m\u001b[1;33m\u001b[0m\u001b[1;33m\u001b[0m\u001b[0m\n",
      "\u001b[1;32mC:\\ProgramData\\Anaconda3\\lib\\tkinter\\__init__.py\u001b[0m in \u001b[0;36mmove\u001b[1;34m(self, *args)\u001b[0m\n\u001b[0;32m   2589\u001b[0m     \u001b[1;32mdef\u001b[0m \u001b[0mmove\u001b[0m\u001b[1;33m(\u001b[0m\u001b[0mself\u001b[0m\u001b[1;33m,\u001b[0m \u001b[1;33m*\u001b[0m\u001b[0margs\u001b[0m\u001b[1;33m)\u001b[0m\u001b[1;33m:\u001b[0m\u001b[1;33m\u001b[0m\u001b[1;33m\u001b[0m\u001b[0m\n\u001b[0;32m   2590\u001b[0m         \u001b[1;34m\"\"\"Move an item TAGORID given in ARGS.\"\"\"\u001b[0m\u001b[1;33m\u001b[0m\u001b[1;33m\u001b[0m\u001b[0m\n\u001b[1;32m-> 2591\u001b[1;33m         \u001b[0mself\u001b[0m\u001b[1;33m.\u001b[0m\u001b[0mtk\u001b[0m\u001b[1;33m.\u001b[0m\u001b[0mcall\u001b[0m\u001b[1;33m(\u001b[0m\u001b[1;33m(\u001b[0m\u001b[0mself\u001b[0m\u001b[1;33m.\u001b[0m\u001b[0m_w\u001b[0m\u001b[1;33m,\u001b[0m \u001b[1;34m'move'\u001b[0m\u001b[1;33m)\u001b[0m \u001b[1;33m+\u001b[0m \u001b[0margs\u001b[0m\u001b[1;33m)\u001b[0m\u001b[1;33m\u001b[0m\u001b[1;33m\u001b[0m\u001b[0m\n\u001b[0m\u001b[0;32m   2592\u001b[0m     \u001b[1;32mdef\u001b[0m \u001b[0mpostscript\u001b[0m\u001b[1;33m(\u001b[0m\u001b[0mself\u001b[0m\u001b[1;33m,\u001b[0m \u001b[0mcnf\u001b[0m\u001b[1;33m=\u001b[0m\u001b[1;33m{\u001b[0m\u001b[1;33m}\u001b[0m\u001b[1;33m,\u001b[0m \u001b[1;33m**\u001b[0m\u001b[0mkw\u001b[0m\u001b[1;33m)\u001b[0m\u001b[1;33m:\u001b[0m\u001b[1;33m\u001b[0m\u001b[1;33m\u001b[0m\u001b[0m\n\u001b[0;32m   2593\u001b[0m         \"\"\"Print the contents of the canvas to a postscript\n",
      "\u001b[1;31mTclError\u001b[0m: invalid command name \".!canvas\""
     ]
    }
   ],
   "source": [
    "from tkinter import *\n",
    "\n",
    "window = Tk()\n",
    "window.title('애니메이션')\n",
    "\n",
    "def stop():\n",
    "    global dx\n",
    "    dx = 0\n",
    "    \n",
    "    \n",
    "def start():\n",
    "    global dx\n",
    "    dx = 3\n",
    "    \n",
    "    \n",
    "def re():\n",
    "    global x,y\n",
    "    canvas.delete('catch')\n",
    "    canvas.create_text(x,y,text=owl, tags= 'catch')\n",
    "    \n",
    "def fast():\n",
    "    global speed\n",
    "    speed -= 3\n",
    "    \n",
    "def slow():\n",
    "    global speed\n",
    "    speed += 10\n",
    "\n",
    "canvas = Canvas(window, bg = 'white', width = 250, height=100)\n",
    "canvas.grid(row =0, column = 0, columnspan = 5)\n",
    "owl = '''\n",
    "<<M_M>>\n",
    "　| |\n",
    "　- -\n",
    "   '''\n",
    "canvas.create_text(30,40, text=owl, tags='catch')\n",
    "\n",
    "\n",
    "btn_1 = Button(window, text = '▶', width = 5, command = start)\n",
    "btn_2 = Button(window, text = '||', width = 5, command = stop)\n",
    "btn_3 = Button(window, text = '■', width = 5, command = re)\n",
    "btn_4 = Button(window, text = '빠르게', width = 5, command = fast)\n",
    "btn_5 = Button(window, text = '느리게', width = 5, command = slow)\n",
    "btn_1.grid(row =1 , column = 0)\n",
    "btn_2.grid(row =1 , column = 1)\n",
    "btn_3.grid(row =1 , column = 2)\n",
    "btn_4.grid(row =1 , column = 3)\n",
    "btn_5.grid(row =1 , column = 4)\n",
    "\n",
    "dx = 3\n",
    "x = 30\n",
    "y = 50\n",
    "speed = 40\n",
    "mv = 30\n",
    "while True:\n",
    "    canvas.move('catch',dx,0) # 3만큼 x축으로 이동\n",
    "    canvas.after(speed)\n",
    "    canvas.update() #화면을 업데이트\n",
    "    # 만약 스탑을 눌러서 mv가 0이라면\n",
    "    # mv를 계속 0으로 유지한다.\n",
    "    # 스타트를 누르면 mv를 다시 와일문으로 돌린다.\n",
    "    mv += dx\n",
    "    if mv > 250:\n",
    "        mv = 30\n",
    "        canvas.delete('catch')\n",
    "        canvas.create_text(x,y,text=owl, tags= 'catch')\n",
    "\n",
    "\n",
    "window.mainloop()"
   ]
  },
  {
   "cell_type": "markdown",
   "metadata": {},
   "source": [
    "#### 회문 찾기"
   ]
  },
  {
   "cell_type": "markdown",
   "metadata": {},
   "source": [
    "큐와 스택  \n",
    "큐: 먼저 넣은 순서대로 빼낸다 1 <- 2 <- 3 <- 4 , 출력할 때도 1 <- 2 <- 3 <- 4  \n",
    "스택: 먼저 넣고 뺄 때는 반대로 출력 1 <- 2 <- 3 <- 4 출력할 때 4 <- 3 <- 2 <- 1"
   ]
  },
  {
   "cell_type": "code",
   "execution_count": 7,
   "metadata": {},
   "outputs": [
    {
     "name": "stdout",
     "output_type": "stream",
     "text": [
      "문자를 입력하세요: a b c d\n",
      "['a', 'b']\n",
      "c\n"
     ]
    }
   ],
   "source": [
    "strg = input('문자를 입력하세요: ').split()\n",
    "\n",
    "qu = []\n",
    "stc = []\n",
    "\n",
    "for i in strg:\n",
    "    qu.append(i)\n",
    "    stc = strg.pop()\n",
    "    \n",
    "print(qu)\n",
    "print(stc)"
   ]
  },
  {
   "cell_type": "code",
   "execution_count": 8,
   "metadata": {},
   "outputs": [],
   "source": [
    "dc= {'justin': 13, 'john':10, 'mike':9}"
   ]
  },
  {
   "cell_type": "code",
   "execution_count": 11,
   "metadata": {},
   "outputs": [
    {
     "data": {
      "text/plain": [
       "13"
      ]
     },
     "execution_count": 11,
     "metadata": {},
     "output_type": "execute_result"
    }
   ],
   "source": [
    "dc['justin']"
   ]
  },
  {
   "cell_type": "code",
   "execution_count": 12,
   "metadata": {},
   "outputs": [
    {
     "data": {
      "text/plain": [
       "1"
      ]
     },
     "execution_count": 12,
     "metadata": {},
     "output_type": "execute_result"
    }
   ],
   "source": [
    "dc['summer'] = 1\n",
    "dc['summer']"
   ]
  },
  {
   "cell_type": "code",
   "execution_count": 13,
   "metadata": {},
   "outputs": [],
   "source": [
    "dc['summer'] = 2"
   ]
  },
  {
   "cell_type": "code",
   "execution_count": 14,
   "metadata": {},
   "outputs": [
    {
     "data": {
      "text/plain": [
       "2"
      ]
     },
     "execution_count": 14,
     "metadata": {},
     "output_type": "execute_result"
    }
   ],
   "source": [
    "dc['summer']"
   ]
  },
  {
   "cell_type": "code",
   "execution_count": 15,
   "metadata": {},
   "outputs": [],
   "source": [
    "s_info = {\n",
    "    1:'이현우',\n",
    "    2:'이경동',\n",
    "    3:'이충현',\n",
    "    4:'이경원'\n",
    "}"
   ]
  },
  {
   "cell_type": "code",
   "execution_count": 16,
   "metadata": {},
   "outputs": [
    {
     "data": {
      "text/plain": [
       "'이경동'"
      ]
     },
     "execution_count": 16,
     "metadata": {},
     "output_type": "execute_result"
    }
   ],
   "source": [
    "s_info[2]"
   ]
  },
  {
   "cell_type": "code",
   "execution_count": 17,
   "metadata": {},
   "outputs": [],
   "source": [
    "s_info[5] = '최재원'"
   ]
  },
  {
   "cell_type": "code",
   "execution_count": 18,
   "metadata": {},
   "outputs": [
    {
     "data": {
      "text/plain": [
       "{1: '이현우', 2: '이경동', 3: '이충현', 4: '이경원', 5: '최재원'}"
      ]
     },
     "execution_count": 18,
     "metadata": {},
     "output_type": "execute_result"
    }
   ],
   "source": [
    "s_info"
   ]
  },
  {
   "cell_type": "code",
   "execution_count": 19,
   "metadata": {},
   "outputs": [
    {
     "data": {
      "text/plain": [
       "'최재원'"
      ]
     },
     "execution_count": 19,
     "metadata": {},
     "output_type": "execute_result"
    }
   ],
   "source": [
    "s_info[5]"
   ]
  },
  {
   "cell_type": "code",
   "execution_count": 20,
   "metadata": {},
   "outputs": [],
   "source": [
    "del s_info[1]"
   ]
  },
  {
   "cell_type": "code",
   "execution_count": 21,
   "metadata": {},
   "outputs": [
    {
     "ename": "KeyError",
     "evalue": "1",
     "output_type": "error",
     "traceback": [
      "\u001b[1;31m---------------------------------------------------------------------------\u001b[0m",
      "\u001b[1;31mKeyError\u001b[0m                                  Traceback (most recent call last)",
      "\u001b[1;32m<ipython-input-21-c123b0b8dcb0>\u001b[0m in \u001b[0;36m<module>\u001b[1;34m\u001b[0m\n\u001b[1;32m----> 1\u001b[1;33m \u001b[0ms_info\u001b[0m\u001b[1;33m[\u001b[0m\u001b[1;36m1\u001b[0m\u001b[1;33m]\u001b[0m\u001b[1;33m\u001b[0m\u001b[1;33m\u001b[0m\u001b[0m\n\u001b[0m",
      "\u001b[1;31mKeyError\u001b[0m: 1"
     ]
    }
   ],
   "source": [
    "s_info[1]"
   ]
  },
  {
   "cell_type": "code",
   "execution_count": 22,
   "metadata": {},
   "outputs": [
    {
     "data": {
      "text/plain": [
       "{2: '이경동', 3: '이충현', 4: '이경원', 5: '최재원'}"
      ]
     },
     "execution_count": 22,
     "metadata": {},
     "output_type": "execute_result"
    }
   ],
   "source": [
    "s_info"
   ]
  },
  {
   "cell_type": "code",
   "execution_count": 42,
   "metadata": {},
   "outputs": [
    {
     "name": "stdout",
     "output_type": "stream",
     "text": [
      "{'ae': 2, 'be': 1, 'ce': 1, 'ge': 2, 'ee': 1, 'ef': 2, 'de': 1}\n",
      "{'ge', 'ef', 'ae'}\n"
     ]
    }
   ],
   "source": [
    "dic = {}\n",
    "lst = ['ae', 'be', 'ce', 'ge', 'ee', 'ef', 'ge', 'de', 'ef', 'ae']\n",
    "sett = set()\n",
    "\n",
    "for i in lst:\n",
    "    if i in dic:\n",
    "        dic[i] += 1\n",
    "        sett.add(i)\n",
    "    else:\n",
    "        dic[i] = 1\n",
    "        \n",
    "print(dic)\n",
    "print(sett)"
   ]
  },
  {
   "cell_type": "code",
   "execution_count": 25,
   "metadata": {},
   "outputs": [
    {
     "data": {
      "text/plain": [
       "{'ae': 1, 'be': 1, 'ce': 1, 'ge': 1, 'ee': 1, 'ef': 1}"
      ]
     },
     "execution_count": 25,
     "metadata": {},
     "output_type": "execute_result"
    }
   ],
   "source": [
    "dic"
   ]
  },
  {
   "cell_type": "code",
   "execution_count": 40,
   "metadata": {},
   "outputs": [
    {
     "data": {
      "text/plain": [
       "dict_keys(['ae', 'be', 'ce', 'ge', 'ee', 'ef', 'de'])"
      ]
     },
     "execution_count": 40,
     "metadata": {},
     "output_type": "execute_result"
    }
   ],
   "source": [
    "dic.values()\n",
    "dic.keys()"
   ]
  },
  {
   "cell_type": "code",
   "execution_count": null,
   "metadata": {},
   "outputs": [],
   "source": []
  }
 ],
 "metadata": {
  "kernelspec": {
   "display_name": "Python 3",
   "language": "python",
   "name": "python3"
  },
  "language_info": {
   "codemirror_mode": {
    "name": "ipython",
    "version": 3
   },
   "file_extension": ".py",
   "mimetype": "text/x-python",
   "name": "python",
   "nbconvert_exporter": "python",
   "pygments_lexer": "ipython3",
   "version": "3.7.4"
  }
 },
 "nbformat": 4,
 "nbformat_minor": 2
}
