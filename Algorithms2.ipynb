{
 "cells": [
  {
   "cell_type": "markdown",
   "metadata": {},
   "source": [
    "### 순차 탐색"
   ]
  },
  {
   "cell_type": "code",
   "execution_count": 12,
   "metadata": {},
   "outputs": [],
   "source": [
    "def search_list(a , x):\n",
    "    for i in a:\n",
    "        if x==i:\n",
    "            return a.index(i)\n",
    "return -1"
   ]
  },
  {
   "cell_type": "code",
   "execution_count": 13,
   "metadata": {},
   "outputs": [
    {
     "data": {
      "text/plain": [
       "-1"
      ]
     },
     "execution_count": 13,
     "metadata": {},
     "output_type": "execute_result"
    }
   ],
   "source": [
    "l=[1,3,5,7,8]\n",
    "search_list(l, 9)"
   ]
  },
  {
   "cell_type": "markdown",
   "metadata": {},
   "source": [
    "### 선택 정렬"
   ]
  },
  {
   "cell_type": "markdown",
   "metadata": {},
   "source": [
    "리스트를 작은 순서대로 정렬해보자"
   ]
  },
  {
   "cell_type": "code",
   "execution_count": 47,
   "metadata": {},
   "outputs": [],
   "source": [
    "lst1=[1,3,9,5,45,88,56,20,11,455,2,35]\n",
    "lst2=[]\n",
    "\n",
    "def fnd_mn(x):\n",
    "    mn=x[0]\n",
    "    for i in (0, len(x)-1):\n",
    "        if mn <= x[i]:\n",
    "            mn = mn\n",
    "        else:\n",
    "            mn = x[i]\n",
    "    return mn\n",
    "        "
   ]
  },
  {
   "cell_type": "code",
   "execution_count": 48,
   "metadata": {},
   "outputs": [
    {
     "data": {
      "text/plain": [
       "1"
      ]
     },
     "execution_count": 48,
     "metadata": {},
     "output_type": "execute_result"
    }
   ],
   "source": [
    "fnd_mn(lst1)"
   ]
  },
  {
   "cell_type": "code",
   "execution_count": 49,
   "metadata": {},
   "outputs": [],
   "source": [
    "y=[]\n",
    "def lst_srt(x):\n",
    "    while x:\n",
    "        mnx = fnd_mn(x)\n",
    "        y.append(mnx)\n",
    "        x.remove(mnx)\n",
    "    return y"
   ]
  },
  {
   "cell_type": "code",
   "execution_count": 51,
   "metadata": {},
   "outputs": [
    {
     "data": {
      "text/plain": [
       "[1, 3, 9, 5, 35, 2, 45, 88, 56, 20, 11, 455]"
      ]
     },
     "execution_count": 51,
     "metadata": {},
     "output_type": "execute_result"
    }
   ],
   "source": [
    "lst_srt(lst1)"
   ]
  },
  {
   "cell_type": "code",
   "execution_count": 52,
   "metadata": {},
   "outputs": [],
   "source": [
    "lst_=[3,7,2,8,4]\n",
    "\n",
    "for i in range(0, len(lst_)-1):\n",
    "    for j in range(i+1, len(lst_)):\n",
    "        if lst_[i]>lst_[j]:\n",
    "            lst_[i],lst_[j]=lst_[j],lst_[i]"
   ]
  },
  {
   "cell_type": "code",
   "execution_count": 53,
   "metadata": {},
   "outputs": [
    {
     "data": {
      "text/plain": [
       "[2, 3, 4, 7, 8]"
      ]
     },
     "execution_count": 53,
     "metadata": {},
     "output_type": "execute_result"
    }
   ],
   "source": [
    "lst_"
   ]
  },
  {
   "cell_type": "markdown",
   "metadata": {},
   "source": [
    "### 삽입 정렬"
   ]
  },
  {
   "cell_type": "code",
   "execution_count": 1,
   "metadata": {},
   "outputs": [],
   "source": [
    "lst=[1,4,5,2,6,9,0,8,7,3]\n",
    "\n",
    "for i in range(0,len(lst)-1):\n",
    "    for j in range(i+1, len(lst)):\n",
    "        if lst[i] > lst[j]:\n",
    "            lst[i],lst[j] = lst[j],lst[i]"
   ]
  },
  {
   "cell_type": "code",
   "execution_count": 2,
   "metadata": {},
   "outputs": [
    {
     "data": {
      "text/plain": [
       "[0, 1, 2, 3, 4, 5, 6, 7, 8, 9]"
      ]
     },
     "execution_count": 2,
     "metadata": {},
     "output_type": "execute_result"
    }
   ],
   "source": [
    "lst"
   ]
  },
  {
   "cell_type": "code",
   "execution_count": 31,
   "metadata": {},
   "outputs": [],
   "source": [
    "lst=[1,4,5,2,6,9,0,8,7,3]"
   ]
  },
  {
   "cell_type": "code",
   "execution_count": 32,
   "metadata": {},
   "outputs": [],
   "source": [
    "def find_ins_idx(l):\n",
    "    mn = l[0]\n",
    "    for i in range(0,len(l)):\n",
    "        if mn > l[i]:\n",
    "            mn = l[i]\n",
    "        else:\n",
    "            mn = mn\n",
    "    return mn"
   ]
  },
  {
   "cell_type": "code",
   "execution_count": 33,
   "metadata": {},
   "outputs": [
    {
     "data": {
      "text/plain": [
       "0"
      ]
     },
     "execution_count": 33,
     "metadata": {},
     "output_type": "execute_result"
    }
   ],
   "source": [
    "find_ins_idx(lst)"
   ]
  },
  {
   "cell_type": "code",
   "execution_count": 34,
   "metadata": {},
   "outputs": [],
   "source": [
    "lst2=[]\n",
    "\n",
    "n=0\n",
    "while lst:\n",
    "    value = find_ins_idx(lst)\n",
    "    lst2.insert(n,value)\n",
    "    lst.pop(lst.index(value))\n",
    "    n+=1"
   ]
  },
  {
   "cell_type": "code",
   "execution_count": 35,
   "metadata": {},
   "outputs": [
    {
     "data": {
      "text/plain": [
       "[0, 1, 2, 3, 4, 5, 6, 7, 8, 9]"
      ]
     },
     "execution_count": 35,
     "metadata": {},
     "output_type": "execute_result"
    }
   ],
   "source": [
    "lst2"
   ]
  },
  {
   "cell_type": "code",
   "execution_count": 38,
   "metadata": {},
   "outputs": [],
   "source": [
    "lst=[1,4,5,2,6,9,0,8,7,3]"
   ]
  },
  {
   "cell_type": "code",
   "execution_count": 41,
   "metadata": {},
   "outputs": [],
   "source": [
    "def find_ins_idx(l, v):\n",
    "    for i in range(1,len(l)):\n",
    "        if v<l[i]:\n",
    "            return l.index(i)\n",
    "\n",
    "def ins_sort(a):\n",
    "    result = []\n",
    "    while lst:\n",
    "        value = lst.pop(0)\n",
    "        idx = find_ins_idx(result, a)\n",
    "        result.insert(idx, value)\n",
    "    return result"
   ]
  },
  {
   "cell_type": "code",
   "execution_count": 44,
   "metadata": {},
   "outputs": [
    {
     "name": "stdout",
     "output_type": "stream",
     "text": [
      "[1, 2, 3, 4, 5]\n"
     ]
    }
   ],
   "source": [
    "def ins_sort(a):\n",
    "    n = len(a)\n",
    "    for i in range(1, n):\n",
    "        key = a[i]\n",
    "        j = i - 1\n",
    "        \n",
    "        while j >= 0 and a[j] > key:\n",
    "            a[j+1] = a[j]\n",
    "            j -=1\n",
    "        a[j+1] = key\n",
    "        \n",
    "d = [2,4,5,1,3]\n",
    "\n",
    "ins_sort(d)\n",
    "print(d)"
   ]
  },
  {
   "cell_type": "markdown",
   "metadata": {},
   "source": [
    "### 그림판 프로그램"
   ]
  },
  {
   "cell_type": "code",
   "execution_count": 130,
   "metadata": {},
   "outputs": [],
   "source": [
    "from tkinter import *\n",
    "from tkinter import colorchooser\n",
    "\n",
    "window= Tk()\n",
    "canvas = Canvas(window, width = 500, height = 500, bg = 'white')\n",
    "canvas.pack()\n",
    "\n",
    "def change_color():\n",
    "    global mycolor\n",
    "    color = colorchooser.askcolor()\n",
    "    mycolor = color[1]\n",
    "    \n",
    "def dlt_color():\n",
    "    global mycolor\n",
    "    mycolor = \"white\"\n",
    "\n",
    "frame1 = Frame(window)\n",
    "frame1.pack(side = LEFT)\n",
    "    \n",
    "\n",
    "Button(frame1, text = '색선택', command = change_color).pack()\n",
    "Button(frame1, text = '지우개', command = dlt_color).pack()\n",
    "Button(frame1, text = ' ', bg = 'red', command = dlt_color).pack()\n",
    "Button(frame1, text = ' ', bg = 'blue', command = dlt_color).pack()\n",
    "Button(frame1, text = ' ', bg = 'green', command = dlt_color).pack()\n",
    "Button(frame1, text = ' ', bg = 'yellow', command = dlt_color).pack()\n",
    "\n",
    "\n",
    "def draw(event):\n",
    "    global x1, y1\n",
    "    #x1, y1 = (event.x),(event.y)\n",
    "    x2, y2 = (event.x),(event.y) # 이동한 위치의 좌표를 저장\n",
    "    canvas.create_line(x1,y1,x2,y2, fill = mycolor, width = 3) # line = 그림이 그려지는 타입, oval은 타원형\n",
    "    x1, y1 = (event.x),(event.y) # 끝 지점의 좌표를 다시 시작 지점 좌표로 저장해준다.\n",
    "    print(x1,y1,x2,y2)\n",
    "\n",
    "def down(event):\n",
    "    global x1, y1\n",
    "    x1, y1 = (event.x), (event.y)\n",
    "    \n",
    "\n",
    "\n",
    "canvas.bind(\"<B1-Motion>\", draw) # 마우스 버튼을 끌고 이동한 위치\n",
    "canvas.bind(\"<Button-1>\", down)\n",
    "\n",
    "\n",
    "\n",
    "\n",
    "window.mainloop()"
   ]
  },
  {
   "cell_type": "markdown",
   "metadata": {},
   "source": [
    "### 병합 정렬"
   ]
  },
  {
   "cell_type": "code",
   "execution_count": 218,
   "metadata": {},
   "outputs": [
    {
     "name": "stdout",
     "output_type": "stream",
     "text": [
      "[99, 8, 39, 57, 27]\n"
     ]
    }
   ],
   "source": [
    "import random as r\n",
    "\n",
    "def mk_lst():\n",
    "    lst= r.sample(range(1,101), 5)\n",
    "    return lst\n",
    "a = mk_lst()\n",
    "print(a)"
   ]
  },
  {
   "cell_type": "code",
   "execution_count": 200,
   "metadata": {},
   "outputs": [
    {
     "name": "stdout",
     "output_type": "stream",
     "text": [
      "[1]\n"
     ]
    }
   ],
   "source": [
    "print(mk_lst())"
   ]
  },
  {
   "cell_type": "code",
   "execution_count": 177,
   "metadata": {},
   "outputs": [],
   "source": [
    "a=[]\n",
    "b=[]\n",
    "mk_lst(a)\n",
    "mk_lst(b)"
   ]
  },
  {
   "cell_type": "code",
   "execution_count": 181,
   "metadata": {},
   "outputs": [
    {
     "data": {
      "text/plain": [
       "[[80], [85], [43], [38], [32]]"
      ]
     },
     "execution_count": 181,
     "metadata": {},
     "output_type": "execute_result"
    }
   ],
   "source": [
    "a"
   ]
  },
  {
   "cell_type": "code",
   "execution_count": null,
   "metadata": {},
   "outputs": [],
   "source": []
  },
  {
   "cell_type": "code",
   "execution_count": 190,
   "metadata": {},
   "outputs": [
    {
     "name": "stdout",
     "output_type": "stream",
     "text": [
      "[3, 5, 6, 8, 9]\n"
     ]
    }
   ],
   "source": [
    "def srt_lst(lst):\n",
    "    for i in range(0, len(lst)-1):\n",
    "        for j in range(i+1, len(lst)):\n",
    "            if lst[i]>lst[j]:\n",
    "                lst[i],lst[j] = lst[j],lst[i]\n",
    "    return lst           \n",
    "   \n",
    "c=[5,3,6,9,8]\n",
    "print(srt_lst(c))"
   ]
  },
  {
   "cell_type": "code",
   "execution_count": 187,
   "metadata": {},
   "outputs": [
    {
     "name": "stdout",
     "output_type": "stream",
     "text": [
      "[[85], [80], [43], [38], [32]]\n"
     ]
    }
   ],
   "source": [
    "srt_lst(a)\n",
    "print(a)"
   ]
  },
  {
   "cell_type": "markdown",
   "metadata": {},
   "source": [
    "### 이진 탐색"
   ]
  },
  {
   "cell_type": "code",
   "execution_count": 240,
   "metadata": {},
   "outputs": [],
   "source": [
    "from tkinter import *\n",
    "import random as r\n",
    "window = Tk()\n",
    "window.title('숫자 맞추기 게임')\n",
    "label = Label(window, text = '숫자를 맞춰보세요 (1~20)')\n",
    "entry = Entry(window)\n",
    "btn_1 = Button(window, text = '확인', command = guess_num)\n",
    "btn_2 = Button(window, text = '새게임')\n",
    "label.grid(row = 0, column = 0, columnspan = 2)\n",
    "entry.grid(row = 1, column = 0, columnspan = 2)\n",
    "btn_1.grid(row = 2, column = 0)\n",
    "btn_2.grid(row = 2, column = 1)\n",
    "window.mainloop()\n",
    "\n",
    "num = r.randint(1,20)\n",
    "\n",
    "count = 0\n",
    "def guess_num():\n",
    "    global count\n",
    "    count += 1\n",
    "    guess = int(entry.get())\n",
    "    if count == 5:\n",
    "        label['text'] = '게임 종료'\n",
    "    if guess > num:\n",
    "        label['text'] = '높아요'\n",
    "    elif guess < num:\n",
    "        label['text'] = '낮아요'\n",
    "    else:\n",
    "        label['text'] = '정답'\n",
    "    \n",
    "    "
   ]
  }
 ],
 "metadata": {
  "kernelspec": {
   "display_name": "Python 3",
   "language": "python",
   "name": "python3"
  },
  "language_info": {
   "codemirror_mode": {
    "name": "ipython",
    "version": 3
   },
   "file_extension": ".py",
   "mimetype": "text/x-python",
   "name": "python",
   "nbconvert_exporter": "python",
   "pygments_lexer": "ipython3",
   "version": "3.7.4"
  }
 },
 "nbformat": 4,
 "nbformat_minor": 2
}
