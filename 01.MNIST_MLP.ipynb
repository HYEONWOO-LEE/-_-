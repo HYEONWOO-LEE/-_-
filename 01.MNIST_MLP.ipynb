{
 "cells": [
  {
   "cell_type": "markdown",
   "metadata": {},
   "source": [
    "### 딥-러닝 과정 CNN | 2020.02.27. "
   ]
  },
  {
   "cell_type": "markdown",
   "metadata": {},
   "source": [
    "### 첫번째 실습. Keras 모델 생성/학습 - MNIST : MLP\n",
    "[Keras Dataset](https://keras.io/ko/datasets/#mnist)"
   ]
  },
  {
   "cell_type": "code",
   "execution_count": 1,
   "metadata": {},
   "outputs": [
    {
     "name": "stderr",
     "output_type": "stream",
     "text": [
      "Using TensorFlow backend.\n"
     ]
    }
   ],
   "source": [
    "# 1. 데이터 불러오기\n",
    "#!pip install keras\n",
    "import keras\n",
    "from keras.datasets import mnist\n",
    "\n",
    "(x_train, y_train), (x_test, y_test) = mnist.load_data()"
   ]
  },
  {
   "cell_type": "code",
   "execution_count": 2,
   "metadata": {},
   "outputs": [
    {
     "name": "stdout",
     "output_type": "stream",
     "text": [
      "(60000, 28, 28)\n",
      "(10000, 28, 28)\n",
      "(60000,)\n",
      "(10000,)\n"
     ]
    }
   ],
   "source": [
    "print(x_train.shape)\n",
    "print(x_test.shape)\n",
    "print(y_train.shape)\n",
    "print(y_test.shape)"
   ]
  },
  {
   "cell_type": "code",
   "execution_count": 3,
   "metadata": {},
   "outputs": [
    {
     "name": "stdout",
     "output_type": "stream",
     "text": [
      "9\n"
     ]
    }
   ],
   "source": [
    "# 2. 이미지 데이터 확인하기 🖼\n",
    "import matplotlib.pyplot as plt\n",
    "\n",
    "image = x_train[4555]\n",
    "plt.imshow(image, cmap=plt.cm.gray)\n",
    "print(y_train[4555])"
   ]
  },
  {
   "cell_type": "code",
   "execution_count": 4,
   "metadata": {},
   "outputs": [
    {
     "name": "stdout",
     "output_type": "stream",
     "text": [
      "(60000, 784)\n",
      "(10000, 784)\n"
     ]
    }
   ],
   "source": [
    "# 3-1. 이미지 데이터 전처리 : 2차원->1차원 🌟🌟🌟\n",
    "x_train_re = x_train.reshape((60000, 28*28))\n",
    "x_test_re = x_test.reshape((10000, 28*28))\n",
    "\n",
    "print(x_train_re.shape)\n",
    "print(x_test_re.shape)"
   ]
  },
  {
   "cell_type": "code",
   "execution_count": 5,
   "metadata": {},
   "outputs": [
    {
     "name": "stdout",
     "output_type": "stream",
     "text": [
      "[[0. 0. 0. ... 0. 0. 0.]\n",
      " [0. 0. 0. ... 0. 0. 0.]\n",
      " [0. 0. 0. ... 0. 0. 0.]\n",
      " ...\n",
      " [0. 0. 0. ... 0. 0. 0.]\n",
      " [0. 0. 0. ... 0. 0. 0.]\n",
      " [0. 0. 0. ... 0. 0. 0.]]\n"
     ]
    }
   ],
   "source": [
    "# 3-2. 이미지 데이터 전처리 : Normalzation \n",
    "x_train_re = x_train_re / 255\n",
    "x_test_re = x_test_re / 255\n",
    "\n",
    "print(x_train_re)"
   ]
  },
  {
   "cell_type": "code",
   "execution_count": 6,
   "metadata": {},
   "outputs": [
    {
     "name": "stdout",
     "output_type": "stream",
     "text": [
      "[5 0 4 1 9 2 1 3 1 4]\n"
     ]
    }
   ],
   "source": [
    "# 4. Label 전처리 (one-hot encoding) \n",
    "print(y_train[:10])"
   ]
  },
  {
   "cell_type": "code",
   "execution_count": 7,
   "metadata": {},
   "outputs": [
    {
     "name": "stdout",
     "output_type": "stream",
     "text": [
      "[[0. 0. 0. 0. 0. 1. 0. 0. 0. 0.]\n",
      " [1. 0. 0. 0. 0. 0. 0. 0. 0. 0.]\n",
      " [0. 0. 0. 0. 1. 0. 0. 0. 0. 0.]\n",
      " [0. 1. 0. 0. 0. 0. 0. 0. 0. 0.]\n",
      " [0. 0. 0. 0. 0. 0. 0. 0. 0. 1.]\n",
      " [0. 0. 1. 0. 0. 0. 0. 0. 0. 0.]\n",
      " [0. 1. 0. 0. 0. 0. 0. 0. 0. 0.]\n",
      " [0. 0. 0. 1. 0. 0. 0. 0. 0. 0.]\n",
      " [0. 1. 0. 0. 0. 0. 0. 0. 0. 0.]\n",
      " [0. 0. 0. 0. 1. 0. 0. 0. 0. 0.]]\n"
     ]
    }
   ],
   "source": [
    "from keras.utils import to_categorical\n",
    "y_train_enco = to_categorical(y_train)\n",
    "y_test_enco = to_categorical(y_test)\n",
    "\n",
    "print(y_train_enco[:10])"
   ]
  },
  {
   "cell_type": "code",
   "execution_count": 50,
   "metadata": {},
   "outputs": [],
   "source": [
    "# 5. 모델 생성 : MLP\n",
    "import keras\n",
    "from keras.models import Sequential\n",
    "from keras.layers import Dense\n",
    "\n",
    "model = Sequential()\n",
    "model.add(Dense(16, input_dim = 784, activation = 'relu'))\n",
    "#model.add(Dense(32, activation = 'relu'))\n",
    "#model.add(Dense(64, activation = 'relu'))\n",
    "#model.add(Dense(16, activation = 'relu'))\n",
    "model.add(Dense(10, activation = 'softmax'))"
   ]
  },
  {
   "cell_type": "code",
   "execution_count": 51,
   "metadata": {},
   "outputs": [],
   "source": [
    "# 6. Compile - Optimizer, Loss function 설정\n",
    "model.compile(loss = 'categorical_crossentropy', optimizer = 'adam', metrics=['accuracy'])"
   ]
  },
  {
   "cell_type": "code",
   "execution_count": 52,
   "metadata": {},
   "outputs": [
    {
     "name": "stderr",
     "output_type": "stream",
     "text": [
      "/anaconda/envs/py35/lib/python3.5/site-packages/ipykernel/__main__.py:6: UserWarning: The `nb_epoch` argument in `fit` has been renamed `epochs`.\n"
     ]
    },
    {
     "name": "stdout",
     "output_type": "stream",
     "text": [
      "Train on 42000 samples, validate on 18000 samples\n",
      "Epoch 1/50\n",
      "42000/42000 [==============================] - 5s 115us/step - loss: 0.5252 - accuracy: 0.8528 - val_loss: 0.2990 - val_accuracy: 0.9123\n",
      "Epoch 2/50\n",
      "42000/42000 [==============================] - 5s 112us/step - loss: 0.2683 - accuracy: 0.9249 - val_loss: 0.2562 - val_accuracy: 0.9270\n",
      "Epoch 3/50\n",
      "42000/42000 [==============================] - 5s 111us/step - loss: 0.2338 - accuracy: 0.9332 - val_loss: 0.2370 - val_accuracy: 0.9338\n",
      "Epoch 4/50\n",
      "42000/42000 [==============================] - 5s 111us/step - loss: 0.2134 - accuracy: 0.9395 - val_loss: 0.2293 - val_accuracy: 0.9369\n",
      "Epoch 5/50\n",
      "42000/42000 [==============================] - 5s 110us/step - loss: 0.1990 - accuracy: 0.9419 - val_loss: 0.2253 - val_accuracy: 0.9364\n",
      "Epoch 6/50\n",
      "42000/42000 [==============================] - 5s 112us/step - loss: 0.1877 - accuracy: 0.9450 - val_loss: 0.2284 - val_accuracy: 0.9367\n",
      "Epoch 7/50\n",
      "42000/42000 [==============================] - 5s 111us/step - loss: 0.1788 - accuracy: 0.9480 - val_loss: 0.2150 - val_accuracy: 0.9408\n",
      "Epoch 8/50\n",
      "42000/42000 [==============================] - 5s 111us/step - loss: 0.1714 - accuracy: 0.9504 - val_loss: 0.2148 - val_accuracy: 0.9408\n",
      "Epoch 9/50\n",
      "42000/42000 [==============================] - 5s 112us/step - loss: 0.1645 - accuracy: 0.9519 - val_loss: 0.2093 - val_accuracy: 0.9427\n",
      "Epoch 10/50\n",
      "42000/42000 [==============================] - 5s 111us/step - loss: 0.1584 - accuracy: 0.9535 - val_loss: 0.2096 - val_accuracy: 0.9423\n",
      "Epoch 11/50\n",
      "42000/42000 [==============================] - 5s 110us/step - loss: 0.1537 - accuracy: 0.9551 - val_loss: 0.2100 - val_accuracy: 0.9416\n",
      "Epoch 12/50\n",
      "42000/42000 [==============================] - 5s 110us/step - loss: 0.1495 - accuracy: 0.9560 - val_loss: 0.2052 - val_accuracy: 0.9451\n",
      "Epoch 13/50\n",
      "42000/42000 [==============================] - 5s 110us/step - loss: 0.1445 - accuracy: 0.9576 - val_loss: 0.2037 - val_accuracy: 0.9446\n",
      "Epoch 14/50\n",
      "42000/42000 [==============================] - 5s 112us/step - loss: 0.1409 - accuracy: 0.9582 - val_loss: 0.2048 - val_accuracy: 0.9453\n",
      "Epoch 15/50\n",
      "42000/42000 [==============================] - 5s 110us/step - loss: 0.1370 - accuracy: 0.9603 - val_loss: 0.2053 - val_accuracy: 0.9426\n",
      "Epoch 16/50\n",
      "42000/42000 [==============================] - 5s 111us/step - loss: 0.1337 - accuracy: 0.9602 - val_loss: 0.2131 - val_accuracy: 0.9422\n",
      "Epoch 17/50\n",
      "42000/42000 [==============================] - 5s 110us/step - loss: 0.1312 - accuracy: 0.9611 - val_loss: 0.2066 - val_accuracy: 0.9445\n",
      "Epoch 18/50\n",
      "42000/42000 [==============================] - 5s 113us/step - loss: 0.1285 - accuracy: 0.9619 - val_loss: 0.2010 - val_accuracy: 0.9459\n",
      "Epoch 19/50\n",
      "42000/42000 [==============================] - 5s 111us/step - loss: 0.1244 - accuracy: 0.9628 - val_loss: 0.2029 - val_accuracy: 0.9458\n",
      "Epoch 20/50\n",
      "42000/42000 [==============================] - 5s 113us/step - loss: 0.1231 - accuracy: 0.9633 - val_loss: 0.2075 - val_accuracy: 0.9452\n",
      "Epoch 21/50\n",
      "42000/42000 [==============================] - 5s 110us/step - loss: 0.1209 - accuracy: 0.9638 - val_loss: 0.2032 - val_accuracy: 0.9442\n",
      "Epoch 22/50\n",
      "42000/42000 [==============================] - 5s 111us/step - loss: 0.1178 - accuracy: 0.9650 - val_loss: 0.2084 - val_accuracy: 0.9442\n",
      "Epoch 23/50\n",
      "42000/42000 [==============================] - 5s 111us/step - loss: 0.1161 - accuracy: 0.9655 - val_loss: 0.2104 - val_accuracy: 0.9441\n",
      "Epoch 24/50\n",
      "42000/42000 [==============================] - 5s 111us/step - loss: 0.1132 - accuracy: 0.9664 - val_loss: 0.2049 - val_accuracy: 0.9457\n",
      "Epoch 25/50\n",
      "42000/42000 [==============================] - 5s 111us/step - loss: 0.1124 - accuracy: 0.9657 - val_loss: 0.2108 - val_accuracy: 0.9457\n",
      "Epoch 26/50\n",
      "42000/42000 [==============================] - 5s 111us/step - loss: 0.1101 - accuracy: 0.9669 - val_loss: 0.2174 - val_accuracy: 0.9430\n",
      "Epoch 27/50\n",
      "42000/42000 [==============================] - 5s 112us/step - loss: 0.1088 - accuracy: 0.9672 - val_loss: 0.2114 - val_accuracy: 0.9448\n",
      "Epoch 28/50\n",
      "42000/42000 [==============================] - 5s 111us/step - loss: 0.1069 - accuracy: 0.9679 - val_loss: 0.2200 - val_accuracy: 0.9424\n",
      "Epoch 29/50\n",
      "42000/42000 [==============================] - 5s 113us/step - loss: 0.1061 - accuracy: 0.9678 - val_loss: 0.2145 - val_accuracy: 0.9438\n",
      "Epoch 30/50\n",
      "42000/42000 [==============================] - 5s 112us/step - loss: 0.1045 - accuracy: 0.9682 - val_loss: 0.2223 - val_accuracy: 0.9438\n",
      "Epoch 31/50\n",
      "42000/42000 [==============================] - 5s 113us/step - loss: 0.1023 - accuracy: 0.9697 - val_loss: 0.2141 - val_accuracy: 0.9458\n",
      "Epoch 32/50\n",
      "42000/42000 [==============================] - 5s 113us/step - loss: 0.1009 - accuracy: 0.9698 - val_loss: 0.2214 - val_accuracy: 0.9437\n",
      "Epoch 33/50\n",
      "42000/42000 [==============================] - 5s 113us/step - loss: 0.0996 - accuracy: 0.9706 - val_loss: 0.2225 - val_accuracy: 0.9431\n",
      "Epoch 34/50\n",
      "42000/42000 [==============================] - 5s 110us/step - loss: 0.0983 - accuracy: 0.9710 - val_loss: 0.2184 - val_accuracy: 0.9440\n",
      "Epoch 35/50\n",
      "42000/42000 [==============================] - 5s 113us/step - loss: 0.0976 - accuracy: 0.9704 - val_loss: 0.2310 - val_accuracy: 0.9407\n",
      "Epoch 36/50\n",
      "42000/42000 [==============================] - 5s 111us/step - loss: 0.0966 - accuracy: 0.9705 - val_loss: 0.2207 - val_accuracy: 0.9456\n",
      "Epoch 37/50\n",
      "42000/42000 [==============================] - 5s 111us/step - loss: 0.0957 - accuracy: 0.9712 - val_loss: 0.2292 - val_accuracy: 0.9431\n",
      "Epoch 38/50\n",
      "42000/42000 [==============================] - 5s 111us/step - loss: 0.0939 - accuracy: 0.9715 - val_loss: 0.2239 - val_accuracy: 0.9462\n",
      "Epoch 39/50\n",
      "42000/42000 [==============================] - 5s 111us/step - loss: 0.0931 - accuracy: 0.9717 - val_loss: 0.2299 - val_accuracy: 0.9441\n",
      "Epoch 40/50\n",
      "42000/42000 [==============================] - 5s 111us/step - loss: 0.0922 - accuracy: 0.9720 - val_loss: 0.2269 - val_accuracy: 0.9446\n",
      "Epoch 41/50\n",
      "42000/42000 [==============================] - 5s 111us/step - loss: 0.0918 - accuracy: 0.9725 - val_loss: 0.2257 - val_accuracy: 0.9443\n",
      "Epoch 42/50\n",
      "42000/42000 [==============================] - 5s 111us/step - loss: 0.0898 - accuracy: 0.9733 - val_loss: 0.2300 - val_accuracy: 0.9440\n",
      "Epoch 43/50\n",
      "42000/42000 [==============================] - 5s 110us/step - loss: 0.0901 - accuracy: 0.9727 - val_loss: 0.2309 - val_accuracy: 0.9439\n",
      "Epoch 44/50\n",
      "42000/42000 [==============================] - 5s 111us/step - loss: 0.0886 - accuracy: 0.9727 - val_loss: 0.2315 - val_accuracy: 0.9437\n",
      "Epoch 45/50\n",
      "42000/42000 [==============================] - 5s 111us/step - loss: 0.0872 - accuracy: 0.9739 - val_loss: 0.2426 - val_accuracy: 0.9413\n",
      "Epoch 46/50\n",
      "42000/42000 [==============================] - 5s 111us/step - loss: 0.0865 - accuracy: 0.9739 - val_loss: 0.2471 - val_accuracy: 0.9404\n",
      "Epoch 47/50\n",
      "42000/42000 [==============================] - 5s 111us/step - loss: 0.0856 - accuracy: 0.9744 - val_loss: 0.2356 - val_accuracy: 0.9437\n",
      "Epoch 48/50\n",
      "42000/42000 [==============================] - 5s 111us/step - loss: 0.0839 - accuracy: 0.9745 - val_loss: 0.2409 - val_accuracy: 0.9427\n",
      "Epoch 49/50\n",
      "42000/42000 [==============================] - 5s 112us/step - loss: 0.0840 - accuracy: 0.9748 - val_loss: 0.2440 - val_accuracy: 0.9421\n",
      "Epoch 50/50\n",
      "42000/42000 [==============================] - 5s 111us/step - loss: 0.0837 - accuracy: 0.9739 - val_loss: 0.2373 - val_accuracy: 0.9437\n"
     ]
    }
   ],
   "source": [
    "# 7. 모델 학습시키기\n",
    "from keras.callbacks import EarlyStopping\n",
    "\n",
    "early_stop = EarlyStopping(patience=5)\n",
    "\n",
    "history = model.fit(x_train_re, y_train_enco, nb_epoch = 50, verbose=1, validation_split=0.3, callbacks = [early_stop])"
   ]
  },
  {
   "cell_type": "code",
   "execution_count": 53,
   "metadata": {},
   "outputs": [
    {
     "name": "stdout",
     "output_type": "stream",
     "text": [
      "60000/60000 [==============================] - 3s 53us/step\n",
      "10000/10000 [==============================] - 1s 54us/step\n",
      "[0.12166628239533553, 0.9683666825294495]\n",
      "[0.22133120405767112, 0.944599986076355]\n"
     ]
    }
   ],
   "source": [
    "# 8. 모델 평가하기\n",
    "train_acc = model.evaluate(x_train_re, y_train_enco)\n",
    "test_acc  = model.evaluate(x_test_re, y_test_enco)\n",
    "\n",
    "print(train_acc)\n",
    "print(test_acc)"
   ]
  },
  {
   "cell_type": "code",
   "execution_count": 56,
   "metadata": {},
   "outputs": [
    {
     "data": {
      "image/png": "[encoded data removed]",
      "text/plain": [
       "<Figure size 216x216 with 1 Axes>"
      ]
     },
     "metadata": {
      "needs_background": "light"
     },
     "output_type": "display_data"
    },
    {
     "data": {
      "image/png": "[encoded data removed]",
      "text/plain": [
       "<Figure size 216x216 with 1 Axes>"
      ]
     },
     "metadata": {
      "needs_background": "light"
     },
     "output_type": "display_data"
    },
    {
     "data": {
      "image/png": "[encoded data removed]",
      "text/plain": [
       "<Figure size 216x216 with 1 Axes>"
      ]
     },
     "metadata": {
      "needs_background": "light"
     },
     "output_type": "display_data"
    }
   ],
   "source": [
    "# 9. 이미지를 랜덤으로 선택해 훈련된 모델로 예측 🖼\n",
    "\n",
    "import numpy\n",
    "for index in numpy.random.choice(len(y_test), 3, replace = False):\n",
    "    predicted = model.predict(x_test_re[index:index + 1])[0]\n",
    "    label = y_test_enco[index]\n",
    "    result_label = numpy.where(label == numpy.amax(label))\n",
    "    result_predicted = numpy.where(predicted == numpy.amax(predicted))\n",
    "    title = \"Label value = %s  Predicted value = %s \" % (result_label[0], result_predicted[0])\n",
    "    \n",
    "    fig = plt.figure(1, figsize = (3,3))\n",
    "    ax1 = fig.add_axes((0,0,.8,.8))\n",
    "    ax1.set_title(title)\n",
    "    images = x_test_re\n",
    "    plt.imshow(images[index].reshape(28, 28), cmap = 'Greys', interpolation = 'nearest')\n",
    "    plt.show()"
   ]
  },
  {
   "cell_type": "code",
   "execution_count": 57,
   "metadata": {},
   "outputs": [
    {
     "data": {
      "image/png": "[encoded data removed]",
      "text/plain": [
       "<Figure size 432x288 with 1 Axes>"
      ]
     },
     "metadata": {
      "needs_background": "light"
     },
     "output_type": "display_data"
    }
   ],
   "source": [
    "# 10. 학습 시각화하기\n",
    "import matplotlib.pyplot as plt\n",
    "\n",
    "plt.plot(history.history['loss'])\n",
    "plt.plot(history.history['val_loss'])\n",
    "plt.title('Loss')\n",
    "plt.ylabel('loss')\n",
    "plt.xlabel('epoch')\n",
    "plt.legend(['train', 'val_loss'], loc = 'upper left')\n",
    "plt.show()"
   ]
  },
  {
   "cell_type": "code",
   "execution_count": 60,
   "metadata": {},
   "outputs": [
    {
     "data": {
      "text/plain": [
       "array([7.8646886e-01, 3.1720954e-18, 9.3414985e-02, 3.7253979e-08,\n",
       "       4.4424880e-11, 7.4834245e-09, 1.2187979e-06, 8.1934305e-03,\n",
       "       1.0875880e-01, 3.1626890e-03], dtype=float32)"
      ]
     },
     "execution_count": 60,
     "metadata": {},
     "output_type": "execute_result"
    }
   ],
   "source": [
    "predicted = model.predict(x_test_re[index:index + 1])[0]\n",
    "predicted"
   ]
  },
  {
   "cell_type": "code",
   "execution_count": 61,
   "metadata": {},
   "outputs": [
    {
     "data": {
      "text/plain": [
       "[<matplotlib.lines.Line2D at 0x7f265002aa58>]"
      ]
     },
     "execution_count": 61,
     "metadata": {},
     "output_type": "execute_result"
    },
    {
     "data": {
      "image/png": "[encoded data removed]",
      "text/plain": [
       "<Figure size 432x288 with 1 Axes>"
      ]
     },
     "metadata": {
      "needs_background": "light"
     },
     "output_type": "display_data"
    }
   ],
   "source": [
    "plt.plot(history.history['loss'])"
   ]
  },
  {
   "cell_type": "code",
   "execution_count": 62,
   "metadata": {},
   "outputs": [
    {
     "ename": "TypeError",
     "evalue": "'History' object is not subscriptable",
     "output_type": "error",
     "traceback": [
      "\u001b[0;31m---------------------------------------------------------------------------\u001b[0m",
      "\u001b[0;31mTypeError\u001b[0m                                 Traceback (most recent call last)",
      "\u001b[0;32m<ipython-input-62-de7ebabc094b>\u001b[0m in \u001b[0;36m<module>\u001b[0;34m()\u001b[0m\n\u001b[0;32m----> 1\u001b[0;31m \u001b[0mplt\u001b[0m\u001b[0;34m.\u001b[0m\u001b[0mplot\u001b[0m\u001b[0;34m(\u001b[0m\u001b[0mhistory\u001b[0m\u001b[0;34m[\u001b[0m\u001b[0;34m'loss'\u001b[0m\u001b[0;34m]\u001b[0m\u001b[0;34m)\u001b[0m\u001b[0;34m\u001b[0m\u001b[0m\n\u001b[0m",
      "\u001b[0;31mTypeError\u001b[0m: 'History' object is not subscriptable"
     ]
    }
   ],
   "source": [
    "plt.plot(history.history['loss'])"
   ]
  },
  {
   "cell_type": "code",
   "execution_count": null,
   "metadata": {},
   "outputs": [],
   "source": []
  }
 ],
 "metadata": {
  "kernelspec": {
   "display_name": "Python 3.5",
   "language": "python",
   "name": "python3"
  },
  "language_info": {
   "codemirror_mode": {
    "name": "ipython",
    "version": 3
   },
   "file_extension": ".py",
   "mimetype": "text/x-python",
   "name": "python",
   "nbconvert_exporter": "python",
   "pygments_lexer": "ipython3",
   "version": "3.5.6"
  }
 },
 "nbformat": 4,
 "nbformat_minor": 2
}
