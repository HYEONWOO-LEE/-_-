{
 "cells": [
  {
   "cell_type": "markdown",
   "metadata": {},
   "source": [
    "객체 지향 프로그래밍: 관련 함수와 변수를 묶어 하나의 객체로 관리하는 프로그래밍 방법"
   ]
  },
  {
   "cell_type": "markdown",
   "metadata": {},
   "source": [
    "class & instance"
   ]
  },
  {
   "cell_type": "markdown",
   "metadata": {},
   "source": [
    "변수;\n",
    "instance 변수: 각 instance마다 값을 가지는 변수"
   ]
  },
  {
   "cell_type": "markdown",
   "metadata": {},
   "source": [
    "구조"
   ]
  },
  {
   "cell_type": "markdown",
   "metadata": {},
   "source": [
    "class class_name:  \n",
    "    class_statements()  \n",
    "    class func0():  \n",
    "        func0_statement ...  \n",
    "    class funcN()  \n",
    "        funcN_statement..."
   ]
  },
  {
   "cell_type": "code",
   "execution_count": 8,
   "metadata": {},
   "outputs": [],
   "source": [
    "class miner:\n",
    "    def genMiner(self):\n",
    "        print(\"광부가 생성되었습니다.\")"
   ]
  },
  {
   "cell_type": "code",
   "execution_count": 9,
   "metadata": {},
   "outputs": [
    {
     "name": "stdout",
     "output_type": "stream",
     "text": [
      "광부가 생성되었습니다.\n"
     ]
    }
   ],
   "source": [
    "SCV = miner()\n",
    "SCV.genMiner()"
   ]
  },
  {
   "cell_type": "code",
   "execution_count": 10,
   "metadata": {},
   "outputs": [
    {
     "name": "stdout",
     "output_type": "stream",
     "text": [
      "광부가 생성되었습니다.\n"
     ]
    }
   ],
   "source": [
    "SCV = miner()\n",
    "miner.genMiner(SCV)"
   ]
  },
  {
   "cell_type": "code",
   "execution_count": 11,
   "metadata": {},
   "outputs": [
    {
     "name": "stdout",
     "output_type": "stream",
     "text": [
      "광부가 생성되었습니다.\n"
     ]
    }
   ],
   "source": [
    "miner.genMiner(SCV)\n"
   ]
  },
  {
   "cell_type": "code",
   "execution_count": 14,
   "metadata": {},
   "outputs": [
    {
     "name": "stdout",
     "output_type": "stream",
     "text": [
      "광부가 생성되었습니다.\n"
     ]
    }
   ],
   "source": [
    "class minser:\n",
    "    def __init__(self, mineral):\n",
    "        self.mineral= mineral\n",
    "    print(\"광부가 생성되었습니다.\")\n",
    "    def __call__(self):\n",
    "        print(\"현재 광물량은: \", self.mineral)"
   ]
  },
  {
   "cell_type": "code",
   "execution_count": 15,
   "metadata": {},
   "outputs": [],
   "source": [
    "scv= minser(100)"
   ]
  },
  {
   "cell_type": "code",
   "execution_count": 42,
   "metadata": {},
   "outputs": [],
   "source": [
    "class miner:\n",
    "    def __init__(self, mineral):\n",
    "        self.mineral = mineral\n",
    "    def mininigMineral(self):\n",
    "        self.mineral += 10\n",
    "    def __call__(self):\n",
    "        print('현재 광물량은: ', mineral)\n",
    "SCV = miner(100)"
   ]
  },
  {
   "cell_type": "code",
   "execution_count": 43,
   "metadata": {},
   "outputs": [
    {
     "data": {
      "text/plain": [
       "100"
      ]
     },
     "execution_count": 43,
     "metadata": {},
     "output_type": "execute_result"
    }
   ],
   "source": [
    "SCV.mineral"
   ]
  },
  {
   "cell_type": "code",
   "execution_count": 44,
   "metadata": {},
   "outputs": [
    {
     "ename": "AttributeError",
     "evalue": "'miner' object has no attribute 'miningMineral'",
     "output_type": "error",
     "traceback": [
      "\u001b[1;31m---------------------------------------------------------------------------\u001b[0m",
      "\u001b[1;31mAttributeError\u001b[0m                            Traceback (most recent call last)",
      "\u001b[1;32m<ipython-input-44-69eed9d3669d>\u001b[0m in \u001b[0;36m<module>\u001b[1;34m\u001b[0m\n\u001b[1;32m----> 1\u001b[1;33m \u001b[0mSCV\u001b[0m\u001b[1;33m.\u001b[0m\u001b[0mminingMineral\u001b[0m\u001b[1;33m(\u001b[0m\u001b[1;33m)\u001b[0m\u001b[1;33m\u001b[0m\u001b[1;33m\u001b[0m\u001b[0m\n\u001b[0m",
      "\u001b[1;31mAttributeError\u001b[0m: 'miner' object has no attribute 'miningMineral'"
     ]
    }
   ],
   "source": [
    "SCV.miningMineral()"
   ]
  },
  {
   "cell_type": "markdown",
   "metadata": {},
   "source": [
    "**스펠링 문제인가?"
   ]
  },
  {
   "cell_type": "code",
   "execution_count": 52,
   "metadata": {},
   "outputs": [],
   "source": [
    "class miner:\n",
    "    def __init__(self, mineral, gas):\n",
    "        self.mineral = mineral\n",
    "        self.gas = gas\n",
    "    def miningMineral(self):\n",
    "        self.mineral += 10\n",
    "    def miningGas(self):\n",
    "        self.gas += 10\n",
    "SCV = miner(100,50)"
   ]
  },
  {
   "cell_type": "code",
   "execution_count": 53,
   "metadata": {},
   "outputs": [
    {
     "data": {
      "text/plain": [
       "100"
      ]
     },
     "execution_count": 53,
     "metadata": {},
     "output_type": "execute_result"
    }
   ],
   "source": [
    "SCV.mineral"
   ]
  },
  {
   "cell_type": "code",
   "execution_count": 54,
   "metadata": {},
   "outputs": [
    {
     "data": {
      "text/plain": [
       "50"
      ]
     },
     "execution_count": 54,
     "metadata": {},
     "output_type": "execute_result"
    }
   ],
   "source": [
    "SCV.gas"
   ]
  },
  {
   "cell_type": "code",
   "execution_count": 55,
   "metadata": {},
   "outputs": [],
   "source": [
    "miner.miningMineral(SCV)"
   ]
  },
  {
   "cell_type": "code",
   "execution_count": 56,
   "metadata": {},
   "outputs": [],
   "source": [
    "class miner:\n",
    "    totalMineral = 0\n",
    "    def __init__(self, mineral):\n",
    "        self.mineral = mineral\n",
    "        miner.totalMineral += mineral\n",
    "    def miningMineral(self):\n",
    "        self.mineral += 10\n",
    "        miner.totalMineral +=10"
   ]
  },
  {
   "cell_type": "code",
   "execution_count": 57,
   "metadata": {},
   "outputs": [],
   "source": [
    "SCV= miner(50)\n",
    "probe= miner(100)"
   ]
  },
  {
   "cell_type": "code",
   "execution_count": 58,
   "metadata": {},
   "outputs": [
    {
     "data": {
      "text/plain": [
       "150"
      ]
     },
     "execution_count": 58,
     "metadata": {},
     "output_type": "execute_result"
    }
   ],
   "source": [
    "miner.totalMineral"
   ]
  },
  {
   "cell_type": "code",
   "execution_count": 59,
   "metadata": {},
   "outputs": [],
   "source": [
    "SCV.miningMineral()"
   ]
  },
  {
   "cell_type": "code",
   "execution_count": 60,
   "metadata": {},
   "outputs": [
    {
     "data": {
      "text/plain": [
       "160"
      ]
     },
     "execution_count": 60,
     "metadata": {},
     "output_type": "execute_result"
    }
   ],
   "source": [
    "SCV.totalMineral"
   ]
  },
  {
   "cell_type": "code",
   "execution_count": 62,
   "metadata": {},
   "outputs": [],
   "source": [
    "class miner:\n",
    "    totalMineral = 0\n",
    "    def __init__(self, mineral):\n",
    "        self.mineral = mineral\n",
    "        miner.totalMineral += mineral\n",
    "    def miningMineral(self):\n",
    "        self.mineral += 10\n",
    "        miner.totalMineral +=10\n",
    "    @classmethod\n",
    "    def printMineral(cls):\n",
    "        print(cls.totalMineral)"
   ]
  },
  {
   "cell_type": "code",
   "execution_count": 63,
   "metadata": {},
   "outputs": [
    {
     "name": "stdout",
     "output_type": "stream",
     "text": [
      "50\n"
     ]
    }
   ],
   "source": [
    "SCV= miner(50)\n",
    "miner.printMineral()"
   ]
  },
  {
   "cell_type": "code",
   "execution_count": 64,
   "metadata": {},
   "outputs": [
    {
     "name": "stdout",
     "output_type": "stream",
     "text": [
      "60\n"
     ]
    }
   ],
   "source": [
    "SCV.miningMineral()\n",
    "SCV.printMineral()"
   ]
  },
  {
   "cell_type": "code",
   "execution_count": 65,
   "metadata": {},
   "outputs": [
    {
     "name": "stdout",
     "output_type": "stream",
     "text": [
      "60\n"
     ]
    }
   ],
   "source": [
    "SCV.printMineral()"
   ]
  },
  {
   "cell_type": "code",
   "execution_count": 66,
   "metadata": {},
   "outputs": [],
   "source": [
    "SCV.miningMineral()"
   ]
  },
  {
   "cell_type": "code",
   "execution_count": 67,
   "metadata": {},
   "outputs": [
    {
     "name": "stdout",
     "output_type": "stream",
     "text": [
      "70\n"
     ]
    }
   ],
   "source": [
    "SCV.printMineral()"
   ]
  },
  {
   "cell_type": "code",
   "execution_count": 68,
   "metadata": {},
   "outputs": [
    {
     "name": "stdout",
     "output_type": "stream",
     "text": [
      "80\n"
     ]
    }
   ],
   "source": [
    "SCV.miningMineral()\n",
    "SCV.printMineral()"
   ]
  },
  {
   "cell_type": "code",
   "execution_count": 69,
   "metadata": {},
   "outputs": [],
   "source": [
    "class miner:\n",
    "    totalMineral = 0\n",
    "    def __init__(self, mineral):\n",
    "        self.mineral = mineral\n",
    "        miner.totalMineral += mineral\n",
    "    def printMineral(self):\n",
    "        print(self.totalMineral)\n",
    "    @classmethod\n",
    "    def printMineral(cls):\n",
    "        print(cls.totalMineral)"
   ]
  },
  {
   "cell_type": "code",
   "execution_count": 71,
   "metadata": {},
   "outputs": [
    {
     "name": "stdout",
     "output_type": "stream",
     "text": [
      "200\n"
     ]
    }
   ],
   "source": [
    "SCV = miner(50)\n",
    "probe= miner(100)\n",
    "miner.printMineral()"
   ]
  },
  {
   "cell_type": "code",
   "execution_count": 72,
   "metadata": {},
   "outputs": [
    {
     "ename": "AttributeError",
     "evalue": "'miner' object has no attribute 'miningMineral'",
     "output_type": "error",
     "traceback": [
      "\u001b[1;31m---------------------------------------------------------------------------\u001b[0m",
      "\u001b[1;31mAttributeError\u001b[0m                            Traceback (most recent call last)",
      "\u001b[1;32m<ipython-input-72-88cdb94d31f8>\u001b[0m in \u001b[0;36m<module>\u001b[1;34m\u001b[0m\n\u001b[1;32m----> 1\u001b[1;33m \u001b[0mSCV\u001b[0m\u001b[1;33m.\u001b[0m\u001b[0mminingMineral\u001b[0m\u001b[1;33m(\u001b[0m\u001b[1;33m)\u001b[0m\u001b[1;33m\u001b[0m\u001b[1;33m\u001b[0m\u001b[0m\n\u001b[0m\u001b[0;32m      2\u001b[0m \u001b[0mSCV\u001b[0m\u001b[1;33m.\u001b[0m\u001b[0mprintMineral\u001b[0m\u001b[1;33m(\u001b[0m\u001b[1;33m)\u001b[0m\u001b[1;33m\u001b[0m\u001b[1;33m\u001b[0m\u001b[0m\n",
      "\u001b[1;31mAttributeError\u001b[0m: 'miner' object has no attribute 'miningMineral'"
     ]
    }
   ],
   "source": [
    "SCV.miningMineral()\n",
    "SCV.printMineral()"
   ]
  },
  {
   "cell_type": "markdown",
   "metadata": {},
   "source": [
    "**왜 안되지?"
   ]
  },
  {
   "cell_type": "code",
   "execution_count": 73,
   "metadata": {},
   "outputs": [],
   "source": [
    "class miner:\n",
    "    totalMineral = 0\n",
    "    totalGas = 0\n",
    "    minerNum= 0\n",
    "    def __init__(self, mineral, gas):\n",
    "        self.mineral = mineral\n",
    "        self.gas = gas\n",
    "        miner.totalMineral += mineral\n",
    "        miner.totalGas += gas\n",
    "        miner.minerNum += 1\n",
    "        print('광부가 생성되었습니다.')\n",
    "    def __del__(self):\n",
    "        miner.minerNum -= 1\n",
    "        print('광부가 소멸되었습니다.')\n",
    "    def miningMineral(self):\n",
    "        self.mineral += 10\n",
    "        miner.totalMineral += 10\n",
    "    def miningGas(self):\n",
    "        miner.totalGas += 5\n",
    "    @classmethod\n",
    "    def printMinerNum(cls):\n",
    "        print(cls.minerNum)    "
   ]
  },
  {
   "cell_type": "code",
   "execution_count": 75,
   "metadata": {},
   "outputs": [],
   "source": [
    "class miner:\n",
    "    def __init__(self, mineral):\n",
    "        self.mineral = mineral\n",
    "    def add(self, other):\n",
    "        return miner(self.mineral + other.mineral)"
   ]
  },
  {
   "cell_type": "code",
   "execution_count": 76,
   "metadata": {},
   "outputs": [],
   "source": [
    "scv = miner(50)\n",
    "probe = miner(100)"
   ]
  },
  {
   "cell_type": "code",
   "execution_count": 77,
   "metadata": {},
   "outputs": [
    {
     "data": {
      "text/plain": [
       "150"
      ]
     },
     "execution_count": 77,
     "metadata": {},
     "output_type": "execute_result"
    }
   ],
   "source": [
    "drone = scv.add(probe)\n",
    "drone.mineral"
   ]
  },
  {
   "cell_type": "markdown",
   "metadata": {},
   "source": [
    "위의 과정을 magic method를 통해 다시 연산해보자"
   ]
  },
  {
   "cell_type": "code",
   "execution_count": 78,
   "metadata": {},
   "outputs": [],
   "source": [
    "class miner:\n",
    "    def __init__(self, mineral):\n",
    "        self.mineral = mineral\n",
    "    def __add__(self, other):\n",
    "        return miner(self.mineral + other.mineral)"
   ]
  },
  {
   "cell_type": "code",
   "execution_count": 79,
   "metadata": {},
   "outputs": [],
   "source": [
    "scv=miner(50)\n",
    "probe = miner(100)"
   ]
  },
  {
   "cell_type": "code",
   "execution_count": 80,
   "metadata": {},
   "outputs": [
    {
     "data": {
      "text/plain": [
       "150"
      ]
     },
     "execution_count": 80,
     "metadata": {},
     "output_type": "execute_result"
    }
   ],
   "source": [
    "drone=scv + probe\n",
    "drone.mineral"
   ]
  },
  {
   "cell_type": "markdown",
   "metadata": {},
   "source": [
    "drone = scv + probe <-- scv.__add__(probe) 와 동일하다"
   ]
  },
  {
   "cell_type": "code",
   "execution_count": 93,
   "metadata": {},
   "outputs": [],
   "source": [
    "class miner:\n",
    "    def __init__(self, mineral, gas):\n",
    "        self.mineral = mineral\n",
    "        self.gas = gas\n",
    "    def __add__(self, other):\n",
    "        return miner(self.mineral+ other.mineral, self.gas+other.gas)\n",
    "    def __sub__(self, other):\n",
    "        self.mineral, other.mineral = other.mineral, self.mineral\n",
    "        self.gas, other.gas = other.gas, self.gas\n",
    "    def __mul__(self, other):\n",
    "        return miner(max(self.mineral,other.mineral), max(self.gas,other.gas))\n",
    "    def __call__(self):\n",
    "        print(self.mineral, self.gas)"
   ]
  },
  {
   "cell_type": "code",
   "execution_count": 95,
   "metadata": {},
   "outputs": [],
   "source": [
    "scv=miner(50,10)\n",
    "probe=miner(100, 50)"
   ]
  },
  {
   "cell_type": "code",
   "execution_count": 96,
   "metadata": {},
   "outputs": [
    {
     "name": "stdout",
     "output_type": "stream",
     "text": [
      "150 60\n"
     ]
    }
   ],
   "source": [
    "drone=scv+probe\n",
    "drone()"
   ]
  },
  {
   "cell_type": "code",
   "execution_count": 92,
   "metadata": {},
   "outputs": [
    {
     "data": {
      "text/plain": [
       "10"
      ]
     },
     "execution_count": 92,
     "metadata": {},
     "output_type": "execute_result"
    }
   ],
   "source": [
    "scv.gas"
   ]
  },
  {
   "cell_type": "markdown",
   "metadata": {},
   "source": [
    "## 상속"
   ]
  },
  {
   "cell_type": "markdown",
   "metadata": {},
   "source": [
    "슈퍼 클래스, 부모 클래스라고 부름  \n",
    "반대는 서브 클래스, 자식 클래스라고 부름  \n",
    "  \n",
    "슈퍼 클래스 = 자동차  \n",
    "서브 클래스 = suv"
   ]
  },
  {
   "cell_type": "markdown",
   "metadata": {},
   "source": [
    "슈퍼클래스 생성"
   ]
  },
  {
   "cell_type": "code",
   "execution_count": 99,
   "metadata": {},
   "outputs": [],
   "source": [
    "class miner:\n",
    "    def __init__(self, mineral):\n",
    "        self.mineral = mineral\n",
    "    def miningMineral(self):\n",
    "        self.mineral += 10"
   ]
  },
  {
   "cell_type": "markdown",
   "metadata": {},
   "source": [
    "자식클래스 생성"
   ]
  },
  {
   "cell_type": "code",
   "execution_count": 104,
   "metadata": {},
   "outputs": [],
   "source": [
    "class goldMiner(miner):\n",
    "    def __init__(self, mineral, gold):\n",
    "        super().__init__(mineral) #슈퍼클래스의 속성을 그대로 상속 받겠다.\n",
    "        self.gold = gold\n",
    "    def miningGold(self):\n",
    "        self.gold += 10"
   ]
  },
  {
   "cell_type": "code",
   "execution_count": 101,
   "metadata": {},
   "outputs": [],
   "source": [
    "scv=goldMiner(100, 50)"
   ]
  },
  {
   "cell_type": "code",
   "execution_count": 102,
   "metadata": {},
   "outputs": [],
   "source": [
    "scv.miningMineral()"
   ]
  },
  {
   "cell_type": "code",
   "execution_count": 103,
   "metadata": {},
   "outputs": [],
   "source": [
    "scv.miningGold()"
   ]
  },
  {
   "cell_type": "markdown",
   "metadata": {},
   "source": [
    "오버라이딩"
   ]
  },
  {
   "cell_type": "code",
   "execution_count": 105,
   "metadata": {},
   "outputs": [],
   "source": [
    "class miner:\n",
    "    def __init__(self, mineral):\n",
    "        self.mineral = mineral\n",
    "    def miningMineral(self):\n",
    "        self.mineral += 10"
   ]
  },
  {
   "cell_type": "code",
   "execution_count": 106,
   "metadata": {},
   "outputs": [],
   "source": [
    "class goldMiner(miner):\n",
    "    def __init__(self, mineral, gold):\n",
    "        super().__init__(mineral)\n",
    "        self.gold= gold\n",
    "    def miningMineral(self):\n",
    "        self.mineral += 10 + self.gold*0.01"
   ]
  },
  {
   "cell_type": "code",
   "execution_count": 108,
   "metadata": {},
   "outputs": [],
   "source": [
    "scv= goldMiner(100, 50)"
   ]
  },
  {
   "cell_type": "code",
   "execution_count": 109,
   "metadata": {},
   "outputs": [],
   "source": [
    "scv.miningMineral()"
   ]
  },
  {
   "cell_type": "markdown",
   "metadata": {},
   "source": [
    "### 다중 상속"
   ]
  },
  {
   "cell_type": "markdown",
   "metadata": {},
   "source": [
    "#### 슈퍼클래스 사용"
   ]
  },
  {
   "cell_type": "code",
   "execution_count": 116,
   "metadata": {},
   "outputs": [
    {
     "name": "stdout",
     "output_type": "stream",
     "text": [
      "grandparent\n",
      "parent1\n",
      "grandparent\n",
      "parent2\n",
      "child\n"
     ]
    }
   ],
   "source": [
    "class grandparent:\n",
    "    def __init__(self):\n",
    "        print(\"grandparent\")\n",
    "class parent1(grandparent):\n",
    "    def __init__(self):\n",
    "        grandparent.__init__(self)\n",
    "        print(\"parent1\")\n",
    "class parent2(grandparent):\n",
    "    def __init__(self):\n",
    "        grandparent.__init__(self)\n",
    "        print(\"parent2\")\n",
    "class child(parent1, parent2):\n",
    "    def __init__(self):\n",
    "        parent1.__init__(self)\n",
    "        parent2.__init__(self)\n",
    "        print(\"child\")\n",
    "person = child()"
   ]
  }
 ],
 "metadata": {
  "kernelspec": {
   "display_name": "Python 3",
   "language": "python",
   "name": "python3"
  },
  "language_info": {
   "codemirror_mode": {
    "name": "ipython",
    "version": 3
   },
   "file_extension": ".py",
   "mimetype": "text/x-python",
   "name": "python",
   "nbconvert_exporter": "python",
   "pygments_lexer": "ipython3",
   "version": "3.7.4"
  }
 },
 "nbformat": 4,
 "nbformat_minor": 2
}
