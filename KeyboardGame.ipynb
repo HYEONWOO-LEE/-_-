{
 "cells": [
  {
   "cell_type": "markdown",
   "metadata": {},
   "source": [
    "### 영어단어 타자연습 프로그램"
   ]
  },
  {
   "cell_type": "code",
   "execution_count": 47,
   "metadata": {},
   "outputs": [],
   "source": [
    "from tkinter import *\n",
    "import random\n",
    "\n",
    "# 단어가 랜덤으로 나오게 하기\n",
    "def randomWord():\n",
    "    global randy\n",
    "    global randindex\n",
    "    randindex = random.randint(0, len(wordlist)-1)\n",
    "    randx = random.randint(50, 450)\n",
    "    randy = random.randint(50, 100)\n",
    "    canvas.create_text(randx, randy, font = 'Helvetica 16', text = wordlist[randindex], tags = 'word')\n",
    "\n",
    "# 프로그램 종료키\n",
    "a = True\n",
    "def Quit():\n",
    "    global a\n",
    "    a = False\n",
    "    window.destroy()\n",
    "\n",
    "# 단어 입력 연동하기\n",
    "def del_word(event):\n",
    "    if entry.get()== wordlist[randindex]:\n",
    "        canvas.delete('word')\n",
    "        entry.delete(0, END)\n",
    "        randomWord()\n",
    "    else:\n",
    "        entry.delete(0, END)\n",
    "\n",
    "window = Tk()\n",
    "window.title('영어단어타자연습')\n",
    "\n",
    "canvas = Canvas(window, bg = 'white', width = 500, height = 500)\n",
    "canvas.pack()\n",
    "entry = Entry(window, font = 'Helvetica 16')\n",
    "\n",
    "entry.pack()\n",
    "button = Button(window, text = '게임종료하기', font = 'Helvetica 16 bold', command = Quit)\n",
    "button.pack()\n",
    "\n",
    "\n",
    "\n",
    "# 영어단어 리스트\n",
    "wordlist = \"and baboon badger bat bear beaer camel cat clam cobra cougar coyote crow deer dog donkey duck eagle ferret fox frog goat goose haek lion lizard liama mole monkey moose mouse mule bewt otter owl panda parrot plgeon python rabbit ram rat raven thino salmon seal shark sheep skunk sioth snake spider stork swan tiger toad trout turkey tutle wease whale wolf zebra\".split()\n",
    "wd = random.choice(wordlist)\n",
    "\n",
    "randomWord()\n",
    "canvas.bind_all(\"<KeyPress-Return>\", del_word)\n",
    "\n",
    "\n",
    "cnt=1\n",
    "if entry.get() == wordlist[randindex]:\n",
    "    cnt+=1\n",
    "\n",
    "i=3\n",
    "if cnt%3==0:\n",
    "    i+=5\n",
    "    \n",
    "while a:\n",
    "    canvas.move('word', 0 , i)\n",
    "    canvas.after(100)\n",
    "    canvas.update()\n",
    "    randy = randy + i\n",
    "    if randy > 500:\n",
    "        canvas.delete('word')\n",
    "        randomWord()\n",
    "\n",
    "\n",
    "window.mainloop()"
   ]
  },
  {
   "cell_type": "code",
   "execution_count": 5,
   "metadata": {},
   "outputs": [
    {
     "name": "stdout",
     "output_type": "stream",
     "text": [
      "python\n"
     ]
    }
   ],
   "source": [
    "print(r.choice(wordlist))"
   ]
  },
  {
   "cell_type": "code",
   "execution_count": 9,
   "metadata": {},
   "outputs": [
    {
     "name": "stdout",
     "output_type": "stream",
     "text": [
      "['parrot']\n"
     ]
    }
   ],
   "source": [
    "print(r.sample(wordlist,1))"
   ]
  }
 ],
 "metadata": {
  "kernelspec": {
   "display_name": "Python 3",
   "language": "python",
   "name": "python3"
  },
  "language_info": {
   "codemirror_mode": {
    "name": "ipython",
    "version": 3
   },
   "file_extension": ".py",
   "mimetype": "text/x-python",
   "name": "python",
   "nbconvert_exporter": "python",
   "pygments_lexer": "ipython3",
   "version": "3.7.4"
  }
 },
 "nbformat": 4,
 "nbformat_minor": 2
}
