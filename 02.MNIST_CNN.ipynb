{
 "cells": [
  {
   "cell_type": "markdown",
   "metadata": {},
   "source": [
    "### 딥-러닝 과정 CNN | 2020.02.27. "
   ]
  },
  {
   "cell_type": "markdown",
   "metadata": {},
   "source": [
    "### 두번째 실습. Keras 모델 생성/학습 - MNIST : CNN\n",
    "[Keras Dataset](https://keras.io/ko/datasets/#mnist)"
   ]
  },
  {
   "cell_type": "code",
   "execution_count": 2,
   "metadata": {},
   "outputs": [
    {
     "name": "stdout",
     "output_type": "stream",
     "text": [
      "(60000, 28, 28)\n",
      "(60000,)\n",
      "(10000, 28, 28)\n",
      "(10000,)\n"
     ]
    }
   ],
   "source": [
    "# 1. 데이터 불러오기\n",
    "from keras.datasets import mnist\n",
    "\n",
    "(x_train, y_train), (x_test, y_test) = mnist.load_data()\n",
    "\n",
    "print(x_train.shape)\n",
    "print(y_train.shape)\n",
    "print(x_test.shape)\n",
    "print(y_test.shape)"
   ]
  },
  {
   "cell_type": "code",
   "execution_count": 5,
   "metadata": {},
   "outputs": [
    {
     "name": "stdout",
     "output_type": "stream",
     "text": [
      "0\n"
     ]
    },
    {
     "data": {
      "image/png": "[encoded data removed]",
      "text/plain": [
       "<Figure size 432x288 with 1 Axes>"
      ]
     },
     "metadata": {
      "needs_background": "light"
     },
     "output_type": "display_data"
    }
   ],
   "source": [
    "# 2. 이미지 데이터 확인하기 🖼\n",
    "import matplotlib.pyplot as plt\n",
    "\n",
    "image = x_train[1]\n",
    "plt.imshow(image, cmap = plt.cm.gray)\n",
    "print(y_train[1])"
   ]
  },
  {
   "cell_type": "code",
   "execution_count": 18,
   "metadata": {},
   "outputs": [
    {
     "name": "stdout",
     "output_type": "stream",
     "text": [
      "(60000, 28, 28, 1)\n",
      "(10000, 28, 28, 1)\n"
     ]
    }
   ],
   "source": [
    "# 3-1. 이미지 데이터 전처리 : 2차원->3차원 🌟🌟🌟\n",
    "x_train_re = x_train.reshape((60000, 28,28,1))\n",
    "x_test_re = x_test.reshape((10000, 28,28,1))\n",
    "\n",
    "print(x_train_re.shape)\n",
    "print(x_test_re.shape)"
   ]
  },
  {
   "cell_type": "code",
   "execution_count": 19,
   "metadata": {},
   "outputs": [],
   "source": [
    "# 3-2. 이미지 데이터 전처리 : Normalzation \n",
    "x_train_re = x_train_re / 255\n",
    "x_test_re = x_test_re / 255"
   ]
  },
  {
   "cell_type": "code",
   "execution_count": 21,
   "metadata": {},
   "outputs": [
    {
     "name": "stdout",
     "output_type": "stream",
     "text": [
      "[[0. 0. 0. 0. 0. 1. 0. 0. 0. 0.]\n",
      " [1. 0. 0. 0. 0. 0. 0. 0. 0. 0.]\n",
      " [0. 0. 0. 0. 1. 0. 0. 0. 0. 0.]\n",
      " [0. 1. 0. 0. 0. 0. 0. 0. 0. 0.]\n",
      " [0. 0. 0. 0. 0. 0. 0. 0. 0. 1.]\n",
      " [0. 0. 1. 0. 0. 0. 0. 0. 0. 0.]\n",
      " [0. 1. 0. 0. 0. 0. 0. 0. 0. 0.]\n",
      " [0. 0. 0. 1. 0. 0. 0. 0. 0. 0.]\n",
      " [0. 1. 0. 0. 0. 0. 0. 0. 0. 0.]\n",
      " [0. 0. 0. 0. 1. 0. 0. 0. 0. 0.]]\n"
     ]
    }
   ],
   "source": [
    "# 4. Label 전처리 (one-hot encoding) \n",
    "from keras.utils import to_categorical\n",
    "\n",
    "y_train_en = to_categorical(y_train)\n",
    "y_test_en = to_categorical(y_test)\n",
    "\n",
    "print(y_train_en[:10])"
   ]
  },
  {
   "cell_type": "code",
   "execution_count": 23,
   "metadata": {},
   "outputs": [
    {
     "name": "stdout",
     "output_type": "stream",
     "text": [
      "<bound method Network.summary of <keras.engine.sequential.Sequential object at 0x7fedc806f1d0>>\n"
     ]
    }
   ],
   "source": [
    "# 5. 모델 생성 : CNN 🌟🌟🌟\n",
    "from keras.models import Sequential\n",
    "from keras.layers import Dense, Conv2D, MaxPooling2D, Flatten\n",
    "\n",
    "model = Sequential()\n",
    "model.add(Conv2D(filters=32, kernel_size=(3,3), padding='same', activation = 'relu', input_shape=(28,28,1)))\n",
    "model.add(MaxPooling2D(pool_size=(2,2)))\n",
    "model.add(Flatten())\n",
    "model.add(Dense(128, activation='relu'))\n",
    "model.add(Dense(10, activation='softmax'))\n",
    "\n",
    "print(model.summary)"
   ]
  },
  {
   "cell_type": "code",
   "execution_count": 24,
   "metadata": {},
   "outputs": [],
   "source": [
    "# 6. Compile - Optimizer, Loss function 설정\n",
    "model.compile(loss = 'categorical_crossentropy', optimizer='adam', metrics=['accuracy'])"
   ]
  },
  {
   "cell_type": "code",
   "execution_count": 25,
   "metadata": {},
   "outputs": [
    {
     "name": "stderr",
     "output_type": "stream",
     "text": [
      "/anaconda/envs/py35/lib/python3.5/site-packages/ipykernel/__main__.py:2: UserWarning: The `nb_epoch` argument in `fit` has been renamed `epochs`.\n",
      "  from ipykernel import kernelapp as app\n"
     ]
    },
    {
     "name": "stdout",
     "output_type": "stream",
     "text": [
      "Train on 36000 samples, validate on 24000 samples\n",
      "Epoch 1/100\n",
      "36000/36000 [==============================] - 29s 812us/step - loss: 0.1561 - accuracy: 0.9529 - val_loss: 0.0760 - val_accuracy: 0.9775\n",
      "Epoch 2/100\n",
      "36000/36000 [==============================] - 23s 635us/step - loss: 0.0532 - accuracy: 0.9839 - val_loss: 0.0679 - val_accuracy: 0.9797\n",
      "Epoch 3/100\n",
      "36000/36000 [==============================] - 23s 639us/step - loss: 0.0303 - accuracy: 0.9908 - val_loss: 0.0646 - val_accuracy: 0.9800\n",
      "Epoch 4/100\n",
      "36000/36000 [==============================] - 23s 634us/step - loss: 0.0182 - accuracy: 0.9941 - val_loss: 0.0849 - val_accuracy: 0.9796\n",
      "Epoch 5/100\n",
      "36000/36000 [==============================] - 23s 633us/step - loss: 0.0115 - accuracy: 0.9963 - val_loss: 0.0765 - val_accuracy: 0.9826\n",
      "Epoch 6/100\n",
      "36000/36000 [==============================] - 23s 633us/step - loss: 0.0106 - accuracy: 0.9967 - val_loss: 0.0840 - val_accuracy: 0.9815\n",
      "Epoch 7/100\n",
      "36000/36000 [==============================] - 23s 639us/step - loss: 0.0066 - accuracy: 0.9979 - val_loss: 0.0796 - val_accuracy: 0.9828\n",
      "Epoch 8/100\n",
      "36000/36000 [==============================] - 23s 635us/step - loss: 0.0057 - accuracy: 0.9983 - val_loss: 0.0861 - val_accuracy: 0.9832\n",
      "Epoch 9/100\n",
      "36000/36000 [==============================] - 23s 636us/step - loss: 0.0071 - accuracy: 0.9975 - val_loss: 0.0954 - val_accuracy: 0.9813\n",
      "Epoch 10/100\n",
      "36000/36000 [==============================] - 23s 634us/step - loss: 0.0048 - accuracy: 0.9988 - val_loss: 0.1007 - val_accuracy: 0.9828\n",
      "Epoch 11/100\n",
      "36000/36000 [==============================] - 23s 635us/step - loss: 0.0038 - accuracy: 0.9990 - val_loss: 0.0992 - val_accuracy: 0.9830\n",
      "Epoch 12/100\n",
      "36000/36000 [==============================] - 23s 636us/step - loss: 0.0031 - accuracy: 0.9989 - val_loss: 0.1010 - val_accuracy: 0.9816\n",
      "Epoch 13/100\n",
      "36000/36000 [==============================] - 23s 636us/step - loss: 0.0040 - accuracy: 0.9985 - val_loss: 0.1280 - val_accuracy: 0.9813\n",
      "Epoch 14/100\n",
      "36000/36000 [==============================] - 23s 639us/step - loss: 0.0040 - accuracy: 0.9987 - val_loss: 0.1129 - val_accuracy: 0.9828\n",
      "Epoch 15/100\n",
      "36000/36000 [==============================] - 23s 637us/step - loss: 0.0020 - accuracy: 0.9992 - val_loss: 0.1132 - val_accuracy: 0.9858\n",
      "Epoch 16/100\n",
      "36000/36000 [==============================] - 23s 640us/step - loss: 0.0028 - accuracy: 0.9991 - val_loss: 0.1454 - val_accuracy: 0.9801\n",
      "Epoch 17/100\n",
      "36000/36000 [==============================] - 23s 636us/step - loss: 0.0039 - accuracy: 0.9989 - val_loss: 0.1250 - val_accuracy: 0.9839\n",
      "Epoch 18/100\n",
      "36000/36000 [==============================] - 23s 638us/step - loss: 0.0029 - accuracy: 0.9992 - val_loss: 0.1297 - val_accuracy: 0.9828\n",
      "Epoch 19/100\n",
      "36000/36000 [==============================] - 23s 638us/step - loss: 0.0024 - accuracy: 0.9992 - val_loss: 0.1376 - val_accuracy: 0.9832\n",
      "Epoch 20/100\n",
      "36000/36000 [==============================] - 23s 640us/step - loss: 0.0018 - accuracy: 0.9994 - val_loss: 0.1345 - val_accuracy: 0.9833\n",
      "Epoch 21/100\n",
      "36000/36000 [==============================] - 23s 644us/step - loss: 0.0023 - accuracy: 0.9994 - val_loss: 0.1426 - val_accuracy: 0.9826\n",
      "Epoch 22/100\n",
      "36000/36000 [==============================] - 24s 655us/step - loss: 0.0023 - accuracy: 0.9994 - val_loss: 0.1494 - val_accuracy: 0.9827\n",
      "Epoch 23/100\n",
      "36000/36000 [==============================] - 23s 646us/step - loss: 0.0016 - accuracy: 0.9994 - val_loss: 0.1750 - val_accuracy: 0.9816\n",
      "Epoch 24/100\n",
      "36000/36000 [==============================] - 23s 650us/step - loss: 0.0024 - accuracy: 0.9993 - val_loss: 0.1384 - val_accuracy: 0.9840\n",
      "Epoch 25/100\n",
      "36000/36000 [==============================] - 23s 648us/step - loss: 0.0024 - accuracy: 0.9994 - val_loss: 0.1620 - val_accuracy: 0.9812\n",
      "Epoch 26/100\n",
      "36000/36000 [==============================] - 23s 640us/step - loss: 0.0015 - accuracy: 0.9996 - val_loss: 0.1439 - val_accuracy: 0.9844\n",
      "Epoch 27/100\n",
      "36000/36000 [==============================] - 23s 640us/step - loss: 0.0020 - accuracy: 0.9992 - val_loss: 0.1806 - val_accuracy: 0.9812\n",
      "Epoch 28/100\n",
      "36000/36000 [==============================] - 23s 638us/step - loss: 0.0028 - accuracy: 0.9991 - val_loss: 0.1771 - val_accuracy: 0.9827\n",
      "Epoch 29/100\n",
      "36000/36000 [==============================] - 23s 638us/step - loss: 0.0019 - accuracy: 0.9995 - val_loss: 0.1587 - val_accuracy: 0.9843\n",
      "Epoch 30/100\n",
      "36000/36000 [==============================] - 23s 639us/step - loss: 6.9742e-05 - accuracy: 1.0000 - val_loss: 0.1832 - val_accuracy: 0.9817\n",
      "Epoch 31/100\n",
      "36000/36000 [==============================] - 23s 638us/step - loss: 0.0024 - accuracy: 0.9994 - val_loss: 0.1873 - val_accuracy: 0.9817\n",
      "Epoch 32/100\n",
      "36000/36000 [==============================] - 23s 636us/step - loss: 0.0010 - accuracy: 0.9999 - val_loss: 0.1630 - val_accuracy: 0.9851\n",
      "Epoch 33/100\n",
      "36000/36000 [==============================] - 23s 638us/step - loss: 0.0020 - accuracy: 0.9994 - val_loss: 0.1549 - val_accuracy: 0.9837\n",
      "Epoch 34/100\n",
      "36000/36000 [==============================] - 23s 636us/step - loss: 0.0015 - accuracy: 0.9996 - val_loss: 0.1649 - val_accuracy: 0.9845\n",
      "Epoch 35/100\n",
      "36000/36000 [==============================] - 23s 638us/step - loss: 4.8078e-04 - accuracy: 0.9999 - val_loss: 0.1935 - val_accuracy: 0.9834\n",
      "Epoch 36/100\n",
      "36000/36000 [==============================] - 23s 639us/step - loss: 0.0029 - accuracy: 0.9992 - val_loss: 0.1540 - val_accuracy: 0.9850\n",
      "Epoch 37/100\n",
      "36000/36000 [==============================] - 23s 637us/step - loss: 0.0021 - accuracy: 0.9996 - val_loss: 0.2188 - val_accuracy: 0.9805\n",
      "Epoch 38/100\n",
      "36000/36000 [==============================] - 23s 638us/step - loss: 8.1860e-04 - accuracy: 0.9997 - val_loss: 0.1650 - val_accuracy: 0.9851\n",
      "Epoch 39/100\n",
      "36000/36000 [==============================] - 23s 640us/step - loss: 0.0021 - accuracy: 0.9994 - val_loss: 0.1932 - val_accuracy: 0.9828\n",
      "Epoch 40/100\n",
      "36000/36000 [==============================] - 23s 639us/step - loss: 8.2699e-04 - accuracy: 0.9998 - val_loss: 0.1724 - val_accuracy: 0.9853\n",
      "Epoch 41/100\n",
      "36000/36000 [==============================] - 23s 640us/step - loss: 2.8128e-04 - accuracy: 0.9999 - val_loss: 0.2131 - val_accuracy: 0.9830\n",
      "Epoch 42/100\n",
      "36000/36000 [==============================] - 23s 638us/step - loss: 0.0043 - accuracy: 0.9991 - val_loss: 0.2204 - val_accuracy: 0.9820\n",
      "Epoch 43/100\n",
      "36000/36000 [==============================] - 23s 648us/step - loss: 7.4866e-04 - accuracy: 0.9997 - val_loss: 0.1888 - val_accuracy: 0.9855\n",
      "Epoch 44/100\n",
      "36000/36000 [==============================] - 23s 642us/step - loss: 1.0967e-04 - accuracy: 1.0000 - val_loss: 0.2621 - val_accuracy: 0.9811\n",
      "Epoch 45/100\n",
      "36000/36000 [==============================] - 23s 639us/step - loss: 0.0016 - accuracy: 0.9996 - val_loss: 0.2157 - val_accuracy: 0.9850\n",
      "Epoch 46/100\n",
      "36000/36000 [==============================] - 23s 643us/step - loss: 9.1421e-04 - accuracy: 0.9998 - val_loss: 0.2502 - val_accuracy: 0.9828\n",
      "Epoch 47/100\n",
      "36000/36000 [==============================] - 23s 640us/step - loss: 0.0025 - accuracy: 0.9994 - val_loss: 0.2181 - val_accuracy: 0.9846\n",
      "Epoch 48/100\n",
      "36000/36000 [==============================] - 23s 642us/step - loss: 1.4443e-04 - accuracy: 0.9999 - val_loss: 0.2096 - val_accuracy: 0.9848\n",
      "Epoch 49/100\n",
      "36000/36000 [==============================] - 23s 639us/step - loss: 0.0025 - accuracy: 0.9995 - val_loss: 0.2269 - val_accuracy: 0.9840\n",
      "Epoch 50/100\n",
      "36000/36000 [==============================] - 23s 639us/step - loss: 0.0024 - accuracy: 0.9994 - val_loss: 0.2624 - val_accuracy: 0.9827\n",
      "Epoch 51/100\n",
      "36000/36000 [==============================] - 23s 639us/step - loss: 0.0012 - accuracy: 0.9997 - val_loss: 0.2520 - val_accuracy: 0.9841\n",
      "Epoch 52/100\n",
      "36000/36000 [==============================] - 23s 641us/step - loss: 9.3796e-04 - accuracy: 0.9998 - val_loss: 0.2819 - val_accuracy: 0.9841\n",
      "Epoch 53/100\n",
      "36000/36000 [==============================] - 23s 636us/step - loss: 0.0020 - accuracy: 0.9994 - val_loss: 0.2666 - val_accuracy: 0.9838\n",
      "Epoch 54/100\n",
      "36000/36000 [==============================] - 23s 640us/step - loss: 0.0015 - accuracy: 0.9996 - val_loss: 0.2513 - val_accuracy: 0.9855\n"
     ]
    },
    {
     "name": "stdout",
     "output_type": "stream",
     "text": [
      "Epoch 55/100\n",
      "36000/36000 [==============================] - 23s 642us/step - loss: 0.0015 - accuracy: 0.9998 - val_loss: 0.2237 - val_accuracy: 0.9859\n",
      "Epoch 56/100\n",
      "36000/36000 [==============================] - 23s 643us/step - loss: 0.0017 - accuracy: 0.9995 - val_loss: 0.2490 - val_accuracy: 0.9845\n",
      "Epoch 57/100\n",
      "36000/36000 [==============================] - 23s 639us/step - loss: 0.0024 - accuracy: 0.9996 - val_loss: 0.2868 - val_accuracy: 0.9828\n",
      "Epoch 58/100\n",
      "36000/36000 [==============================] - 23s 636us/step - loss: 0.0031 - accuracy: 0.9994 - val_loss: 0.2435 - val_accuracy: 0.9849\n",
      "Epoch 59/100\n",
      "36000/36000 [==============================] - 23s 642us/step - loss: 1.2268e-05 - accuracy: 1.0000 - val_loss: 0.2386 - val_accuracy: 0.9853\n",
      "Epoch 60/100\n",
      "36000/36000 [==============================] - 23s 635us/step - loss: 7.5182e-07 - accuracy: 1.0000 - val_loss: 0.2300 - val_accuracy: 0.9857\n",
      "Epoch 61/100\n",
      "36000/36000 [==============================] - 23s 637us/step - loss: 2.0268e-08 - accuracy: 1.0000 - val_loss: 0.2309 - val_accuracy: 0.9858\n",
      "Epoch 62/100\n",
      "36000/36000 [==============================] - 23s 640us/step - loss: 6.8082e-09 - accuracy: 1.0000 - val_loss: 0.2312 - val_accuracy: 0.9859\n",
      "Epoch 63/100\n",
      "36000/36000 [==============================] - 23s 637us/step - loss: 2.3776e-09 - accuracy: 1.0000 - val_loss: 0.2324 - val_accuracy: 0.9860\n",
      "Epoch 64/100\n",
      "36000/36000 [==============================] - 23s 639us/step - loss: 1.0033e-09 - accuracy: 1.0000 - val_loss: 0.2348 - val_accuracy: 0.9860\n",
      "Epoch 65/100\n",
      "36000/36000 [==============================] - 23s 634us/step - loss: 3.6094e-10 - accuracy: 1.0000 - val_loss: 0.2397 - val_accuracy: 0.9863\n",
      "Epoch 66/100\n",
      "36000/36000 [==============================] - 23s 635us/step - loss: 2.1193e-10 - accuracy: 1.0000 - val_loss: 0.2451 - val_accuracy: 0.9862\n",
      "Epoch 67/100\n",
      "36000/36000 [==============================] - 23s 635us/step - loss: 6.9539e-11 - accuracy: 1.0000 - val_loss: 0.2444 - val_accuracy: 0.9866\n",
      "Epoch 68/100\n",
      "36000/36000 [==============================] - 23s 636us/step - loss: 1.9868e-11 - accuracy: 1.0000 - val_loss: 0.2448 - val_accuracy: 0.9863\n",
      "Epoch 69/100\n",
      "36000/36000 [==============================] - 23s 635us/step - loss: 2.9802e-11 - accuracy: 1.0000 - val_loss: 0.2448 - val_accuracy: 0.9864\n",
      "Epoch 70/100\n",
      "36000/36000 [==============================] - 23s 637us/step - loss: 3.3114e-12 - accuracy: 1.0000 - val_loss: 0.2421 - val_accuracy: 0.9865\n",
      "Epoch 71/100\n",
      "36000/36000 [==============================] - 23s 636us/step - loss: 6.6227e-12 - accuracy: 1.0000 - val_loss: 0.2421 - val_accuracy: 0.9863\n",
      "Epoch 72/100\n",
      "36000/36000 [==============================] - 23s 635us/step - loss: 6.6227e-12 - accuracy: 1.0000 - val_loss: 0.2409 - val_accuracy: 0.9863\n",
      "Epoch 73/100\n",
      "36000/36000 [==============================] - 23s 636us/step - loss: 6.6227e-12 - accuracy: 1.0000 - val_loss: 0.2404 - val_accuracy: 0.9861\n",
      "Epoch 74/100\n",
      "36000/36000 [==============================] - 23s 636us/step - loss: 3.3114e-12 - accuracy: 1.0000 - val_loss: 0.2396 - val_accuracy: 0.9862\n",
      "Epoch 75/100\n",
      "36000/36000 [==============================] - 23s 631us/step - loss: 0.0000e+00 - accuracy: 1.0000 - val_loss: 0.2387 - val_accuracy: 0.9860\n",
      "Epoch 76/100\n",
      "36000/36000 [==============================] - 23s 639us/step - loss: 6.6227e-12 - accuracy: 1.0000 - val_loss: 0.2375 - val_accuracy: 0.9860\n",
      "Epoch 77/100\n",
      "36000/36000 [==============================] - 23s 641us/step - loss: 6.6227e-12 - accuracy: 1.0000 - val_loss: 0.2379 - val_accuracy: 0.9860\n",
      "Epoch 78/100\n",
      "36000/36000 [==============================] - 23s 639us/step - loss: 0.0000e+00 - accuracy: 1.0000 - val_loss: 0.2372 - val_accuracy: 0.9860\n",
      "Epoch 79/100\n",
      "36000/36000 [==============================] - 23s 634us/step - loss: 6.6227e-12 - accuracy: 1.0000 - val_loss: 0.2372 - val_accuracy: 0.9861\n",
      "Epoch 80/100\n",
      "36000/36000 [==============================] - 23s 634us/step - loss: 0.0000e+00 - accuracy: 1.0000 - val_loss: 0.2369 - val_accuracy: 0.9860\n",
      "Epoch 81/100\n",
      "36000/36000 [==============================] - 23s 632us/step - loss: 3.3114e-12 - accuracy: 1.0000 - val_loss: 0.2386 - val_accuracy: 0.9861\n",
      "Epoch 82/100\n",
      "36000/36000 [==============================] - 23s 633us/step - loss: 0.0000e+00 - accuracy: 1.0000 - val_loss: 0.2378 - val_accuracy: 0.9861\n",
      "Epoch 83/100\n",
      "36000/36000 [==============================] - 23s 633us/step - loss: 0.0000e+00 - accuracy: 1.0000 - val_loss: 0.2368 - val_accuracy: 0.9861\n",
      "Epoch 84/100\n",
      "36000/36000 [==============================] - 23s 633us/step - loss: 0.0000e+00 - accuracy: 1.0000 - val_loss: 0.2375 - val_accuracy: 0.9860\n",
      "Epoch 85/100\n",
      "36000/36000 [==============================] - 23s 633us/step - loss: 0.0000e+00 - accuracy: 1.0000 - val_loss: 0.2371 - val_accuracy: 0.9862\n",
      "Epoch 86/100\n",
      "36000/36000 [==============================] - 23s 632us/step - loss: 0.0000e+00 - accuracy: 1.0000 - val_loss: 0.2369 - val_accuracy: 0.9861\n",
      "Epoch 87/100\n",
      "36000/36000 [==============================] - 23s 636us/step - loss: 0.0000e+00 - accuracy: 1.0000 - val_loss: 0.2374 - val_accuracy: 0.9861\n",
      "Epoch 88/100\n",
      "36000/36000 [==============================] - 23s 635us/step - loss: 0.0000e+00 - accuracy: 1.0000 - val_loss: 0.2376 - val_accuracy: 0.9860\n",
      "Epoch 89/100\n",
      "36000/36000 [==============================] - 23s 632us/step - loss: 0.0000e+00 - accuracy: 1.0000 - val_loss: 0.2378 - val_accuracy: 0.9860\n",
      "Epoch 90/100\n",
      "36000/36000 [==============================] - 23s 634us/step - loss: 0.0000e+00 - accuracy: 1.0000 - val_loss: 0.2386 - val_accuracy: 0.9861\n",
      "Epoch 91/100\n",
      "36000/36000 [==============================] - 23s 632us/step - loss: 0.0000e+00 - accuracy: 1.0000 - val_loss: 0.2388 - val_accuracy: 0.9861\n",
      "Epoch 92/100\n",
      "36000/36000 [==============================] - 23s 632us/step - loss: 0.0000e+00 - accuracy: 1.0000 - val_loss: 0.2391 - val_accuracy: 0.9861\n",
      "Epoch 93/100\n",
      "36000/36000 [==============================] - 23s 634us/step - loss: 0.0000e+00 - accuracy: 1.0000 - val_loss: 0.2399 - val_accuracy: 0.9862\n",
      "Epoch 94/100\n",
      "36000/36000 [==============================] - 23s 629us/step - loss: 0.0000e+00 - accuracy: 1.0000 - val_loss: 0.2402 - val_accuracy: 0.9862\n",
      "Epoch 95/100\n",
      "36000/36000 [==============================] - 23s 630us/step - loss: 0.0000e+00 - accuracy: 1.0000 - val_loss: 0.2407 - val_accuracy: 0.9862\n",
      "Epoch 96/100\n",
      "36000/36000 [==============================] - 23s 631us/step - loss: 0.0000e+00 - accuracy: 1.0000 - val_loss: 0.2411 - val_accuracy: 0.9863\n",
      "Epoch 97/100\n",
      "36000/36000 [==============================] - 23s 630us/step - loss: 0.0000e+00 - accuracy: 1.0000 - val_loss: 0.2411 - val_accuracy: 0.9862\n",
      "Epoch 98/100\n",
      "36000/36000 [==============================] - 23s 630us/step - loss: 0.0000e+00 - accuracy: 1.0000 - val_loss: 0.2417 - val_accuracy: 0.9863\n",
      "Epoch 99/100\n",
      "36000/36000 [==============================] - 23s 636us/step - loss: 0.0000e+00 - accuracy: 1.0000 - val_loss: 0.2419 - val_accuracy: 0.9863\n",
      "Epoch 100/100\n",
      "36000/36000 [==============================] - 23s 636us/step - loss: 0.0000e+00 - accuracy: 1.0000 - val_loss: 0.2427 - val_accuracy: 0.9862\n"
     ]
    }
   ],
   "source": [
    "# 7. 모델 학습시키기\n",
    "history = model.fit(x_train_re, y_train_en, nb_epoch = 100, validation_split=0.4, batch_size=10)"
   ]
  },
  {
   "cell_type": "code",
   "execution_count": 27,
   "metadata": {},
   "outputs": [
    {
     "name": "stdout",
     "output_type": "stream",
     "text": [
      "60000/60000 [==============================] - 4s 75us/step\n",
      "10000/10000 [==============================] - 1s 76us/step\n",
      "[0.09707885416873052, 0.9944833517074585]\n",
      "[0.18960208258898714, 0.987500011920929]\n"
     ]
    }
   ],
   "source": [
    "# 8. 모델 평가하기\n",
    "train_acc = model.evaluate(x_train_re, y_train_en)\n",
    "test_acc = model.evaluate(x_test_re, y_test_en)\n",
    "\n",
    "print(train_acc)\n",
    "print(test_acc)"
   ]
  },
  {
   "cell_type": "code",
   "execution_count": 30,
   "metadata": {},
   "outputs": [
    {
     "data": {
      "image/png": "[encoded data removed]",
      "text/plain": [
       "<Figure size 216x216 with 1 Axes>"
      ]
     },
     "metadata": {
      "needs_background": "light"
     },
     "output_type": "display_data"
    },
    {
     "data": {
      "image/png": "[encoded data removed]",
      "text/plain": [
       "<Figure size 216x216 with 1 Axes>"
      ]
     },
     "metadata": {
      "needs_background": "light"
     },
     "output_type": "display_data"
    },
    {
     "data": {
      "image/png": "[encoded data removed]",
      "text/plain": [
       "<Figure size 216x216 with 1 Axes>"
      ]
     },
     "metadata": {
      "needs_background": "light"
     },
     "output_type": "display_data"
    }
   ],
   "source": [
    "# 9. 이미지를 랜덤으로 선택해 훈련된 모델로 예측 🖼\n",
    "\n",
    "import numpy\n",
    "for index in numpy.random.choice(len(y_test_en), 3, replace = False):\n",
    "    predicted = model.predict(x_test_re[index:index + 1])[0]\n",
    "    label = y_test[index]\n",
    "    result_label = numpy.where(label == numpy.amax(label))\n",
    "    result_predicted = numpy.where(predicted == numpy.amax(predicted))\n",
    "    title = \"Label value = %s  Predicted value = %s \" % (result_label[0], result_predicted[0])\n",
    "    \n",
    "    fig = plt.figure(1, figsize = (3,3))\n",
    "    ax1 = fig.add_axes((0,0,.8,.8))\n",
    "    ax1.set_title(title)\n",
    "    images = x_test\n",
    "    plt.imshow(images[index].reshape(28, 28), cmap = 'Greys', interpolation = 'nearest')\n",
    "    plt.show()"
   ]
  },
  {
   "cell_type": "code",
   "execution_count": 31,
   "metadata": {},
   "outputs": [
    {
     "data": {
      "image/png": "[encoded data removed]",
      "text/plain": [
       "<Figure size 432x288 with 1 Axes>"
      ]
     },
     "metadata": {
      "needs_background": "light"
     },
     "output_type": "display_data"
    }
   ],
   "source": [
    "# 10. 학습 시각화하기\n",
    "import matplotlib.pyplot as plt\n",
    "\n",
    "plt.plot(history.history['loss'])\n",
    "plt.plot(history.history['val_loss'])\n",
    "plt.title('Loss')\n",
    "plt.ylabel('loss')\n",
    "plt.xlabel('epoch')\n",
    "plt.legend(['train', 'val_loss'], loc = 'upper left')\n",
    "plt.show()"
   ]
  },
  {
   "cell_type": "code",
   "execution_count": null,
   "metadata": {},
   "outputs": [],
   "source": []
  }
 ],
 "metadata": {
  "kernelspec": {
   "display_name": "Python 3.5",
   "language": "python",
   "name": "python3"
  },
  "language_info": {
   "codemirror_mode": {
    "name": "ipython",
    "version": 3
   },
   "file_extension": ".py",
   "mimetype": "text/x-python",
   "name": "python",
   "nbconvert_exporter": "python",
   "pygments_lexer": "ipython3",
   "version": "3.5.6"
  }
 },
 "nbformat": 4,
 "nbformat_minor": 2
}
